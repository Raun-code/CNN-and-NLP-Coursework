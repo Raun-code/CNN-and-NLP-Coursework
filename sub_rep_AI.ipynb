{
 "cells": [
  {
   "cell_type": "markdown",
   "id": "c5f695b8-0183-4727-a990-b44b1f83f6da",
   "metadata": {},
   "source": [
    "# Importing basic libraries:"
   ]
  },
  {
   "cell_type": "code",
   "execution_count": 1,
   "id": "0c556435-6ccb-44f1-b4d8-8bc540e9ba1e",
   "metadata": {},
   "outputs": [],
   "source": [
    "import pandas as pd\n",
    "import matplotlib.pyplot as plt\n",
    "import numpy as np\n",
    "import spacy"
   ]
  },
  {
   "cell_type": "code",
   "execution_count": 2,
   "id": "1b8b6954-502c-4874-b42a-fd55d82135e5",
   "metadata": {},
   "outputs": [
    {
     "name": "stdout",
     "output_type": "stream",
     "text": [
      "NumPy version: 1.26.4\n",
      "SciPy version: 1.13.1\n",
      "scikit-learn version: 1.5.1\n",
      "imblearn version: 0.12.3\n"
     ]
    }
   ],
   "source": [
    "import numpy\n",
    "import scipy\n",
    "import sklearn\n",
    "import imblearn\n",
    "\n",
    "print(\"NumPy version:\", numpy.__version__)\n",
    "print(\"SciPy version:\", scipy.__version__)\n",
    "print(\"scikit-learn version:\", sklearn.__version__)\n",
    "print(\"imblearn version:\", imblearn.__version__)\n"
   ]
  },
  {
   "cell_type": "markdown",
   "id": "2e7686e0-80ee-4e2a-b668-7328deaf3320",
   "metadata": {},
   "source": [
    "# Loading the dataset"
   ]
  },
  {
   "cell_type": "code",
   "execution_count": 90,
   "id": "5d0dde22-1fd7-43f7-81bb-050c0a24f918",
   "metadata": {},
   "outputs": [
    {
     "data": {
      "text/html": [
       "<div>\n",
       "<style scoped>\n",
       "    .dataframe tbody tr th:only-of-type {\n",
       "        vertical-align: middle;\n",
       "    }\n",
       "\n",
       "    .dataframe tbody tr th {\n",
       "        vertical-align: top;\n",
       "    }\n",
       "\n",
       "    .dataframe thead th {\n",
       "        text-align: right;\n",
       "    }\n",
       "</style>\n",
       "<table border=\"1\" class=\"dataframe\">\n",
       "  <thead>\n",
       "    <tr style=\"text-align: right;\">\n",
       "      <th></th>\n",
       "      <th>Unnamed: 0</th>\n",
       "      <th>statement</th>\n",
       "      <th>status</th>\n",
       "    </tr>\n",
       "  </thead>\n",
       "  <tbody>\n",
       "    <tr>\n",
       "      <th>0</th>\n",
       "      <td>0</td>\n",
       "      <td>oh my gosh</td>\n",
       "      <td>Anxiety</td>\n",
       "    </tr>\n",
       "    <tr>\n",
       "      <th>1</th>\n",
       "      <td>1</td>\n",
       "      <td>trouble sleeping, confused mind, restless hear...</td>\n",
       "      <td>Anxiety</td>\n",
       "    </tr>\n",
       "    <tr>\n",
       "      <th>2</th>\n",
       "      <td>2</td>\n",
       "      <td>All wrong, back off dear, forward doubt. Stay ...</td>\n",
       "      <td>Anxiety</td>\n",
       "    </tr>\n",
       "    <tr>\n",
       "      <th>3</th>\n",
       "      <td>3</td>\n",
       "      <td>I've shifted my focus to something else but I'...</td>\n",
       "      <td>Anxiety</td>\n",
       "    </tr>\n",
       "    <tr>\n",
       "      <th>4</th>\n",
       "      <td>4</td>\n",
       "      <td>I'm restless and restless, it's been a month n...</td>\n",
       "      <td>Anxiety</td>\n",
       "    </tr>\n",
       "  </tbody>\n",
       "</table>\n",
       "</div>"
      ],
      "text/plain": [
       "   Unnamed: 0                                          statement   status\n",
       "0           0                                         oh my gosh  Anxiety\n",
       "1           1  trouble sleeping, confused mind, restless hear...  Anxiety\n",
       "2           2  All wrong, back off dear, forward doubt. Stay ...  Anxiety\n",
       "3           3  I've shifted my focus to something else but I'...  Anxiety\n",
       "4           4  I'm restless and restless, it's been a month n...  Anxiety"
      ]
     },
     "execution_count": 90,
     "metadata": {},
     "output_type": "execute_result"
    }
   ],
   "source": [
    "df=pd.read_csv('Combined Data.csv/Combined Data.csv')\n",
    "df.head()"
   ]
  },
  {
   "cell_type": "code",
   "execution_count": 91,
   "id": "7b96b695-f9c4-447f-a3e7-6fd98a16fb50",
   "metadata": {},
   "outputs": [
    {
     "data": {
      "text/html": [
       "<div>\n",
       "<style scoped>\n",
       "    .dataframe tbody tr th:only-of-type {\n",
       "        vertical-align: middle;\n",
       "    }\n",
       "\n",
       "    .dataframe tbody tr th {\n",
       "        vertical-align: top;\n",
       "    }\n",
       "\n",
       "    .dataframe thead th {\n",
       "        text-align: right;\n",
       "    }\n",
       "</style>\n",
       "<table border=\"1\" class=\"dataframe\">\n",
       "  <thead>\n",
       "    <tr style=\"text-align: right;\">\n",
       "      <th></th>\n",
       "      <th>statement</th>\n",
       "      <th>status</th>\n",
       "    </tr>\n",
       "  </thead>\n",
       "  <tbody>\n",
       "    <tr>\n",
       "      <th>0</th>\n",
       "      <td>oh my gosh</td>\n",
       "      <td>Anxiety</td>\n",
       "    </tr>\n",
       "    <tr>\n",
       "      <th>1</th>\n",
       "      <td>trouble sleeping, confused mind, restless hear...</td>\n",
       "      <td>Anxiety</td>\n",
       "    </tr>\n",
       "    <tr>\n",
       "      <th>2</th>\n",
       "      <td>All wrong, back off dear, forward doubt. Stay ...</td>\n",
       "      <td>Anxiety</td>\n",
       "    </tr>\n",
       "    <tr>\n",
       "      <th>3</th>\n",
       "      <td>I've shifted my focus to something else but I'...</td>\n",
       "      <td>Anxiety</td>\n",
       "    </tr>\n",
       "    <tr>\n",
       "      <th>4</th>\n",
       "      <td>I'm restless and restless, it's been a month n...</td>\n",
       "      <td>Anxiety</td>\n",
       "    </tr>\n",
       "  </tbody>\n",
       "</table>\n",
       "</div>"
      ],
      "text/plain": [
       "                                           statement   status\n",
       "0                                         oh my gosh  Anxiety\n",
       "1  trouble sleeping, confused mind, restless hear...  Anxiety\n",
       "2  All wrong, back off dear, forward doubt. Stay ...  Anxiety\n",
       "3  I've shifted my focus to something else but I'...  Anxiety\n",
       "4  I'm restless and restless, it's been a month n...  Anxiety"
      ]
     },
     "execution_count": 91,
     "metadata": {},
     "output_type": "execute_result"
    }
   ],
   "source": [
    "# Drop the 'Unnamed: 0' column\n",
    "df = df.drop(columns=['Unnamed: 0'])\n",
    "\n",
    "# Display the first few rows to verify\n",
    "df.head()"
   ]
  },
  {
   "cell_type": "code",
   "execution_count": 92,
   "id": "bdb1b4ad-461b-4c95-b562-5f6278495fef",
   "metadata": {},
   "outputs": [
    {
     "data": {
      "text/html": [
       "<div>\n",
       "<style scoped>\n",
       "    .dataframe tbody tr th:only-of-type {\n",
       "        vertical-align: middle;\n",
       "    }\n",
       "\n",
       "    .dataframe tbody tr th {\n",
       "        vertical-align: top;\n",
       "    }\n",
       "\n",
       "    .dataframe thead th {\n",
       "        text-align: right;\n",
       "    }\n",
       "</style>\n",
       "<table border=\"1\" class=\"dataframe\">\n",
       "  <thead>\n",
       "    <tr style=\"text-align: right;\">\n",
       "      <th></th>\n",
       "      <th>statement</th>\n",
       "      <th>status</th>\n",
       "    </tr>\n",
       "  </thead>\n",
       "  <tbody>\n",
       "    <tr>\n",
       "      <th>53038</th>\n",
       "      <td>Nobody takes me seriously I’ve (24M) dealt wit...</td>\n",
       "      <td>Anxiety</td>\n",
       "    </tr>\n",
       "    <tr>\n",
       "      <th>53039</th>\n",
       "      <td>selfishness  \"I don't feel very good, it's lik...</td>\n",
       "      <td>Anxiety</td>\n",
       "    </tr>\n",
       "    <tr>\n",
       "      <th>53040</th>\n",
       "      <td>Is there any way to sleep better? I can't slee...</td>\n",
       "      <td>Anxiety</td>\n",
       "    </tr>\n",
       "    <tr>\n",
       "      <th>53041</th>\n",
       "      <td>Public speaking tips? Hi, all. I have to give ...</td>\n",
       "      <td>Anxiety</td>\n",
       "    </tr>\n",
       "    <tr>\n",
       "      <th>53042</th>\n",
       "      <td>I have really bad door anxiety! It's not about...</td>\n",
       "      <td>Anxiety</td>\n",
       "    </tr>\n",
       "  </tbody>\n",
       "</table>\n",
       "</div>"
      ],
      "text/plain": [
       "                                               statement   status\n",
       "53038  Nobody takes me seriously I’ve (24M) dealt wit...  Anxiety\n",
       "53039  selfishness  \"I don't feel very good, it's lik...  Anxiety\n",
       "53040  Is there any way to sleep better? I can't slee...  Anxiety\n",
       "53041  Public speaking tips? Hi, all. I have to give ...  Anxiety\n",
       "53042  I have really bad door anxiety! It's not about...  Anxiety"
      ]
     },
     "execution_count": 92,
     "metadata": {},
     "output_type": "execute_result"
    }
   ],
   "source": [
    "df.tail()"
   ]
  },
  {
   "cell_type": "code",
   "execution_count": 93,
   "id": "fdb4e68b-2b15-495c-8db2-2b1aac10560c",
   "metadata": {},
   "outputs": [
    {
     "name": "stdout",
     "output_type": "stream",
     "text": [
      "<class 'pandas.core.frame.DataFrame'>\n",
      "RangeIndex: 53043 entries, 0 to 53042\n",
      "Data columns (total 2 columns):\n",
      " #   Column     Non-Null Count  Dtype \n",
      "---  ------     --------------  ----- \n",
      " 0   statement  52681 non-null  object\n",
      " 1   status     53043 non-null  object\n",
      "dtypes: object(2)\n",
      "memory usage: 828.9+ KB\n"
     ]
    }
   ],
   "source": [
    "df.info()"
   ]
  },
  {
   "cell_type": "markdown",
   "id": "3416e0ce-0ac5-4c27-b047-47ba96089e45",
   "metadata": {},
   "source": [
    "# Length of the Dataset"
   ]
  },
  {
   "cell_type": "code",
   "execution_count": 94,
   "id": "c00b53be-5dca-4afb-bd5d-95ad5f70632d",
   "metadata": {},
   "outputs": [
    {
     "data": {
      "text/plain": [
       "53043"
      ]
     },
     "execution_count": 94,
     "metadata": {},
     "output_type": "execute_result"
    }
   ],
   "source": [
    "len(df)"
   ]
  },
  {
   "cell_type": "markdown",
   "id": "6549424c-0a71-440a-864a-3af5acfe7430",
   "metadata": {},
   "source": [
    "# size and shape of the dataset"
   ]
  },
  {
   "cell_type": "code",
   "execution_count": 95,
   "id": "91ca9ef7-308c-442d-9b1c-27e8da6a13a0",
   "metadata": {},
   "outputs": [
    {
     "name": "stdout",
     "output_type": "stream",
     "text": [
      "Number of rows: 53043\n",
      "Number of columns: 2\n"
     ]
    }
   ],
   "source": [
    "print(\"Number of rows:\", df.shape[0])\n",
    "print(\"Number of columns:\", df.shape[1])"
   ]
  },
  {
   "cell_type": "markdown",
   "id": "48c2d799-bb1a-470c-a378-8cf88c3b8a80",
   "metadata": {},
   "source": [
    "# Description of the dataset"
   ]
  },
  {
   "cell_type": "code",
   "execution_count": 96,
   "id": "aee9c1ce-2b67-45c9-b1aa-5effcbfd7f33",
   "metadata": {},
   "outputs": [
    {
     "data": {
      "text/html": [
       "<div>\n",
       "<style scoped>\n",
       "    .dataframe tbody tr th:only-of-type {\n",
       "        vertical-align: middle;\n",
       "    }\n",
       "\n",
       "    .dataframe tbody tr th {\n",
       "        vertical-align: top;\n",
       "    }\n",
       "\n",
       "    .dataframe thead th {\n",
       "        text-align: right;\n",
       "    }\n",
       "</style>\n",
       "<table border=\"1\" class=\"dataframe\">\n",
       "  <thead>\n",
       "    <tr style=\"text-align: right;\">\n",
       "      <th></th>\n",
       "      <th>statement</th>\n",
       "      <th>status</th>\n",
       "    </tr>\n",
       "  </thead>\n",
       "  <tbody>\n",
       "    <tr>\n",
       "      <th>count</th>\n",
       "      <td>52681</td>\n",
       "      <td>53043</td>\n",
       "    </tr>\n",
       "    <tr>\n",
       "      <th>unique</th>\n",
       "      <td>51073</td>\n",
       "      <td>7</td>\n",
       "    </tr>\n",
       "    <tr>\n",
       "      <th>top</th>\n",
       "      <td>what do you mean?</td>\n",
       "      <td>Normal</td>\n",
       "    </tr>\n",
       "    <tr>\n",
       "      <th>freq</th>\n",
       "      <td>22</td>\n",
       "      <td>16351</td>\n",
       "    </tr>\n",
       "  </tbody>\n",
       "</table>\n",
       "</div>"
      ],
      "text/plain": [
       "                statement  status\n",
       "count               52681   53043\n",
       "unique              51073       7\n",
       "top     what do you mean?  Normal\n",
       "freq                   22   16351"
      ]
     },
     "execution_count": 96,
     "metadata": {},
     "output_type": "execute_result"
    }
   ],
   "source": [
    "df.describe()"
   ]
  },
  {
   "cell_type": "markdown",
   "id": "55c7054a-0582-48fa-a5d1-cae541426074",
   "metadata": {},
   "source": [
    "# checking for missing values in the dataframe."
   ]
  },
  {
   "cell_type": "code",
   "execution_count": 97,
   "id": "3dbf99c7-1c23-4ee8-be09-9f0f16380b7a",
   "metadata": {},
   "outputs": [
    {
     "name": "stdout",
     "output_type": "stream",
     "text": [
      "statement    362\n",
      "status         0\n",
      "dtype: int64\n"
     ]
    }
   ],
   "source": [
    "print(df.isnull().sum())"
   ]
  },
  {
   "cell_type": "raw",
   "id": "059af349-e34f-4136-9e6f-c71c59137eac",
   "metadata": {},
   "source": [
    "This DataFrame have two columns: statement and status.\n",
    "\n",
    "statement column has 362 missing values (NaN).\n",
    "status column has no missing values (all values are present)."
   ]
  },
  {
   "cell_type": "markdown",
   "id": "8db8d155-64a9-4c42-88fa-a6f68a7276cd",
   "metadata": {},
   "source": [
    "# Dropping these missing values:"
   ]
  },
  {
   "cell_type": "code",
   "execution_count": 98,
   "id": "40f7d6a1-852c-4848-97ba-16f51f5bf8ff",
   "metadata": {},
   "outputs": [
    {
     "name": "stdout",
     "output_type": "stream",
     "text": [
      "statement    0\n",
      "status       0\n",
      "dtype: int64\n"
     ]
    }
   ],
   "source": [
    "df = df.dropna()\n",
    "print(df.isnull().sum())"
   ]
  },
  {
   "cell_type": "markdown",
   "id": "da90bdc3-ffae-490b-b3b1-b7a4b4d95daa",
   "metadata": {},
   "source": [
    "# Exploratory Data Analysis:"
   ]
  },
  {
   "cell_type": "raw",
   "id": "82f8684d-65f4-4b43-9046-71c13d6a6852",
   "metadata": {},
   "source": [
    "Basic statistics of the dataset"
   ]
  },
  {
   "cell_type": "code",
   "execution_count": 99,
   "id": "9834b608-0057-4b77-8b26-8a2141c94cf2",
   "metadata": {},
   "outputs": [
    {
     "name": "stdout",
     "output_type": "stream",
     "text": [
      "count    52681.000000\n",
      "mean       578.713863\n",
      "std        846.269078\n",
      "min          2.000000\n",
      "25%         80.000000\n",
      "50%        317.000000\n",
      "75%        752.000000\n",
      "max      32759.000000\n",
      "Name: statement_length, dtype: float64\n"
     ]
    }
   ],
   "source": [
    "# Calculate the length of each statement\n",
    "df['statement_length'] = df['statement'].apply(len)\n",
    "\n",
    "# Display basic statistics of statement lengths\n",
    "print(df['statement_length'].describe())"
   ]
  },
  {
   "cell_type": "markdown",
   "id": "ff23d014-23a4-4930-b9a5-a3c0483c0582",
   "metadata": {},
   "source": [
    "# checking the number of nunique values in the dataset"
   ]
  },
  {
   "cell_type": "code",
   "execution_count": 100,
   "id": "2c7e3168-eaa0-455b-a96d-8d3f3728baba",
   "metadata": {},
   "outputs": [
    {
     "data": {
      "text/plain": [
       "7"
      ]
     },
     "execution_count": 100,
     "metadata": {},
     "output_type": "execute_result"
    }
   ],
   "source": [
    "df['status'].nunique()"
   ]
  },
  {
   "cell_type": "markdown",
   "id": "9874d5b7-2c48-439a-bdcc-0981453a469a",
   "metadata": {},
   "source": [
    "# checking the unique values in the dataset."
   ]
  },
  {
   "cell_type": "code",
   "execution_count": 101,
   "id": "3f1828ba-7f5b-4d6a-824d-126969a91fa3",
   "metadata": {},
   "outputs": [
    {
     "data": {
      "text/plain": [
       "array(['Anxiety', 'Normal', 'Depression', 'Suicidal', 'Stress', 'Bipolar',\n",
       "       'Personality disorder'], dtype=object)"
      ]
     },
     "execution_count": 101,
     "metadata": {},
     "output_type": "execute_result"
    }
   ],
   "source": [
    "df['status'].unique()"
   ]
  },
  {
   "cell_type": "markdown",
   "id": "1330a847-70df-4084-86e7-1ee78925c2a8",
   "metadata": {},
   "source": [
    "# number of characters and words per statement:"
   ]
  },
  {
   "cell_type": "code",
   "execution_count": 102,
   "id": "a4c0b9bf-8544-4539-925f-3999a696eaaf",
   "metadata": {},
   "outputs": [
    {
     "name": "stdout",
     "output_type": "stream",
     "text": [
      "Maximum number of characters per statment: 32759\n",
      "Maximum number of words per statment: 6300\n"
     ]
    }
   ],
   "source": [
    "# characters length\n",
    "df['statment_length']=df['statement'].apply(lambda x:len(x))\n",
    "# words length\n",
    "df['num_of_words']=df['statement'].apply(lambda x:len(x.split()))\n",
    "print(\"Maximum number of characters per statment:\", df['statment_length'].max())\n",
    "print(\"Maximum number of words per statment:\", df['num_of_words'].max())\n"
   ]
  },
  {
   "cell_type": "markdown",
   "id": "5b0e5c30-da4a-4610-8a2e-dbd147964e12",
   "metadata": {},
   "source": [
    "# distribution of the 'status' column with their value counts"
   ]
  },
  {
   "cell_type": "code",
   "execution_count": 103,
   "id": "ed8e41fe-23f7-4fa0-a0fa-eeb6d2d29a7b",
   "metadata": {},
   "outputs": [
    {
     "name": "stdout",
     "output_type": "stream",
     "text": [
      "status\n",
      "Normal                  16343\n",
      "Depression              15404\n",
      "Suicidal                10652\n",
      "Anxiety                  3841\n",
      "Bipolar                  2777\n",
      "Stress                   2587\n",
      "Personality disorder     1077\n",
      "Name: count, dtype: int64\n"
     ]
    }
   ],
   "source": [
    "# Check the distribution of the 'status' column with their value counts\n",
    "sentiment_distribution = df['status'].value_counts()\n",
    "\n",
    "# Display the distribution\n",
    "print(sentiment_distribution)"
   ]
  },
  {
   "cell_type": "raw",
   "id": "44745f6a-a496-48ea-8409-e1f431238242",
   "metadata": {},
   "source": [
    "As we can see that the dataset is not balanced because:\n",
    "The class \"Normal\" has 16,343 instances, while the class \"Personality disorder\" has only 1,077 instances.\n",
    "The other classes fall somewhere in between, with \"Depression\" having 15,404 instances and \"Anxiety\" having 3,841 instances."
   ]
  },
  {
   "cell_type": "code",
   "execution_count": 104,
   "id": "ea1f3bf4-edb4-420c-b76b-43376445323e",
   "metadata": {},
   "outputs": [
    {
     "data": {
      "text/plain": [
       "<Axes: title={'center': 'Distribution of Sentiments'}, xlabel='status'>"
      ]
     },
     "execution_count": 104,
     "metadata": {},
     "output_type": "execute_result"
    },
    {
     "data": {
      "image/png": "[encoded data removed]",
      "text/plain": [
       "<Figure size 640x480 with 1 Axes>"
      ]
     },
     "metadata": {},
     "output_type": "display_data"
    }
   ],
   "source": [
    "# plotting graph for visualizations\n",
    "sentiment_distribution.plot(kind='bar', title='Distribution of Sentiments')"
   ]
  },
  {
   "cell_type": "markdown",
   "id": "386d9807-2cb1-41f2-97d2-fc71e3a38026",
   "metadata": {},
   "source": [
    "# Correlation between statement length and number of words"
   ]
  },
  {
   "cell_type": "code",
   "execution_count": 105,
   "id": "e288884e-1c5d-42f4-a69b-01ab06da27a5",
   "metadata": {},
   "outputs": [
    {
     "data": {
      "text/plain": [
       "<Axes: >"
      ]
     },
     "execution_count": 105,
     "metadata": {},
     "output_type": "execute_result"
    },
    {
     "data": {
      "image/png": "[encoded data removed]",
      "text/plain": [
       "<Figure size 640x480 with 2 Axes>"
      ]
     },
     "metadata": {},
     "output_type": "display_data"
    }
   ],
   "source": [
    "import seaborn as sns\n",
    "corr=df[['statment_length','num_of_words']].corr()\n",
    "sns.heatmap(corr,annot=True,fmt='.2f')"
   ]
  },
  {
   "cell_type": "markdown",
   "id": "75db2f4e-4ebe-4ce2-975e-7e25af1abbe5",
   "metadata": {},
   "source": [
    "# Data Preprocessing:"
   ]
  },
  {
   "cell_type": "code",
   "execution_count": 106,
   "id": "2591a290-22f9-4eb8-99aa-56796e38e557",
   "metadata": {},
   "outputs": [
    {
     "name": "stderr",
     "output_type": "stream",
     "text": [
      "[nltk_data] Downloading package stopwords to\n",
      "[nltk_data]     C:\\Users\\masih\\AppData\\Roaming\\nltk_data...\n",
      "[nltk_data]   Package stopwords is already up-to-date!\n",
      "[nltk_data] Downloading package punkt to\n",
      "[nltk_data]     C:\\Users\\masih\\AppData\\Roaming\\nltk_data...\n",
      "[nltk_data]   Package punkt is already up-to-date!\n"
     ]
    }
   ],
   "source": [
    "import pandas as pd\n",
    "import string\n",
    "from nltk.corpus import stopwords\n",
    "from nltk.tokenize import word_tokenize\n",
    "from nltk import download\n",
    "\n",
    "# Download necessary NLTK resources\n",
    "download('stopwords')\n",
    "download('punkt')\n",
    "\n",
    "# Define stopwords\n",
    "stop_words = set(stopwords.words('english'))"
   ]
  },
  {
   "cell_type": "raw",
   "id": "4eb992a3-cf59-4af1-9849-8f0358b546e2",
   "metadata": {},
   "source": [
    "# check for repetive words,stopwords and punctuation and convert words to lower\n",
    "Convert text to lowercase\n",
    "Remove punctuation\n",
    "Remove stopwords\n",
    "Remove repetitive words"
   ]
  },
  {
   "cell_type": "code",
   "execution_count": 107,
   "id": "1b3a3f4b-e1f2-4584-887b-f2abb1d6581a",
   "metadata": {},
   "outputs": [],
   "source": [
    "\n",
    "# Preprocessing function\n",
    "def preprocess_text(text):\n",
    "    # Convert text to lowercase\n",
    "    text = text.lower()\n",
    "    \n",
    "    # Remove punctuation\n",
    "    text = text.translate(str.maketrans('', '', string.punctuation))\n",
    "    \n",
    "    # Tokenize the text\n",
    "    tokens = word_tokenize(text)\n",
    "    \n",
    "    # Remove stopwords\n",
    "    tokens = [word for word in tokens if word not in stop_words]\n",
    "    \n",
    "    # Remove repetitive words (keep only unique words)\n",
    "    tokens = list(set(tokens))\n",
    "    \n",
    "    # Reconstruct the text from tokens\n",
    "    cleaned_text = ' '.join(tokens)\n",
    "    \n",
    "    return cleaned_text\n",
    "\n",
    "\n",
    "\n"
   ]
  },
  {
   "cell_type": "code",
   "execution_count": 108,
   "id": "e3688ee1-4cde-4de4-bbc5-12b6d68239fd",
   "metadata": {},
   "outputs": [
    {
     "name": "stdout",
     "output_type": "stream",
     "text": [
      "                                       cleaned_statement   status\n",
      "0                                                oh gosh  Anxiety\n",
      "1      tune restless heart trouble mind sleeping conf...  Anxiety\n",
      "2      forward restless dear stay place back wrong doubt  Anxiety\n",
      "3      something focus still worried ive im shifted else  Anxiety\n",
      "4                             restless boy month im mean  Anxiety\n",
      "...                                                  ...      ...\n",
      "53038  used meds talk including life ” anything know ...  Anxiety\n",
      "53039  ridiculous affects life ruining know didnt mak...  Anxiety\n",
      "53040       didnt meds better sleep help cant nights way  Anxiety\n",
      "53041  45 past week anything minutes next makes anyon...  Anxiety\n",
      "53042  something doors front wrong way open didnt na ...  Anxiety\n",
      "\n",
      "[52681 rows x 2 columns]\n"
     ]
    }
   ],
   "source": [
    "# Apply preprocessing to the 'statement' column\n",
    "df['cleaned_statement'] = df['statement'].apply(preprocess_text)\n",
    "\n",
    "# Display the DataFrame with cleaned text\n",
    "print(df[['cleaned_statement', 'status']])"
   ]
  },
  {
   "cell_type": "markdown",
   "id": "2876700d-2a70-4a84-9dce-7035ef6a318b",
   "metadata": {},
   "source": [
    "# Balancing the Dataset"
   ]
  },
  {
   "cell_type": "code",
   "execution_count": 109,
   "id": "b508815d-4883-4b1b-a02d-f3438318a9d7",
   "metadata": {},
   "outputs": [
    {
     "name": "stdout",
     "output_type": "stream",
     "text": [
      "Original dataset shape: Counter({'Normal': 16343, 'Depression': 15404, 'Suicidal': 10652, 'Anxiety': 3841, 'Bipolar': 2777, 'Stress': 2587, 'Personality disorder': 1077})\n",
      "Resampled dataset shape: Counter({'Anxiety': 16343, 'Normal': 16343, 'Depression': 16343, 'Suicidal': 16343, 'Stress': 16343, 'Bipolar': 16343, 'Personality disorder': 16343})\n"
     ]
    }
   ],
   "source": [
    "from imblearn.over_sampling import SMOTE\n",
    "from collections import Counter\n",
    "from sklearn.feature_extraction.text import TfidfVectorizer\n",
    "from sklearn.model_selection import train_test_split\n",
    "\n",
    "# Separate the features and the target variable\n",
    "X = df['cleaned_statement']  # Using the preprocessed text data\n",
    "y = df['status']  # Using the original status labels (categorical)\n",
    "\n",
    "# Convert text data to TF-IDF features\n",
    "vectorizer = TfidfVectorizer()\n",
    "X_tfidf = vectorizer.fit_transform(X)\n",
    "\n",
    "# Apply SMOTE to balance the dataset\n",
    "smote = SMOTE(sampling_strategy='auto', random_state=42)\n",
    "X_resampled, y_resampled = smote.fit_resample(X_tfidf, y)\n",
    "\n",
    "# Check the new class distribution\n",
    "print('Original dataset shape:', Counter(y))\n",
    "print('Resampled dataset shape:', Counter(y_resampled))\n",
    "\n",
    "\n"
   ]
  },
  {
   "cell_type": "markdown",
   "id": "be84601d-4cea-4305-a206-fa8647ca2f2a",
   "metadata": {},
   "source": [
    "# Training and Testing Split:"
   ]
  },
  {
   "cell_type": "code",
   "execution_count": 110,
   "id": "0143aa86-daea-44e4-90eb-06c82a1a2de5",
   "metadata": {},
   "outputs": [
    {
     "name": "stdout",
     "output_type": "stream",
     "text": [
      "X_train shape: (91520, 78550)\n",
      "X_test shape: (22881, 78550)\n",
      "y_train shape: (91520,)\n",
      "y_test shape: (22881,)\n"
     ]
    }
   ],
   "source": [
    "# Split the resampled data into train and test sets\n",
    "X_train, X_test, y_train, y_test = train_test_split(X_resampled, y_resampled, test_size=0.2, random_state=42)\n",
    "\n",
    "# Display the shapes of the train and test sets\n",
    "print(f'X_train shape: {X_train.shape}')\n",
    "print(f'X_test shape: {X_test.shape}')\n",
    "print(f'y_train shape: {y_train.shape}')\n",
    "print(f'y_test shape: {y_test.shape}')"
   ]
  },
  {
   "cell_type": "markdown",
   "id": "96c4af70-0588-4c0e-9947-86b018306109",
   "metadata": {},
   "source": [
    "# Baseline Model: Majority Class Classifier."
   ]
  },
  {
   "cell_type": "code",
   "execution_count": 111,
   "id": "fb2cd960-05d7-48a7-86b0-f290ecf7cb6d",
   "metadata": {},
   "outputs": [
    {
     "name": "stdout",
     "output_type": "stream",
     "text": [
      "Accuracy of Majority Class Classifier on Test Data: 0.14\n",
      "Classification Report for Majority Class Classifier:\n",
      "                      precision    recall  f1-score   support\n",
      "\n",
      "             Anxiety       0.00      0.00      0.00      3375\n",
      "             Bipolar       0.00      0.00      0.00      3214\n",
      "          Depression       0.00      0.00      0.00      3274\n",
      "              Normal       0.00      0.00      0.00      3325\n",
      "Personality disorder       0.00      0.00      0.00      3241\n",
      "              Stress       0.14      1.00      0.25      3209\n",
      "            Suicidal       0.00      0.00      0.00      3243\n",
      "\n",
      "            accuracy                           0.14     22881\n",
      "           macro avg       0.02      0.14      0.04     22881\n",
      "        weighted avg       0.02      0.14      0.03     22881\n",
      "\n",
      "ROC-AUC Score: 0.50\n"
     ]
    },
    {
     "data": {
      "image/png": "[encoded data removed]",
      "text/plain": [
       "<Figure size 1000x1200 with 2 Axes>"
      ]
     },
     "metadata": {},
     "output_type": "display_data"
    }
   ],
   "source": [
    "from sklearn.dummy import DummyClassifier\n",
    "from sklearn.metrics import accuracy_score, classification_report, confusion_matrix, roc_auc_score\n",
    "from sklearn.preprocessing import label_binarize\n",
    "import matplotlib.pyplot as plt\n",
    "import seaborn as sns\n",
    "\n",
    "# Initialize the Majority Class Classifier\n",
    "majority_class_clf = DummyClassifier(strategy='most_frequent')\n",
    "\n",
    "# Fit the classifier on the training data\n",
    "majority_class_clf.fit(X_train, y_train)\n",
    "\n",
    "# Make predictions on the test data\n",
    "y_pred = majority_class_clf.predict(X_test)\n",
    "\n",
    "# Calculate accuracy\n",
    "accuracy = accuracy_score(y_test, y_pred)\n",
    "print(f'Accuracy of Majority Class Classifier on Test Data: {accuracy:.2f}')\n",
    "\n",
    "# Print the classification report\n",
    "print(\"Classification Report for Majority Class Classifier:\")\n",
    "print(classification_report(y_test, y_pred, zero_division=0))\n",
    "\n",
    "# Compute the ROC-AUC score (for multi-class problem)\n",
    "# Binarize the output labels for ROC-AUC calculation\n",
    "y_test_bin = label_binarize(y_test, classes=majority_class_clf.classes_)\n",
    "y_pred_bin = label_binarize(y_pred, classes=majority_class_clf.classes_)\n",
    "\n",
    "# Compute the ROC-AUC score\n",
    "roc_auc = roc_auc_score(y_test_bin, y_pred_bin, average='macro', multi_class='ovr')\n",
    "print(f\"ROC-AUC Score: {roc_auc:.2f}\")\n",
    "\n",
    "# Step 2: Visualize the original and resampled class distribution\n",
    "fig, ax = plt.subplots(2, 1, figsize=(10, 12))  \n",
    "# Original class distribution\n",
    "sns.countplot(x=y, ax=ax[0])  # Ensure correct x parameter\n",
    "ax[0].set_title('Original Class Distribution')\n",
    "ax[0].set_xlabel('Class')\n",
    "ax[0].set_ylabel('Count')\n",
    "\n",
    "# Resampled class distribution\n",
    "sns.countplot(x=y_resampled, ax=ax[1])  \n",
    "ax[1].set_title('Resampled Class Distribution (After SMOTE)')\n",
    "ax[1].set_xlabel('Class')\n",
    "ax[1].set_ylabel('Count')\n",
    "\n",
    "plt.tight_layout()  \n",
    "plt.show()\n"
   ]
  },
  {
   "cell_type": "code",
   "execution_count": 113,
   "id": "b4e76be3-2e02-43b5-bd25-3dff8c24b256",
   "metadata": {},
   "outputs": [
    {
     "data": {
      "text/plain": [
       "<Figure size 1000x700 with 0 Axes>"
      ]
     },
     "metadata": {},
     "output_type": "display_data"
    },
    {
     "data": {
      "image/png": "[encoded data removed]",
      "text/plain": [
       "<Figure size 640x480 with 2 Axes>"
      ]
     },
     "metadata": {},
     "output_type": "display_data"
    }
   ],
   "source": [
    "from sklearn.metrics import ConfusionMatrixDisplay\n",
    "import matplotlib.pyplot as plt\n",
    "import seaborn as sns\n",
    "\n",
    "# Compute the confusion matrix for Majority Class Classifier\n",
    "conf_matrix = confusion_matrix(y_test, y_pred, labels=majority_class_clf.classes_)\n",
    "\n",
    "# Plot confusion matrix for Majority Class Classifier\n",
    "plt.figure(figsize=(10, 7))\n",
    "disp = ConfusionMatrixDisplay(conf_matrix, display_labels=majority_class_clf.classes_)\n",
    "disp.plot(cmap='Blues')\n",
    "plt.xticks(rotation=45, ha='right')\n",
    "plt.title('Confusion Matrix - Majority Class Classifier')\n",
    "plt.show()\n"
   ]
  },
  {
   "cell_type": "markdown",
   "id": "ae6e5c1e-7500-468c-94d7-73cd25eb11de",
   "metadata": {},
   "source": [
    "# Traditional Machine Learning Models"
   ]
  },
  {
   "cell_type": "markdown",
   "id": "92063579-9d83-466f-92c2-17900fac67ee",
   "metadata": {},
   "source": [
    "# Naive Bayes:"
   ]
  },
  {
   "cell_type": "code",
   "execution_count": 23,
   "id": "31eb3385-9e44-4b81-aaca-a7984e9ab49f",
   "metadata": {},
   "outputs": [
    {
     "name": "stdout",
     "output_type": "stream",
     "text": [
      "                      precision    recall  f1-score   support\n",
      "\n",
      "             Anxiety       0.85      0.88      0.86      3375\n",
      "             Bipolar       0.78      0.96      0.86      3214\n",
      "          Depression       0.60      0.60      0.60      3274\n",
      "              Normal       0.96      0.42      0.58      3325\n",
      "Personality disorder       0.73      0.99      0.84      3241\n",
      "              Stress       0.80      0.84      0.82      3209\n",
      "            Suicidal       0.73      0.65      0.69      3243\n",
      "\n",
      "            accuracy                           0.76     22881\n",
      "           macro avg       0.78      0.76      0.75     22881\n",
      "        weighted avg       0.78      0.76      0.75     22881\n",
      "\n",
      "ROC-AUC: 0.97\n"
     ]
    }
   ],
   "source": [
    "from sklearn.naive_bayes import MultinomialNB\n",
    "from sklearn.metrics import classification_report, roc_auc_score\n",
    "from sklearn.model_selection import train_test_split\n",
    "from sklearn.preprocessing import label_binarize\n",
    "\n",
    "# Assuming X_resampled and y_resampled are already defined# Split the resampled data into train and test sets\n",
    "X_train, X_test, y_train, y_test = train_test_split(X_resampled, y_resampled, test_size=0.2, random_state=42)\n",
    "\n",
    "# Initialize the Naive Bayes classifier\n",
    "nb_clf = MultinomialNB()\n",
    "\n",
    "# Train the classifier\n",
    "nb_clf.fit(X_train, y_train)\n",
    "\n",
    "# Make predictions on the test set\n",
    "y_pred = nb_clf.predict(X_test)\n",
    "y_prob = nb_clf.predict_proba(X_test)\n",
    "\n",
    "# Print the classification report for each classprint(\"Classification Report:\")\n",
    "print(classification_report(y_test, y_pred))\n",
    "\n",
    "# Binarize the output labels for ROC-AUC calculation (for multi-class problems)\n",
    "y_test_bin = label_binarize(y_test, classes=nb_clf.classes_)\n",
    "\n",
    "# Calculate the ROC-AUC score\n",
    "roc_auc = roc_auc_score(y_test_bin, y_prob, multi_class='ovr')\n",
    "\n",
    "print(f\"ROC-AUC: {roc_auc:.2f}\")\n"
   ]
  },
  {
   "cell_type": "markdown",
   "id": "804592be-c8fb-4b4f-ad56-133e819aa3a7",
   "metadata": {},
   "source": [
    "# Hyperparameter tuning:"
   ]
  },
  {
   "cell_type": "code",
   "execution_count": 24,
   "id": "bbdc9d14-baee-44d3-8dbd-ec5612ec5dc1",
   "metadata": {},
   "outputs": [
    {
     "name": "stdout",
     "output_type": "stream",
     "text": [
      "Best Parameters: {'alpha': 0.1, 'fit_prior': False}\n",
      "Classification Report:\n",
      "                      precision    recall  f1-score   support\n",
      "\n",
      "             Anxiety       0.87      0.93      0.90      3375\n",
      "             Bipolar       0.87      0.97      0.92      3214\n",
      "          Depression       0.69      0.59      0.63      3274\n",
      "              Normal       0.93      0.62      0.75      3325\n",
      "Personality disorder       0.86      0.99      0.92      3241\n",
      "              Stress       0.86      0.93      0.89      3209\n",
      "            Suicidal       0.71      0.78      0.75      3243\n",
      "\n",
      "            accuracy                           0.83     22881\n",
      "           macro avg       0.83      0.83      0.82     22881\n",
      "        weighted avg       0.83      0.83      0.82     22881\n",
      "\n",
      "ROC-AUC: 0.98\n"
     ]
    }
   ],
   "source": [
    "from sklearn.naive_bayes import MultinomialNB\n",
    "from sklearn.metrics import classification_report, roc_auc_score\n",
    "from sklearn.model_selection import train_test_split, GridSearchCV\n",
    "from sklearn.preprocessing import label_binarize\n",
    "\n",
    "def tune_naive_bayes(X_resampled, y_resampled, param_grid, test_size=0.2, random_state=42, cv=5):\n",
    "    \"\"\"\n",
    "    Function to perform hyperparameter tuning on a Multinomial Naive Bayes model.\n",
    "\n",
    "    Parameters:\n",
    "    - X_resampled: Feature matrix (sparse matrix or dense array).\n",
    "    - y_resampled: Target vector.\n",
    "    - param_grid: Dictionary of hyperparameters to tune.\n",
    "    - test_size: Proportion of the dataset to include in the test split.\n",
    "    - random_state: Controls the shuffling applied to the data before applying the split.\n",
    "    - cv: Number of cross-validation folds.\n",
    "\n",
    "    Returns:\n",
    "    - best_params: Best hyperparameters found.\n",
    "    - metrics: Dictionary containing evaluation metrics (classification report and ROC-AUC).\n",
    "    \"\"\"# Split the data into training and testing sets\n",
    "    X_train, X_test, y_train, y_test = train_test_split(X_resampled, y_resampled, test_size=test_size, random_state=random_state)\n",
    "\n",
    "    # Initialize the Naive Bayes classifier\n",
    "    nb_clf = MultinomialNB()\n",
    "\n",
    "    # Create the GridSearchCV object\n",
    "    grid_search = GridSearchCV(nb_clf, param_grid, scoring='accuracy', cv=cv, n_jobs=-1)\n",
    "\n",
    "    # Fit the GridSearchCV object to the training data\n",
    "    grid_search.fit(X_train, y_train)\n",
    "\n",
    "    # Get the best estimator and its parameters\n",
    "    best_nb_clf = grid_search.best_estimator_\n",
    "    best_params = grid_search.best_params_\n",
    "\n",
    "    # Train the best estimator on the entire training set\n",
    "    best_nb_clf.fit(X_train, y_train)\n",
    "\n",
    "    # Make predictions on the test set\n",
    "    y_pred = best_nb_clf.predict(X_test)\n",
    "    y_prob = best_nb_clf.predict_proba(X_test)\n",
    "\n",
    "    # Print the classification report\n",
    "    classification_rep = classification_report(y_test, y_pred)\n",
    "\n",
    "    # Binarize the output labels for ROC-AUC calculation (for multi-class problems)\n",
    "    y_test_bin = label_binarize(y_test, classes=best_nb_clf.classes_)\n",
    "\n",
    "    # Calculate the ROC-AUC score\n",
    "    roc_auc = roc_auc_score(y_test_bin, y_prob, multi_class='ovr')\n",
    "\n",
    "    # Compile metrics\n",
    "    metrics = {\n",
    "        'classification_report': classification_rep,\n",
    "        'ROC-AUC': roc_auc\n",
    "    }\n",
    "\n",
    "    return best_params, metrics\n",
    "\n",
    "# Example usage:\n",
    "param_grid = {'alpha': [0.1, 0.5, 1.0, 2.0, 5.0], 'fit_prior': [True, False]}\n",
    "best_params, metrics = tune_naive_bayes(X_resampled, y_resampled, param_grid)\n",
    "\n",
    "print(\"Best Parameters:\", best_params)\n",
    "print(\"Classification Report:\")\n",
    "print(metrics['classification_report'])\n",
    "print(f\"ROC-AUC: {metrics['ROC-AUC']:.2f}\")\n"
   ]
  },
  {
   "cell_type": "code",
   "execution_count": 25,
   "id": "17e81261-01a0-423a-91a3-f45a70bbc83b",
   "metadata": {},
   "outputs": [
    {
     "name": "stdout",
     "output_type": "stream",
     "text": [
      "Best Parameters: {'alpha': 0.1, 'fit_prior': True}\n",
      "Classification Report:\n",
      "                      precision    recall  f1-score   support\n",
      "\n",
      "             Anxiety       0.88      0.92      0.90      3375\n",
      "             Bipolar       0.87      0.97      0.92      3214\n",
      "          Depression       0.69      0.58      0.63      3274\n",
      "              Normal       0.93      0.62      0.75      3325\n",
      "Personality disorder       0.86      0.99      0.92      3241\n",
      "              Stress       0.85      0.93      0.89      3209\n",
      "            Suicidal       0.71      0.78      0.75      3243\n",
      "\n",
      "            accuracy                           0.83     22881\n",
      "           macro avg       0.83      0.83      0.82     22881\n",
      "        weighted avg       0.83      0.83      0.82     22881\n",
      "\n",
      "ROC-AUC: 0.98\n"
     ]
    }
   ],
   "source": [
    "# Example usage:\n",
    "param_grid = {'alpha': [0.1, 0.5, 1.0, 2.0, 5.0], 'fit_prior': [True]}\n",
    "best_params, metrics = tune_naive_bayes(X_resampled, y_resampled, param_grid)\n",
    "\n",
    "print(\"Best Parameters:\", best_params)\n",
    "print(\"Classification Report:\")\n",
    "print(metrics['classification_report'])\n",
    "print(f\"ROC-AUC: {metrics['ROC-AUC']:.2f}\")"
   ]
  },
  {
   "cell_type": "code",
   "execution_count": 26,
   "id": "e82c3dbd-b0ee-475a-8be4-bea6724f9823",
   "metadata": {},
   "outputs": [
    {
     "name": "stdout",
     "output_type": "stream",
     "text": [
      "Best Parameters: {'alpha': 0.01, 'fit_prior': False}\n",
      "Classification Report:\n",
      "                      precision    recall  f1-score   support\n",
      "\n",
      "             Anxiety       0.89      0.94      0.91      3375\n",
      "             Bipolar       0.88      0.98      0.93      3214\n",
      "          Depression       0.71      0.60      0.65      3274\n",
      "              Normal       0.94      0.64      0.76      3325\n",
      "Personality disorder       0.89      0.99      0.94      3241\n",
      "              Stress       0.88      0.94      0.91      3209\n",
      "            Suicidal       0.71      0.80      0.75      3243\n",
      "\n",
      "            accuracy                           0.84     22881\n",
      "           macro avg       0.84      0.84      0.84     22881\n",
      "        weighted avg       0.84      0.84      0.84     22881\n",
      "\n",
      "ROC-AUC: 0.98\n"
     ]
    }
   ],
   "source": [
    "# Example usage:\n",
    "param_grid = {'alpha': [0.01, 0.1, 0.5, 1.0, 5.0, 10.0], 'fit_prior': [True, False]}\n",
    "best_params, metrics = tune_naive_bayes(X_resampled, y_resampled, param_grid)\n",
    "\n",
    "print(\"Best Parameters:\", best_params)\n",
    "print(\"Classification Report:\")\n",
    "print(metrics['classification_report'])\n",
    "print(f\"ROC-AUC: {metrics['ROC-AUC']:.2f}\")"
   ]
  },
  {
   "cell_type": "code",
   "execution_count": 27,
   "id": "92ab194a-e43e-4f41-b5df-4d899f436c32",
   "metadata": {},
   "outputs": [
    {
     "name": "stdout",
     "output_type": "stream",
     "text": [
      "Best Parameters: {'alpha': 0.01, 'fit_prior': True}\n",
      "Classification Report:\n",
      "                      precision    recall  f1-score   support\n",
      "\n",
      "             Anxiety       0.89      0.94      0.92      3375\n",
      "             Bipolar       0.88      0.98      0.93      3214\n",
      "          Depression       0.71      0.60      0.65      3274\n",
      "              Normal       0.94      0.64      0.76      3325\n",
      "Personality disorder       0.89      0.99      0.94      3241\n",
      "              Stress       0.88      0.94      0.91      3209\n",
      "            Suicidal       0.71      0.80      0.75      3243\n",
      "\n",
      "            accuracy                           0.84     22881\n",
      "           macro avg       0.84      0.84      0.84     22881\n",
      "        weighted avg       0.84      0.84      0.84     22881\n",
      "\n",
      "ROC-AUC: 0.98\n"
     ]
    }
   ],
   "source": [
    "# Example usage:\n",
    "param_grid = {'alpha': [0.01, 0.05, 0.1, 0.5, 1.0], 'fit_prior': [True]}\n",
    "best_params, metrics = tune_naive_bayes(X_resampled, y_resampled, param_grid)\n",
    "\n",
    "print(\"Best Parameters:\", best_params)\n",
    "print(\"Classification Report:\")\n",
    "print(metrics['classification_report'])\n",
    "print(f\"ROC-AUC: {metrics['ROC-AUC']:.2f}\")"
   ]
  },
  {
   "cell_type": "markdown",
   "id": "39a8fcd9-a11a-40c3-ae5e-afdd3e1fb769",
   "metadata": {},
   "source": [
    "# Logistic Regression:"
   ]
  },
  {
   "cell_type": "code",
   "execution_count": 28,
   "id": "df7c5aea-1de4-4316-b93c-ab573fc8a074",
   "metadata": {},
   "outputs": [
    {
     "name": "stdout",
     "output_type": "stream",
     "text": [
      "Classification Report:\n",
      "\n",
      "                      precision    recall  f1-score   support\n",
      "\n",
      "             Anxiety       0.95      0.95      0.95      3375\n",
      "             Bipolar       0.96      0.96      0.96      3214\n",
      "          Depression       0.75      0.64      0.69      3274\n",
      "              Normal       0.85      0.91      0.88      3325\n",
      "Personality disorder       0.97      0.99      0.98      3241\n",
      "              Stress       0.91      0.95      0.93      3209\n",
      "            Suicidal       0.74      0.74      0.74      3243\n",
      "\n",
      "            accuracy                           0.88     22881\n",
      "           macro avg       0.88      0.88      0.88     22881\n",
      "        weighted avg       0.88      0.88      0.88     22881\n",
      "\n",
      "ROC-AUC: 0.98\n"
     ]
    }
   ],
   "source": [
    "from sklearn.linear_model import LogisticRegression\n",
    "from sklearn.metrics import classification_report, roc_auc_score\n",
    "from sklearn.model_selection import train_test_split\n",
    "from sklearn.preprocessing import label_binarize\n",
    "\n",
    "# Initialize the Logistic Regression classifier\n",
    "logreg_clf = LogisticRegression(max_iter=500, random_state=42)\n",
    "\n",
    "# Train the classifier\n",
    "logreg_clf.fit(X_train, y_train)\n",
    "\n",
    "# Make predictions on the test set\n",
    "y_pred = logreg_clf.predict(X_test)\n",
    "y_prob = logreg_clf.predict_proba(X_test)\n",
    "\n",
    "# Print classification report for each label\n",
    "print(\"Classification Report:\\n\")\n",
    "print(classification_report(y_test, y_pred))\n",
    "\n",
    "# For ROC-AUC, binarize the output labels if it's a multi-class problem\n",
    "y_test_bin = label_binarize(y_test, classes=logreg_clf.classes_)\n",
    "roc_auc = roc_auc_score(y_test_bin, y_prob, multi_class='ovr')\n",
    "\n",
    "# Print the ROC-AUC score\n",
    "print(f\"ROC-AUC: {roc_auc:.2f}\")\n"
   ]
  },
  {
   "cell_type": "markdown",
   "id": "b376bb28-e91e-4437-9a41-d4f31e94e9ca",
   "metadata": {},
   "source": [
    "# Hyperparameter Tuning:"
   ]
  },
  {
   "cell_type": "code",
   "execution_count": 29,
   "id": "742bd604-b1ee-466b-ae28-235980e95554",
   "metadata": {},
   "outputs": [
    {
     "name": "stdout",
     "output_type": "stream",
     "text": [
      "Best Parameters: {'C': 1.0, 'max_iter': 100, 'penalty': 'l2', 'solver': 'liblinear'}\n",
      "Classification Report:\n",
      "\n",
      "                      precision    recall  f1-score   support\n",
      "\n",
      "             Anxiety       0.93      0.94      0.94      3375\n",
      "             Bipolar       0.96      0.96      0.96      3214\n",
      "          Depression       0.75      0.62      0.68      3274\n",
      "              Normal       0.84      0.92      0.87      3325\n",
      "Personality disorder       0.96      0.99      0.98      3241\n",
      "              Stress       0.90      0.93      0.92      3209\n",
      "            Suicidal       0.74      0.74      0.74      3243\n",
      "\n",
      "            accuracy                           0.87     22881\n",
      "           macro avg       0.87      0.87      0.87     22881\n",
      "        weighted avg       0.87      0.87      0.87     22881\n",
      "\n",
      "ROC-AUC: 0.98\n"
     ]
    }
   ],
   "source": [
    "from sklearn.linear_model import LogisticRegression\n",
    "from sklearn.metrics import classification_report, roc_auc_score\n",
    "from sklearn.model_selection import train_test_split, GridSearchCV\n",
    "from sklearn.preprocessing import label_binarize\n",
    "\n",
    "# Function to train and evaluate the Logistic Regression model\n",
    "def train_and_evaluate(X_resampled, y_resampled, param_grid=None):\n",
    "    # Split the resampled data into train and test sets\n",
    "    X_train, X_test, y_train, y_test = train_test_split(X_resampled, y_resampled, test_size=0.2, random_state=42)\n",
    "    \n",
    "    # Initialize the Logistic Regression classifier\n",
    "    logreg_clf = LogisticRegression(random_state=42)\n",
    "    \n",
    "    # If param_grid is provided, use GridSearchCV for hyperparameter tuning\n",
    "    if param_grid:\n",
    "        grid_search = GridSearchCV(logreg_clf, param_grid, scoring='accuracy', cv=3, n_jobs=-1)  \n",
    "        grid_search.fit(X_train, y_train)\n",
    "        logreg_clf = grid_search.best_estimator_\n",
    "        print(\"Best Parameters:\", grid_search.best_params_)\n",
    "    else:\n",
    "        # Train the classifier without hyperparameter tuning\n",
    "        logreg_clf.fit(X_train, y_train)\n",
    "    \n",
    "    # Make predictions on the test set\n",
    "    y_pred = logreg_clf.predict(X_test)\n",
    "    y_prob = logreg_clf.predict_proba(X_test)\n",
    "    \n",
    "    # Print classification report for each label\n",
    "    print(\"Classification Report:\\n\")\n",
    "    print(classification_report(y_test, y_pred))\n",
    "    \n",
    "    # For ROC-AUC, binarize the output labels if it's a multi-class problem\n",
    "    y_test_bin = label_binarize(y_test, classes=logreg_clf.classes_)\n",
    "    roc_auc = roc_auc_score(y_test_bin, y_prob, multi_class='ovr')\n",
    "    \n",
    "    # Print the ROC-AUC score\n",
    "    print(f\"ROC-AUC: {roc_auc:.2f}\")\n",
    "\n",
    "# Define the simplified parameter grid for hyperparameter tuning\n",
    "param_grid = {\n",
    "    'C': [0.1, 1.0],\n",
    "    'solver': ['liblinear'],  # Use a single solver to speed up the process\n",
    "    'penalty': ['l2'],\n",
    "    'max_iter': [100]  # Fixed max_iter to avoid long runs\n",
    "}\n",
    "\n",
    "# Call the function with the simplified parameter grid for hyperparameter tuning\n",
    "train_and_evaluate(X_resampled, y_resampled, param_grid=param_grid)\n"
   ]
  },
  {
   "cell_type": "code",
   "execution_count": 30,
   "id": "caa14cc6-3024-40c7-84fb-8759818f7fcf",
   "metadata": {},
   "outputs": [
    {
     "name": "stdout",
     "output_type": "stream",
     "text": [
      "Best Parameters: {'C': 5.0, 'max_iter': 150, 'penalty': 'l2', 'solver': 'liblinear'}\n",
      "Classification Report:\n",
      "\n",
      "                      precision    recall  f1-score   support\n",
      "\n",
      "             Anxiety       0.96      0.98      0.97      3375\n",
      "             Bipolar       0.97      0.98      0.98      3214\n",
      "          Depression       0.77      0.65      0.71      3274\n",
      "              Normal       0.89      0.92      0.90      3325\n",
      "Personality disorder       0.98      1.00      0.99      3241\n",
      "              Stress       0.93      0.98      0.95      3209\n",
      "            Suicidal       0.75      0.76      0.75      3243\n",
      "\n",
      "            accuracy                           0.89     22881\n",
      "           macro avg       0.89      0.89      0.89     22881\n",
      "        weighted avg       0.89      0.89      0.89     22881\n",
      "\n",
      "ROC-AUC: 0.98\n"
     ]
    }
   ],
   "source": [
    "# Define the simplified parameter grid for hyperparameter tuning\n",
    "param_grid = {\n",
    "    'C': [0.5, 1.0, 5.0],\n",
    "    'solver': ['liblinear'],  # Use a single solver to speed up the process\n",
    "    'penalty': ['l2'],\n",
    "    'max_iter': [150]  # Fixed max_iter to avoid long runs\n",
    "}\n",
    "\n",
    "# Call the function with the simplified parameter grid for hyperparameter tuning\n",
    "train_and_evaluate(X_resampled, y_resampled, param_grid=param_grid)"
   ]
  },
  {
   "cell_type": "code",
   "execution_count": 31,
   "id": "9fd8b69b-d07a-47ae-b3f9-1493b5bf47c8",
   "metadata": {},
   "outputs": [
    {
     "name": "stdout",
     "output_type": "stream",
     "text": [
      "Best Parameters: {'C': 10.0, 'max_iter': 100, 'penalty': 'l2', 'solver': 'liblinear'}\n",
      "Classification Report:\n",
      "\n",
      "                      precision    recall  f1-score   support\n",
      "\n",
      "             Anxiety       0.96      0.98      0.97      3375\n",
      "             Bipolar       0.97      0.99      0.98      3214\n",
      "          Depression       0.78      0.67      0.72      3274\n",
      "              Normal       0.90      0.91      0.90      3325\n",
      "Personality disorder       0.98      1.00      0.99      3241\n",
      "              Stress       0.94      0.99      0.96      3209\n",
      "            Suicidal       0.75      0.77      0.76      3243\n",
      "\n",
      "            accuracy                           0.90     22881\n",
      "           macro avg       0.90      0.90      0.90     22881\n",
      "        weighted avg       0.90      0.90      0.90     22881\n",
      "\n",
      "ROC-AUC: 0.98\n"
     ]
    }
   ],
   "source": [
    "# Define the simplified parameter grid for hyperparameter tuning\n",
    "param_grid = {\n",
    "    'C': [1.0, 10.0],\n",
    "    'solver': ['liblinear'],  # Use a single solver to speed up the process\n",
    "    'penalty': ['l2'],\n",
    "    'max_iter': [100, 200]  # Fixed max_iter to avoid long runs\n",
    "}\n",
    "\n",
    "# Call the function with the simplified parameter grid for hyperparameter tuning\n",
    "train_and_evaluate(X_resampled, y_resampled, param_grid=param_grid)"
   ]
  },
  {
   "cell_type": "code",
   "execution_count": 32,
   "id": "e70fb7d0-ae7f-4027-894e-213dc7b146d2",
   "metadata": {},
   "outputs": [
    {
     "name": "stdout",
     "output_type": "stream",
     "text": [
      "Best Parameters: {'C': 10.0, 'max_iter': 500, 'penalty': 'l2', 'solver': 'liblinear'}\n",
      "Classification Report:\n",
      "\n",
      "                      precision    recall  f1-score   support\n",
      "\n",
      "             Anxiety       0.96      0.98      0.97      3375\n",
      "             Bipolar       0.97      0.99      0.98      3214\n",
      "          Depression       0.78      0.67      0.72      3274\n",
      "              Normal       0.90      0.91      0.90      3325\n",
      "Personality disorder       0.98      1.00      0.99      3241\n",
      "              Stress       0.94      0.99      0.96      3209\n",
      "            Suicidal       0.75      0.77      0.76      3243\n",
      "\n",
      "            accuracy                           0.90     22881\n",
      "           macro avg       0.90      0.90      0.90     22881\n",
      "        weighted avg       0.90      0.90      0.90     22881\n",
      "\n",
      "ROC-AUC: 0.98\n"
     ]
    }
   ],
   "source": [
    "# Define the simplified parameter grid for hyperparameter tuning\n",
    "param_grid = {\n",
    "    'C': [1.0, 10.0],\n",
    "    'solver': ['liblinear'],  # Use a single solver to speed up the process\n",
    "    'penalty': ['l2'],\n",
    "    'max_iter': [500]  # Fixed max_iter to avoid long runs\n",
    "}\n",
    "\n",
    "# Call the function with the simplified parameter grid for hyperparameter tuning\n",
    "train_and_evaluate(X_resampled, y_resampled, param_grid=param_grid)"
   ]
  },
  {
   "cell_type": "markdown",
   "id": "f11dbde4-fee7-497a-9892-6704e2d09a99",
   "metadata": {},
   "source": [
    "# Traditional Deep Learning Models"
   ]
  },
  {
   "cell_type": "markdown",
   "id": "b72c364e-98fc-4fae-ad1f-683ce5412612",
   "metadata": {},
   "source": [
    "# LSTM"
   ]
  },
  {
   "cell_type": "code",
   "execution_count": 33,
   "id": "26c01dc6-4f65-4ae1-86ef-32c23f6f531b",
   "metadata": {},
   "outputs": [
    {
     "name": "stdout",
     "output_type": "stream",
     "text": [
      "Original dataset shape: Counter({'Normal': 16343, 'Depression': 15404, 'Suicidal': 10652, 'Anxiety': 3841, 'Bipolar': 2777, 'Stress': 2587, 'Personality disorder': 1077})\n",
      "Resampled dataset shape: {0: 16343, 1: 16343, 2: 16343, 3: 16343, 4: 16343, 5: 16343, 6: 16343}\n"
     ]
    }
   ],
   "source": [
    "from tensorflow.keras.models import Sequential\n",
    "from tensorflow.keras.layers import Embedding, LSTM, Dense\n",
    "from tensorflow.keras.preprocessing.text import Tokenizer\n",
    "from tensorflow.keras.preprocessing.sequence import pad_sequences\n",
    "from sklearn.model_selection import train_test_split\n",
    "from imblearn.over_sampling import SMOTE\n",
    "from collections import Counter\n",
    "from sklearn.metrics import classification_report, roc_auc_score\n",
    "import pandas as pd\n",
    "import numpy as np\n",
    "\n",
    "# Assuming df['cleaned_statement'] and df['status'] are already defined and preprocessed\n",
    "X = df['cleaned_statement']  # Use preprocessed text data\n",
    "y = df['status']  # Use the original status labels (categorical)\n",
    "\n",
    "# Tokenize the text data\n",
    "vocab_size = 2000  # Reduce vocabulary size\n",
    "tokenizer = Tokenizer(num_words=vocab_size)\n",
    "tokenizer.fit_on_texts(X)\n",
    "X_seq = tokenizer.texts_to_sequences(X)\n",
    "\n",
    "# Pad sequences to ensure uniform input size\n",
    "max_len = 100  # Set a fixed sequence length\n",
    "X_pad = pad_sequences(X_seq, maxlen=max_len)\n",
    "\n",
    "# Convert labels to numeric (one-hot encode)\n",
    "y_numeric = pd.get_dummies(y).values\n",
    "\n",
    "# Apply SMOTE to balance the dataset\n",
    "smote = SMOTE(sampling_strategy='auto', random_state=42)\n",
    "X_resampled, y_resampled = smote.fit_resample(X_pad, y_numeric)\n",
    "\n",
    "# Check the new class distribution, sorted by label\n",
    "resampled_counter = Counter(y_resampled.argmax(axis=1))\n",
    "sorted_resampled_counter = dict(sorted(resampled_counter.items()))\n",
    "\n",
    "print('Original dataset shape:', Counter(y))\n",
    "print('Resampled dataset shape:', sorted_resampled_counter)\n",
    "\n"
   ]
  },
  {
   "cell_type": "code",
   "execution_count": 34,
   "id": "54a9d08e-5b77-41b6-a313-3b666b9f0ebe",
   "metadata": {},
   "outputs": [
    {
     "name": "stdout",
     "output_type": "stream",
     "text": [
      "Model: \"sequential\"\n",
      "_________________________________________________________________\n",
      " Layer (type)                Output Shape              Param #   \n",
      "=================================================================\n",
      " embedding (Embedding)       (None, None, 64)          128000    \n",
      "                                                                 \n",
      " lstm (LSTM)                 (None, 64)                33024     \n",
      "                                                                 \n",
      " dense (Dense)               (None, 32)                2080      \n",
      "                                                                 \n",
      " dense_1 (Dense)             (None, 7)                 231       \n",
      "                                                                 \n",
      "=================================================================\n",
      "Total params: 163,335\n",
      "Trainable params: 163,335\n",
      "Non-trainable params: 0\n",
      "_________________________________________________________________\n",
      "Epoch 1/5\n",
      "1430/1430 - 42s - loss: 1.3672 - accuracy: 0.4379 - val_loss: 1.2188 - val_accuracy: 0.4960 - 42s/epoch - 29ms/step\n",
      "Epoch 2/5\n",
      "1430/1430 - 33s - loss: 1.1645 - accuracy: 0.5264 - val_loss: 1.1561 - val_accuracy: 0.5263 - 33s/epoch - 23ms/step\n",
      "Epoch 3/5\n",
      "1430/1430 - 29s - loss: 1.0959 - accuracy: 0.5557 - val_loss: 1.1356 - val_accuracy: 0.5369 - 29s/epoch - 20ms/step\n",
      "Epoch 4/5\n",
      "1430/1430 - 30s - loss: 1.0542 - accuracy: 0.5738 - val_loss: 1.1332 - val_accuracy: 0.5405 - 30s/epoch - 21ms/step\n",
      "Epoch 5/5\n",
      "1430/1430 - 30s - loss: 1.0195 - accuracy: 0.5899 - val_loss: 1.1245 - val_accuracy: 0.5432 - 30s/epoch - 21ms/step\n",
      "Test Accuracy: 0.54\n",
      "716/716 [==============================] - 6s 8ms/step\n",
      "\n",
      "Classification Report:\n",
      "              precision    recall  f1-score   support\n",
      "\n",
      "           0       0.61      0.29      0.39      3375\n",
      "           1       0.44      0.35      0.39      3214\n",
      "           2       0.72      0.64      0.68      3274\n",
      "           3       0.86      0.90      0.88      3325\n",
      "           4       0.36      0.52      0.43      3241\n",
      "           5       0.40      0.60      0.48      3209\n",
      "           6       0.58      0.51      0.54      3243\n",
      "\n",
      "    accuracy                           0.54     22881\n",
      "   macro avg       0.57      0.54      0.54     22881\n",
      "weighted avg       0.57      0.54      0.54     22881\n",
      "\n",
      "ROC-AUC: 0.87\n"
     ]
    }
   ],
   "source": [
    "# Split the resampled data into train and test sets\n",
    "X_train, X_test, y_train, y_test = train_test_split(X_resampled, y_resampled, test_size=0.2, random_state=42)\n",
    "\n",
    "# Build the simplified LSTM model\n",
    "model = Sequential()\n",
    "model.add(Embedding(input_dim=vocab_size, output_dim=64))  # Embedding layer\n",
    "model.add(LSTM(64, return_sequences=False))  # LSTM layer\n",
    "model.add(Dense(32, activation='relu'))\n",
    "model.add(Dense(y_train.shape[1], activation='softmax'))\n",
    "\n",
    "# Print model summary to check the shapes\n",
    "model.summary()\n",
    "\n",
    "# Compile the model\n",
    "model.compile(loss='categorical_crossentropy', optimizer='adam', metrics=['accuracy'])\n",
    "\n",
    "# Train the model\n",
    "model.fit(X_train, y_train, epochs=5, batch_size=64, validation_data=(X_test, y_test), verbose=2)\n",
    "\n",
    "# Evaluate the model on the test data\n",
    "loss, accuracy = model.evaluate(X_test, y_test, verbose=0)\n",
    "print(f'Test Accuracy: {accuracy:.2f}')\n",
    "\n",
    "# Predict probabilities\n",
    "y_pred_prob = model.predict(X_test)\n",
    "\n",
    "# Convert predicted probabilities to class labels\n",
    "y_pred = np.argmax(y_pred_prob, axis=1)\n",
    "y_test_class = np.argmax(y_test, axis=1)\n",
    "\n",
    "# Classification report\n",
    "print(\"\\nClassification Report:\")\n",
    "print(classification_report(y_test_class, y_pred))\n",
    "\n",
    "# Calculate ROC-AUC score\n",
    "roc_auc = roc_auc_score(y_test, y_pred_prob, multi_class='ovr')\n",
    "print(f'ROC-AUC: {roc_auc:.2f}')\n"
   ]
  },
  {
   "cell_type": "markdown",
   "id": "8ea08b81-7dfb-4b84-a3da-687137e0a853",
   "metadata": {},
   "source": [
    "# Hyperparameter Tuning:"
   ]
  },
  {
   "cell_type": "code",
   "execution_count": 35,
   "id": "a07cf75a-0932-453e-967e-895d2a671dab",
   "metadata": {},
   "outputs": [
    {
     "name": "stdout",
     "output_type": "stream",
     "text": [
      "Model: \"sequential_1\"\n",
      "_________________________________________________________________\n",
      " Layer (type)                Output Shape              Param #   \n",
      "=================================================================\n",
      " embedding_1 (Embedding)     (None, None, 64)          128000    \n",
      "                                                                 \n",
      " lstm_1 (LSTM)               (None, 64)                33024     \n",
      "                                                                 \n",
      " dropout (Dropout)           (None, 64)                0         \n",
      "                                                                 \n",
      " dense_2 (Dense)             (None, 32)                2080      \n",
      "                                                                 \n",
      " dense_3 (Dense)             (None, 7)                 231       \n",
      "                                                                 \n",
      "=================================================================\n",
      "Total params: 163,335\n",
      "Trainable params: 163,335\n",
      "Non-trainable params: 0\n",
      "_________________________________________________________________\n",
      "Epoch 1/5\n",
      "1430/1430 - 47s - loss: 1.4015 - accuracy: 0.4239 - val_loss: 1.2529 - val_accuracy: 0.4821 - 47s/epoch - 33ms/step\n",
      "Epoch 2/5\n",
      "1430/1430 - 45s - loss: 1.2010 - accuracy: 0.5159 - val_loss: 1.1735 - val_accuracy: 0.5223 - 45s/epoch - 31ms/step\n",
      "Epoch 3/5\n",
      "1430/1430 - 46s - loss: 1.1246 - accuracy: 0.5471 - val_loss: 1.1408 - val_accuracy: 0.5352 - 46s/epoch - 32ms/step\n",
      "Epoch 4/5\n",
      "1430/1430 - 45s - loss: 1.0837 - accuracy: 0.5629 - val_loss: 1.1557 - val_accuracy: 0.5262 - 45s/epoch - 32ms/step\n",
      "Epoch 5/5\n",
      "1430/1430 - 45s - loss: 1.0548 - accuracy: 0.5744 - val_loss: 1.1286 - val_accuracy: 0.5352 - 45s/epoch - 32ms/step\n",
      "Test Accuracy: 0.54\n",
      "716/716 [==============================] - 9s 12ms/step\n",
      "\n",
      "Classification Report:\n",
      "              precision    recall  f1-score   support\n",
      "\n",
      "           0       0.53      0.33      0.41      3375\n",
      "           1       0.37      0.47      0.41      3214\n",
      "           2       0.69      0.69      0.69      3274\n",
      "           3       0.84      0.91      0.87      3325\n",
      "           4       0.41      0.37      0.39      3241\n",
      "           5       0.39      0.56      0.46      3209\n",
      "           6       0.61      0.41      0.49      3243\n",
      "\n",
      "    accuracy                           0.54     22881\n",
      "   macro avg       0.55      0.53      0.53     22881\n",
      "weighted avg       0.55      0.54      0.53     22881\n",
      "\n",
      "ROC-AUC: 0.87\n"
     ]
    }
   ],
   "source": [
    "from tensorflow.keras.models import Sequential\n",
    "from tensorflow.keras.layers import Embedding, LSTM, Dense, Dropout\n",
    "from tensorflow.keras.preprocessing.text import Tokenizer\n",
    "from tensorflow.keras.preprocessing.sequence import pad_sequences\n",
    "from sklearn.model_selection import train_test_split\n",
    "from imblearn.over_sampling import SMOTE\n",
    "from collections import Counter\n",
    "from sklearn.metrics import classification_report, roc_auc_score\n",
    "import pandas as pd\n",
    "import numpy as np\n",
    "\n",
    "def preprocess_data(df, vocab_size, max_len):\n",
    "    \"\"\"\n",
    "    Tokenizes and pads the text data, applies SMOTE, and splits the data into training and test sets.\n",
    "    \n",
    "    Args:\n",
    "    - df: DataFrame containing 'cleaned_statement' and 'status'.\n",
    "    - vocab_size: Number of words to keep in the tokenizer.\n",
    "    - max_len: Maximum length of sequences for padding.\n",
    "    \n",
    "    Returns:\n",
    "    - X_train, X_test, y_train, y_test: Split and resampled data.\n",
    "    \"\"\"\n",
    "    X = df['cleaned_statement']\n",
    "    y = df['status']\n",
    "    \n",
    "    # Tokenize the text data\n",
    "    tokenizer = Tokenizer(num_words=vocab_size)\n",
    "    tokenizer.fit_on_texts(X)\n",
    "    X_seq = tokenizer.texts_to_sequences(X)\n",
    "    \n",
    "    # Pad sequences to ensure uniform input size\n",
    "    X_pad = pad_sequences(X_seq, maxlen=max_len)\n",
    "    \n",
    "    # Convert labels to numeric (one-hot encode)\n",
    "    y_numeric = pd.get_dummies(y).values\n",
    "    \n",
    "    # Apply SMOTE to balance the dataset\n",
    "    smote = SMOTE(sampling_strategy='auto', random_state=42)\n",
    "    X_resampled, y_resampled = smote.fit_resample(X_pad, y_numeric)\n",
    "    \n",
    "    # Split the resampled data into train and test sets\n",
    "    X_train, X_test, y_train, y_test = train_test_split(X_resampled, y_resampled, test_size=0.2, random_state=42)\n",
    "    \n",
    "    return X_train, X_test, y_train, y_test, tokenizer\n",
    "\n",
    "def build_and_train_lstm(X_train, y_train, X_test, y_test, vocab_size, embedding_dim, lstm_units, dropout_rate, epochs, batch_size):\n",
    "    \"\"\"\n",
    "    Builds, compiles, and trains an LSTM model with specified hyperparameters.\n",
    "    \n",
    "    Args:\n",
    "    - X_train, y_train: Training data.\n",
    "    - X_test, y_test: Test data.\n",
    "    - vocab_size: Size of the vocabulary.\n",
    "    - embedding_dim: Dimension of the embedding layer.\n",
    "    - lstm_units: Number of units in the LSTM layer.\n",
    "    - dropout_rate: Dropout rate.\n",
    "    - epochs: Number of training epochs.\n",
    "    - batch_size: Batch size for training.\n",
    "    \n",
    "    Returns:\n",
    "    - model: Trained Keras model.\n",
    "    \"\"\"\n",
    "    # Build the LSTM model\n",
    "    model = Sequential()\n",
    "    model.add(Embedding(input_dim=vocab_size, output_dim=embedding_dim))\n",
    "    model.add(LSTM(lstm_units, return_sequences=False))\n",
    "    model.add(Dropout(dropout_rate))\n",
    "    model.add(Dense(32, activation='relu'))\n",
    "    model.add(Dense(y_train.shape[1], activation='softmax'))\n",
    "\n",
    "    # Print model summary to check the shapes\n",
    "    model.summary()\n",
    "    \n",
    "    # Compile the model\n",
    "    model.compile(loss='categorical_crossentropy', optimizer='adam', metrics=['accuracy'])\n",
    "    \n",
    "    # Train the model\n",
    "    model.fit(X_train, y_train, epochs=epochs, batch_size=batch_size, validation_data=(X_test, y_test), verbose=2)\n",
    "    \n",
    "    return model\n",
    "\n",
    "def evaluate_model(model, X_test, y_test):\n",
    "    \"\"\"\n",
    "    Evaluates the model and prints performance metrics.\n",
    "    \n",
    "    Args:\n",
    "    - model: Trained Keras model.\n",
    "    - X_test, y_test: Test data.\n",
    "    \n",
    "    Returns:\n",
    "    - None\n",
    "    \"\"\"\n",
    "    # Evaluate the model\n",
    "    loss, accuracy = model.evaluate(X_test, y_test, verbose=0)\n",
    "    print(f'Test Accuracy: {accuracy:.2f}')\n",
    "    \n",
    "    # Predict probabilities\n",
    "    y_pred_prob = model.predict(X_test)\n",
    "    \n",
    "    # Convert predicted probabilities to class labels\n",
    "    y_pred = np.argmax(y_pred_prob, axis=1)\n",
    "    y_test_class = np.argmax(y_test, axis=1)\n",
    "    \n",
    "    # Classification report\n",
    "    print(\"\\nClassification Report:\")\n",
    "    print(classification_report(y_test_class, y_pred))\n",
    "    \n",
    "    # Calculate ROC-AUC score\n",
    "    roc_auc = roc_auc_score(y_test, y_pred_prob, multi_class='ovr')\n",
    "    print(f'ROC-AUC: {roc_auc:.2f}')\n",
    "\n",
    "# Main execution\n",
    "if __name__ == \"__main__\":\n",
    "    \n",
    "    \n",
    "    # Hyperparameters\n",
    "    vocab_size = 2000\n",
    "    max_len = 200\n",
    "    embedding_dim = 64\n",
    "    lstm_units = 64\n",
    "    dropout_rate = 0.3\n",
    "    epochs = 5\n",
    "    batch_size = 64\n",
    "    \n",
    "    # Preprocess data\n",
    "    X_train, X_test, y_train, y_test, tokenizer = preprocess_data(df, vocab_size, max_len)\n",
    "    \n",
    "    # Build and train the model\n",
    "    model = build_and_train_lstm(X_train, y_train, X_test, y_test, vocab_size, embedding_dim, lstm_units, dropout_rate, epochs, batch_size)\n",
    "    \n",
    "    # Evaluate the model\n",
    "    evaluate_model(model, X_test, y_test)\n"
   ]
  },
  {
   "cell_type": "code",
   "execution_count": 36,
   "id": "1161134a-eec5-4899-9d62-68333d1043a8",
   "metadata": {},
   "outputs": [
    {
     "name": "stdout",
     "output_type": "stream",
     "text": [
      "Model: \"sequential_2\"\n",
      "_________________________________________________________________\n",
      " Layer (type)                Output Shape              Param #   \n",
      "=================================================================\n",
      " embedding_2 (Embedding)     (None, None, 100)         200000    \n",
      "                                                                 \n",
      " lstm_2 (LSTM)               (None, 128)               117248    \n",
      "                                                                 \n",
      " dropout_1 (Dropout)         (None, 128)               0         \n",
      "                                                                 \n",
      " dense_4 (Dense)             (None, 32)                4128      \n",
      "                                                                 \n",
      " dense_5 (Dense)             (None, 7)                 231       \n",
      "                                                                 \n",
      "=================================================================\n",
      "Total params: 321,607\n",
      "Trainable params: 321,607\n",
      "Non-trainable params: 0\n",
      "_________________________________________________________________\n",
      "Epoch 1/5\n",
      "1430/1430 - 94s - loss: 1.3615 - accuracy: 0.4410 - val_loss: 1.2164 - val_accuracy: 0.5036 - 94s/epoch - 66ms/step\n",
      "Epoch 2/5\n",
      "1430/1430 - 92s - loss: 1.1681 - accuracy: 0.5279 - val_loss: 1.1628 - val_accuracy: 0.5274 - 92s/epoch - 65ms/step\n",
      "Epoch 3/5\n",
      "1430/1430 - 91s - loss: 1.0975 - accuracy: 0.5531 - val_loss: 1.1205 - val_accuracy: 0.5390 - 91s/epoch - 64ms/step\n",
      "Epoch 4/5\n",
      "1430/1430 - 92s - loss: 1.0547 - accuracy: 0.5715 - val_loss: 1.1117 - val_accuracy: 0.5412 - 92s/epoch - 64ms/step\n",
      "Epoch 5/5\n",
      "1430/1430 - 92s - loss: 1.0175 - accuracy: 0.5850 - val_loss: 1.1068 - val_accuracy: 0.5467 - 92s/epoch - 64ms/step\n",
      "Test Accuracy: 0.55\n",
      "716/716 [==============================] - 9s 12ms/step\n",
      "\n",
      "Classification Report:\n",
      "              precision    recall  f1-score   support\n",
      "\n",
      "           0       0.56      0.33      0.42      3375\n",
      "           1       0.51      0.30      0.38      3214\n",
      "           2       0.74      0.61      0.67      3274\n",
      "           3       0.86      0.90      0.88      3325\n",
      "           4       0.37      0.54      0.44      3241\n",
      "           5       0.39      0.60      0.47      3209\n",
      "           6       0.55      0.54      0.55      3243\n",
      "\n",
      "    accuracy                           0.55     22881\n",
      "   macro avg       0.57      0.55      0.54     22881\n",
      "weighted avg       0.57      0.55      0.54     22881\n",
      "\n",
      "ROC-AUC: 0.88\n"
     ]
    }
   ],
   "source": [
    "# Main execution\n",
    "if __name__ == \"__main__\":\n",
    "    \n",
    "    \n",
    "    # Hyperparameters\n",
    "    vocab_size = 2000\n",
    "    max_len = 200\n",
    "    embedding_dim = 100\n",
    "    lstm_units = 128\n",
    "    dropout_rate = 0.3\n",
    "    epochs = 5\n",
    "    batch_size = 64\n",
    "    \n",
    "    # Preprocess data\n",
    "    X_train, X_test, y_train, y_test, tokenizer = preprocess_data(df, vocab_size, max_len)\n",
    "    \n",
    "    # Build and train the model\n",
    "    model = build_and_train_lstm(X_train, y_train, X_test, y_test, vocab_size, embedding_dim, lstm_units, dropout_rate, epochs, batch_size)\n",
    "    \n",
    "    # Evaluate the model\n",
    "    evaluate_model(model, X_test, y_test)"
   ]
  },
  {
   "cell_type": "markdown",
   "id": "16c572a1-d5f9-48ea-b828-201090bb671d",
   "metadata": {},
   "source": [
    "# RNN"
   ]
  },
  {
   "cell_type": "code",
   "execution_count": 38,
   "id": "72043b20-b793-42dc-b8d0-b2e115c072d3",
   "metadata": {},
   "outputs": [
    {
     "name": "stdout",
     "output_type": "stream",
     "text": [
      "Original dataset shape: Counter({'Normal': 16343, 'Depression': 15404, 'Suicidal': 10652, 'Anxiety': 3841, 'Bipolar': 2777, 'Stress': 2587, 'Personality disorder': 1077})\n",
      "Resampled dataset shape: {0: 16343, 1: 16343, 2: 16343, 3: 16343, 4: 16343, 5: 16343, 6: 16343}\n"
     ]
    }
   ],
   "source": [
    "from tensorflow.keras.models import Sequential\n",
    "from tensorflow.keras.layers import Embedding, SimpleRNN, Dense, Dropout\n",
    "from tensorflow.keras.preprocessing.text import Tokenizer\n",
    "from tensorflow.keras.preprocessing.sequence import pad_sequences\n",
    "from sklearn.model_selection import train_test_split\n",
    "from imblearn.over_sampling import SMOTE\n",
    "from collections import Counter\n",
    "from sklearn.metrics import classification_report, roc_auc_score\n",
    "import pandas as pd\n",
    "import numpy as np\n",
    "\n",
    "# Assuming df['cleaned_statement'] and df['status'] are already defined and preprocessed\n",
    "X = df['cleaned_statement']  # Use preprocessed text data\n",
    "y = df['status']  # Use the original status labels (categorical)\n",
    "\n",
    "# Tokenize the text data\n",
    "vocab_size = 2000  # Reduce vocabulary size\n",
    "tokenizer = Tokenizer(num_words=vocab_size)\n",
    "tokenizer.fit_on_texts(X)\n",
    "X_seq = tokenizer.texts_to_sequences(X)\n",
    "\n",
    "# Pad sequences to ensure uniform input size\n",
    "max_len = 100  # Set a fixed sequence length\n",
    "X_pad = pad_sequences(X_seq, maxlen=max_len)\n",
    "\n",
    "# Convert labels to numeric (one-hot encode)\n",
    "y_numeric = pd.get_dummies(y).values\n",
    "\n",
    "# Apply SMOTE to balance the dataset\n",
    "smote = SMOTE(sampling_strategy='auto', random_state=42)\n",
    "X_resampled, y_resampled = smote.fit_resample(X_pad, y_numeric)\n",
    "\n",
    "# Check the new class distribution, sorted by label\n",
    "resampled_counter = Counter(y_resampled.argmax(axis=1))\n",
    "sorted_resampled_counter = dict(sorted(resampled_counter.items()))\n",
    "\n",
    "print('Original dataset shape:', Counter(y))\n",
    "print('Resampled dataset shape:', sorted_resampled_counter)"
   ]
  },
  {
   "cell_type": "code",
   "execution_count": 39,
   "id": "b168ca2a-57d1-4cd9-bacc-c84717e060c1",
   "metadata": {},
   "outputs": [
    {
     "name": "stdout",
     "output_type": "stream",
     "text": [
      "Model: \"sequential_3\"\n",
      "_________________________________________________________________\n",
      " Layer (type)                Output Shape              Param #   \n",
      "=================================================================\n",
      " embedding_3 (Embedding)     (None, 100, 32)           64000     \n",
      "                                                                 \n",
      " simple_rnn (SimpleRNN)      (None, 64)                6208      \n",
      "                                                                 \n",
      " dropout_2 (Dropout)         (None, 64)                0         \n",
      "                                                                 \n",
      " dense_6 (Dense)             (None, 16)                1040      \n",
      "                                                                 \n",
      " dense_7 (Dense)             (None, 7)                 119       \n",
      "                                                                 \n",
      "=================================================================\n",
      "Total params: 71,367\n",
      "Trainable params: 71,367\n",
      "Non-trainable params: 0\n",
      "_________________________________________________________________\n",
      "Epoch 1/3\n",
      "2860/2860 - 465s - loss: 1.4720 - accuracy: 0.3863 - val_loss: 1.3381 - val_accuracy: 0.4384 - 465s/epoch - 163ms/step\n",
      "Epoch 2/3\n",
      "2860/2860 - 462s - loss: 1.3140 - accuracy: 0.4577 - val_loss: 1.3259 - val_accuracy: 0.4512 - 462s/epoch - 162ms/step\n",
      "Epoch 3/3\n",
      "2860/2860 - 467s - loss: 1.2477 - accuracy: 0.4934 - val_loss: 1.2874 - val_accuracy: 0.4690 - 467s/epoch - 163ms/step\n",
      "Test Accuracy: 0.47\n",
      "716/716 [==============================] - 22s 30ms/step\n",
      "\n",
      "Classification Report:\n",
      "              precision    recall  f1-score   support\n",
      "\n",
      "           0       0.51      0.24      0.32      3375\n",
      "           1       0.31      0.33      0.32      3214\n",
      "           2       0.56      0.68      0.61      3274\n",
      "           3       0.83      0.87      0.85      3325\n",
      "           4       0.31      0.47      0.37      3241\n",
      "           5       0.36      0.33      0.34      3209\n",
      "           6       0.47      0.36      0.41      3243\n",
      "\n",
      "    accuracy                           0.47     22881\n",
      "   macro avg       0.48      0.47      0.46     22881\n",
      "weighted avg       0.48      0.47      0.46     22881\n",
      "\n",
      "ROC-AUC: 0.83\n"
     ]
    }
   ],
   "source": [
    "# Split the resampled data into train and test sets\n",
    "X_train, X_test, y_train, y_test = train_test_split(X_resampled, y_resampled, test_size=0.2, random_state=42)\n",
    "\n",
    "# Build the simplified RNN model\n",
    "model = Sequential()\n",
    "model.add(Embedding(input_dim=vocab_size, output_dim=32, input_length=max_len))  # Reduced embedding dimension\n",
    "model.add(SimpleRNN(64, return_sequences=False))  # Simple RNN layer\n",
    "model.add(Dropout(0.3))  # Reduced dropout\n",
    "model.add(Dense(16, activation='relu'))  # Reduced Dense layer size\n",
    "model.add(Dense(y_train.shape[1], activation='softmax'))\n",
    "\n",
    "# Print model summary to check the shapes\n",
    "model.summary()\n",
    "\n",
    "# Compile the model\n",
    "model.compile(loss='categorical_crossentropy', optimizer='adam', metrics=['accuracy'])\n",
    "\n",
    "# Train the model\n",
    "model.fit(X_train, y_train, epochs=3, batch_size=32, validation_data=(X_test, y_test), verbose=2)  # Reduced epochs and batch size\n",
    "\n",
    "# Evaluate the model on the test data\n",
    "loss, accuracy = model.evaluate(X_test, y_test, verbose=0)\n",
    "print(f'Test Accuracy: {accuracy:.2f}')\n",
    "\n",
    "# Predict probabilities\n",
    "y_pred_prob = model.predict(X_test)\n",
    "\n",
    "# Convert predicted probabilities to class labels\n",
    "y_pred = np.argmax(y_pred_prob, axis=1)\n",
    "y_test_class = np.argmax(y_test, axis=1)\n",
    "\n",
    "# Classification report\n",
    "print(\"\\nClassification Report:\")\n",
    "print(classification_report(y_test_class, y_pred))\n",
    "\n",
    "# Calculate ROC-AUC score\n",
    "roc_auc = roc_auc_score(y_test, y_pred_prob, multi_class='ovr')\n",
    "print(f'ROC-AUC: {roc_auc:.2f}')"
   ]
  },
  {
   "cell_type": "markdown",
   "id": "bbe04d15-b07d-4a0b-8eae-a2fb01a4a02f",
   "metadata": {},
   "source": [
    "# Hyperparameter Tuning:"
   ]
  },
  {
   "cell_type": "code",
   "execution_count": 42,
   "id": "1d332c12-e19b-4213-8300-e8cd3451c038",
   "metadata": {},
   "outputs": [
    {
     "name": "stdout",
     "output_type": "stream",
     "text": [
      "Model: \"sequential_6\"\n",
      "_________________________________________________________________\n",
      " Layer (type)                Output Shape              Param #   \n",
      "=================================================================\n",
      " embedding_6 (Embedding)     (None, 200, 16)           32000     \n",
      "                                                                 \n",
      " simple_rnn_3 (SimpleRNN)    (None, 32)                1568      \n",
      "                                                                 \n",
      " dropout_5 (Dropout)         (None, 32)                0         \n",
      "                                                                 \n",
      " dense_12 (Dense)            (None, 8)                 264       \n",
      "                                                                 \n",
      " dense_13 (Dense)            (None, 7)                 63        \n",
      "                                                                 \n",
      "=================================================================\n",
      "Total params: 33,895\n",
      "Trainable params: 33,895\n",
      "Non-trainable params: 0\n",
      "_________________________________________________________________\n",
      "Epoch 1/3\n",
      "5720/5720 - 1940s - loss: 1.5102 - accuracy: 0.3570 - val_loss: 1.3841 - val_accuracy: 0.3980 - 1940s/epoch - 339ms/step\n",
      "Epoch 2/3\n",
      "5720/5720 - 1810s - loss: 1.3643 - accuracy: 0.4132 - val_loss: 1.3348 - val_accuracy: 0.4257 - 1810s/epoch - 316ms/step\n",
      "Epoch 3/3\n",
      "5720/5720 - 2354s - loss: 1.3199 - accuracy: 0.4360 - val_loss: 1.3197 - val_accuracy: 0.4379 - 2354s/epoch - 412ms/step\n",
      "Test Accuracy: 0.44\n",
      "716/716 [==============================] - 52s 72ms/step\n",
      "\n",
      "Classification Report:\n",
      "              precision    recall  f1-score   support\n",
      "\n",
      "           0       0.39      0.29      0.33      3375\n",
      "           1       0.32      0.26      0.29      3214\n",
      "           2       0.57      0.54      0.56      3274\n",
      "           3       0.77      0.91      0.83      3325\n",
      "           4       0.33      0.15      0.20      3241\n",
      "           5       0.26      0.50      0.34      3209\n",
      "           6       0.44      0.41      0.42      3243\n",
      "\n",
      "    accuracy                           0.44     22881\n",
      "   macro avg       0.44      0.44      0.42     22881\n",
      "weighted avg       0.44      0.44      0.43     22881\n",
      "\n",
      "ROC-AUC: 0.82\n"
     ]
    }
   ],
   "source": [
    "from tensorflow.keras.models import Sequential\n",
    "from tensorflow.keras.layers import Embedding, SimpleRNN, Dense, Dropout\n",
    "from tensorflow.keras.preprocessing.text import Tokenizer\n",
    "from tensorflow.keras.preprocessing.sequence import pad_sequences\n",
    "from sklearn.model_selection import train_test_split\n",
    "from imblearn.over_sampling import SMOTE\n",
    "from collections import Counter\n",
    "from sklearn.metrics import classification_report, roc_auc_score\n",
    "import pandas as pd\n",
    "import numpy as np\n",
    "\n",
    "def preprocess_data(df, vocab_size, max_len):\n",
    "    # Tokenize the text data\n",
    "    tokenizer = Tokenizer(num_words=vocab_size)\n",
    "    tokenizer.fit_on_texts(df['cleaned_statement'])\n",
    "    X_seq = tokenizer.texts_to_sequences(df['cleaned_statement'])\n",
    "\n",
    "    # Pad sequences to ensure uniform input size\n",
    "    X_pad = pad_sequences(X_seq, maxlen=max_len)\n",
    "\n",
    "    # Convert labels to numeric (one-hot encode)\n",
    "    y_numeric = pd.get_dummies(df['status']).values\n",
    "\n",
    "    # Apply SMOTE to balance the dataset\n",
    "    smote = SMOTE(sampling_strategy='auto', random_state=42)\n",
    "    X_resampled, y_resampled = smote.fit_resample(X_pad, y_numeric)\n",
    "\n",
    "    return X_resampled, y_resampled, tokenizer\n",
    "\n",
    "def build_rnn_model(vocab_size, max_len, embedding_dim, rnn_units, dense_units, dropout_rate, num_classes):\n",
    "    model = Sequential()\n",
    "    model.add(Embedding(input_dim=vocab_size, output_dim=embedding_dim, input_length=max_len))\n",
    "    model.add(SimpleRNN(rnn_units, return_sequences=False))\n",
    "    model.add(Dropout(dropout_rate))\n",
    "    model.add(Dense(dense_units, activation='relu'))\n",
    "    model.add(Dense(num_classes, activation='softmax'))  # Set num_classes to match target classes\n",
    "    return model\n",
    "\n",
    "def train_and_evaluate(model, X_train, y_train, X_test, y_test, epochs, batch_size):\n",
    "    # Print model summary to check the shapes\n",
    "    model.summary()\n",
    "    \n",
    "    # Compile the model\n",
    "    model.compile(loss='categorical_crossentropy', optimizer='adam', metrics=['accuracy'])\n",
    "\n",
    "    # Train the model\n",
    "    model.fit(X_train, y_train, epochs=epochs, batch_size=batch_size, validation_data=(X_test, y_test), verbose=2)\n",
    "\n",
    "    # Evaluate the model on the test data\n",
    "    loss, accuracy = model.evaluate(X_test, y_test, verbose=0)\n",
    "    print(f'Test Accuracy: {accuracy:.2f}')\n",
    "\n",
    "    # Predict probabilities\n",
    "    y_pred_prob = model.predict(X_test)\n",
    "\n",
    "    # Convert predicted probabilities to class labels\n",
    "    y_pred = np.argmax(y_pred_prob, axis=1)\n",
    "    y_test_class = np.argmax(y_test, axis=1)\n",
    "\n",
    "    # Classification report\n",
    "    print(\"\\nClassification Report:\")\n",
    "    print(classification_report(y_test_class, y_pred))\n",
    "\n",
    "    # Calculate ROC-AUC score\n",
    "    roc_auc = roc_auc_score(y_test, y_pred_prob, multi_class='ovr')\n",
    "    print(f'ROC-AUC: {roc_auc:.2f}')\n",
    "\n",
    "# Main execution\n",
    "if __name__ == \"__main__\":\n",
    "    # Adjusted Hyperparameters\n",
    "    vocab_size = 2000        \n",
    "    max_len = 200            \n",
    "    embedding_dim = 16       \n",
    "    rnn_units = 32           \n",
    "    dense_units = 8          \n",
    "    dropout_rate = 0.3      \n",
    "    epochs = 3               \n",
    "    batch_size = 16          \n",
    "\n",
    "    # Preprocess data\n",
    "    X_resampled, y_resampled, tokenizer = preprocess_data(df, vocab_size, max_len)\n",
    "    \n",
    "    # Split the resampled data into train and test sets\n",
    "    X_train, X_test, y_train, y_test = train_test_split(X_resampled, y_resampled, test_size=0.2, random_state=42)\n",
    "\n",
    "    # Number of classes based on the one-hot encoded labels\n",
    "    num_classes = y_train.shape[1]\n",
    "\n",
    "    # Build the model\n",
    "    model = build_rnn_model(vocab_size, max_len, embedding_dim, rnn_units, dense_units, dropout_rate, num_classes)\n",
    "\n",
    "    # Train and evaluate the model\n",
    "    train_and_evaluate(model, X_train, y_train, X_test, y_test, epochs, batch_size)\n"
   ]
  },
  {
   "cell_type": "code",
   "execution_count": 43,
   "id": "55451aa0-7f7c-4c1e-9549-95c2b1cd5f98",
   "metadata": {},
   "outputs": [
    {
     "name": "stdout",
     "output_type": "stream",
     "text": [
      "Model: \"sequential_7\"\n",
      "_________________________________________________________________\n",
      " Layer (type)                Output Shape              Param #   \n",
      "=================================================================\n",
      " embedding_7 (Embedding)     (None, 150, 16)           48000     \n",
      "                                                                 \n",
      " simple_rnn_4 (SimpleRNN)    (None, 32)                1568      \n",
      "                                                                 \n",
      " dropout_6 (Dropout)         (None, 32)                0         \n",
      "                                                                 \n",
      " dense_14 (Dense)            (None, 8)                 264       \n",
      "                                                                 \n",
      " dense_15 (Dense)            (None, 7)                 63        \n",
      "                                                                 \n",
      "=================================================================\n",
      "Total params: 49,895\n",
      "Trainable params: 49,895\n",
      "Non-trainable params: 0\n",
      "_________________________________________________________________\n",
      "Epoch 1/3\n",
      "5720/5720 - 1335s - loss: 1.5152 - accuracy: 0.3565 - val_loss: 1.3954 - val_accuracy: 0.3945 - 1335s/epoch - 233ms/step\n",
      "Epoch 2/3\n",
      "5720/5720 - 1275s - loss: 1.3721 - accuracy: 0.4106 - val_loss: 1.3498 - val_accuracy: 0.4210 - 1275s/epoch - 223ms/step\n",
      "Epoch 3/3\n",
      "5720/5720 - 2124s - loss: 1.3217 - accuracy: 0.4385 - val_loss: 1.3459 - val_accuracy: 0.4283 - 2124s/epoch - 371ms/step\n",
      "Test Accuracy: 0.43\n",
      "716/716 [==============================] - 42s 58ms/step\n",
      "\n",
      "Classification Report:\n",
      "              precision    recall  f1-score   support\n",
      "\n",
      "           0       0.35      0.28      0.31      3375\n",
      "           1       0.27      0.28      0.28      3214\n",
      "           2       0.55      0.58      0.56      3274\n",
      "           3       0.84      0.85      0.84      3325\n",
      "           4       0.28      0.48      0.35      3241\n",
      "           5       0.25      0.12      0.17      3209\n",
      "           6       0.45      0.40      0.42      3243\n",
      "\n",
      "    accuracy                           0.43     22881\n",
      "   macro avg       0.43      0.43      0.42     22881\n",
      "weighted avg       0.43      0.43      0.42     22881\n",
      "\n",
      "ROC-AUC: 0.81\n"
     ]
    }
   ],
   "source": [
    "# Main execution\n",
    "if __name__ == \"__main__\":\n",
    "    # Adjusted Hyperparameters\n",
    "    vocab_size = 3000        \n",
    "    max_len = 150            \n",
    "    embedding_dim = 16       \n",
    "    rnn_units = 32           \n",
    "    dense_units = 8          \n",
    "    dropout_rate = 0.4      \n",
    "    epochs = 3               \n",
    "    batch_size = 16          \n",
    "\n",
    "    # Preprocess data\n",
    "    X_resampled, y_resampled, tokenizer = preprocess_data(df, vocab_size, max_len)\n",
    "    \n",
    "    # Split the resampled data into train and test sets\n",
    "    X_train, X_test, y_train, y_test = train_test_split(X_resampled, y_resampled, test_size=0.2, random_state=42)\n",
    "\n",
    "    # Number of classes based on the one-hot encoded labels\n",
    "    num_classes = y_train.shape[1]\n",
    "\n",
    "    # Build the model\n",
    "    model = build_rnn_model(vocab_size, max_len, embedding_dim, rnn_units, dense_units, dropout_rate, num_classes)\n",
    "\n",
    "    # Train and evaluate the model\n",
    "    train_and_evaluate(model, X_train, y_train, X_test, y_test, epochs, batch_size)\n"
   ]
  },
  {
   "cell_type": "code",
   "execution_count": null,
   "id": "455805c1-9068-492a-9d16-1bf9d9b5d5f6",
   "metadata": {},
   "outputs": [],
   "source": []
  }
 ],
 "metadata": {
  "kernelspec": {
   "display_name": "Python 3.10 (py310)",
   "language": "python",
   "name": "py310"
  },
  "language_info": {
   "codemirror_mode": {
    "name": "ipython",
    "version": 3
   },
   "file_extension": ".py",
   "mimetype": "text/x-python",
   "name": "python",
   "nbconvert_exporter": "python",
   "pygments_lexer": "ipython3",
   "version": "3.10.14"
  }
 },
 "nbformat": 4,
 "nbformat_minor": 5
}
