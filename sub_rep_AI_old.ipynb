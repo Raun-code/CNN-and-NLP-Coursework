{
 "cells": [
  {
   "cell_type": "code",
   "execution_count": 1,
   "id": "0c556435-6ccb-44f1-b4d8-8bc540e9ba1e",
   "metadata": {},
   "outputs": [],
   "source": [
    "import pandas as pd\n",
    "import matplotlib.pyplot as plt\n",
    "import numpy as np\n",
    "import spacy"
   ]
  },
  {
   "cell_type": "markdown",
   "id": "2e7686e0-80ee-4e2a-b668-7328deaf3320",
   "metadata": {},
   "source": [
    "# Loading the dataset"
   ]
  },
  {
   "cell_type": "code",
   "execution_count": 2,
   "id": "5d0dde22-1fd7-43f7-81bb-050c0a24f918",
   "metadata": {},
   "outputs": [
    {
     "data": {
      "text/html": [
       "<div>\n",
       "<style scoped>\n",
       "    .dataframe tbody tr th:only-of-type {\n",
       "        vertical-align: middle;\n",
       "    }\n",
       "\n",
       "    .dataframe tbody tr th {\n",
       "        vertical-align: top;\n",
       "    }\n",
       "\n",
       "    .dataframe thead th {\n",
       "        text-align: right;\n",
       "    }\n",
       "</style>\n",
       "<table border=\"1\" class=\"dataframe\">\n",
       "  <thead>\n",
       "    <tr style=\"text-align: right;\">\n",
       "      <th></th>\n",
       "      <th>Unnamed: 0</th>\n",
       "      <th>statement</th>\n",
       "      <th>status</th>\n",
       "    </tr>\n",
       "  </thead>\n",
       "  <tbody>\n",
       "    <tr>\n",
       "      <th>0</th>\n",
       "      <td>0</td>\n",
       "      <td>oh my gosh</td>\n",
       "      <td>Anxiety</td>\n",
       "    </tr>\n",
       "    <tr>\n",
       "      <th>1</th>\n",
       "      <td>1</td>\n",
       "      <td>trouble sleeping, confused mind, restless hear...</td>\n",
       "      <td>Anxiety</td>\n",
       "    </tr>\n",
       "    <tr>\n",
       "      <th>2</th>\n",
       "      <td>2</td>\n",
       "      <td>All wrong, back off dear, forward doubt. Stay ...</td>\n",
       "      <td>Anxiety</td>\n",
       "    </tr>\n",
       "    <tr>\n",
       "      <th>3</th>\n",
       "      <td>3</td>\n",
       "      <td>I've shifted my focus to something else but I'...</td>\n",
       "      <td>Anxiety</td>\n",
       "    </tr>\n",
       "    <tr>\n",
       "      <th>4</th>\n",
       "      <td>4</td>\n",
       "      <td>I'm restless and restless, it's been a month n...</td>\n",
       "      <td>Anxiety</td>\n",
       "    </tr>\n",
       "  </tbody>\n",
       "</table>\n",
       "</div>"
      ],
      "text/plain": [
       "   Unnamed: 0                                          statement   status\n",
       "0           0                                         oh my gosh  Anxiety\n",
       "1           1  trouble sleeping, confused mind, restless hear...  Anxiety\n",
       "2           2  All wrong, back off dear, forward doubt. Stay ...  Anxiety\n",
       "3           3  I've shifted my focus to something else but I'...  Anxiety\n",
       "4           4  I'm restless and restless, it's been a month n...  Anxiety"
      ]
     },
     "execution_count": 2,
     "metadata": {},
     "output_type": "execute_result"
    }
   ],
   "source": [
    "df=pd.read_csv('Combined Data.csv/Combined Data.csv')\n",
    "df.head()"
   ]
  },
  {
   "cell_type": "code",
   "execution_count": 3,
   "id": "7b96b695-f9c4-447f-a3e7-6fd98a16fb50",
   "metadata": {},
   "outputs": [
    {
     "data": {
      "text/html": [
       "<div>\n",
       "<style scoped>\n",
       "    .dataframe tbody tr th:only-of-type {\n",
       "        vertical-align: middle;\n",
       "    }\n",
       "\n",
       "    .dataframe tbody tr th {\n",
       "        vertical-align: top;\n",
       "    }\n",
       "\n",
       "    .dataframe thead th {\n",
       "        text-align: right;\n",
       "    }\n",
       "</style>\n",
       "<table border=\"1\" class=\"dataframe\">\n",
       "  <thead>\n",
       "    <tr style=\"text-align: right;\">\n",
       "      <th></th>\n",
       "      <th>statement</th>\n",
       "      <th>status</th>\n",
       "    </tr>\n",
       "  </thead>\n",
       "  <tbody>\n",
       "    <tr>\n",
       "      <th>0</th>\n",
       "      <td>oh my gosh</td>\n",
       "      <td>Anxiety</td>\n",
       "    </tr>\n",
       "    <tr>\n",
       "      <th>1</th>\n",
       "      <td>trouble sleeping, confused mind, restless hear...</td>\n",
       "      <td>Anxiety</td>\n",
       "    </tr>\n",
       "    <tr>\n",
       "      <th>2</th>\n",
       "      <td>All wrong, back off dear, forward doubt. Stay ...</td>\n",
       "      <td>Anxiety</td>\n",
       "    </tr>\n",
       "    <tr>\n",
       "      <th>3</th>\n",
       "      <td>I've shifted my focus to something else but I'...</td>\n",
       "      <td>Anxiety</td>\n",
       "    </tr>\n",
       "    <tr>\n",
       "      <th>4</th>\n",
       "      <td>I'm restless and restless, it's been a month n...</td>\n",
       "      <td>Anxiety</td>\n",
       "    </tr>\n",
       "  </tbody>\n",
       "</table>\n",
       "</div>"
      ],
      "text/plain": [
       "                                           statement   status\n",
       "0                                         oh my gosh  Anxiety\n",
       "1  trouble sleeping, confused mind, restless hear...  Anxiety\n",
       "2  All wrong, back off dear, forward doubt. Stay ...  Anxiety\n",
       "3  I've shifted my focus to something else but I'...  Anxiety\n",
       "4  I'm restless and restless, it's been a month n...  Anxiety"
      ]
     },
     "execution_count": 3,
     "metadata": {},
     "output_type": "execute_result"
    }
   ],
   "source": [
    "# Drop the 'Unnamed: 0' column\n",
    "df = df.drop(columns=['Unnamed: 0'])\n",
    "\n",
    "# Display the first few rows to verify\n",
    "df.head()"
   ]
  },
  {
   "cell_type": "code",
   "execution_count": 4,
   "id": "bdb1b4ad-461b-4c95-b562-5f6278495fef",
   "metadata": {},
   "outputs": [
    {
     "data": {
      "text/html": [
       "<div>\n",
       "<style scoped>\n",
       "    .dataframe tbody tr th:only-of-type {\n",
       "        vertical-align: middle;\n",
       "    }\n",
       "\n",
       "    .dataframe tbody tr th {\n",
       "        vertical-align: top;\n",
       "    }\n",
       "\n",
       "    .dataframe thead th {\n",
       "        text-align: right;\n",
       "    }\n",
       "</style>\n",
       "<table border=\"1\" class=\"dataframe\">\n",
       "  <thead>\n",
       "    <tr style=\"text-align: right;\">\n",
       "      <th></th>\n",
       "      <th>statement</th>\n",
       "      <th>status</th>\n",
       "    </tr>\n",
       "  </thead>\n",
       "  <tbody>\n",
       "    <tr>\n",
       "      <th>53038</th>\n",
       "      <td>Nobody takes me seriously I’ve (24M) dealt wit...</td>\n",
       "      <td>Anxiety</td>\n",
       "    </tr>\n",
       "    <tr>\n",
       "      <th>53039</th>\n",
       "      <td>selfishness  \"I don't feel very good, it's lik...</td>\n",
       "      <td>Anxiety</td>\n",
       "    </tr>\n",
       "    <tr>\n",
       "      <th>53040</th>\n",
       "      <td>Is there any way to sleep better? I can't slee...</td>\n",
       "      <td>Anxiety</td>\n",
       "    </tr>\n",
       "    <tr>\n",
       "      <th>53041</th>\n",
       "      <td>Public speaking tips? Hi, all. I have to give ...</td>\n",
       "      <td>Anxiety</td>\n",
       "    </tr>\n",
       "    <tr>\n",
       "      <th>53042</th>\n",
       "      <td>I have really bad door anxiety! It's not about...</td>\n",
       "      <td>Anxiety</td>\n",
       "    </tr>\n",
       "  </tbody>\n",
       "</table>\n",
       "</div>"
      ],
      "text/plain": [
       "                                               statement   status\n",
       "53038  Nobody takes me seriously I’ve (24M) dealt wit...  Anxiety\n",
       "53039  selfishness  \"I don't feel very good, it's lik...  Anxiety\n",
       "53040  Is there any way to sleep better? I can't slee...  Anxiety\n",
       "53041  Public speaking tips? Hi, all. I have to give ...  Anxiety\n",
       "53042  I have really bad door anxiety! It's not about...  Anxiety"
      ]
     },
     "execution_count": 4,
     "metadata": {},
     "output_type": "execute_result"
    }
   ],
   "source": [
    "df.tail()"
   ]
  },
  {
   "cell_type": "code",
   "execution_count": 5,
   "id": "fdb4e68b-2b15-495c-8db2-2b1aac10560c",
   "metadata": {},
   "outputs": [
    {
     "name": "stdout",
     "output_type": "stream",
     "text": [
      "<class 'pandas.core.frame.DataFrame'>\n",
      "RangeIndex: 53043 entries, 0 to 53042\n",
      "Data columns (total 2 columns):\n",
      " #   Column     Non-Null Count  Dtype \n",
      "---  ------     --------------  ----- \n",
      " 0   statement  52681 non-null  object\n",
      " 1   status     53043 non-null  object\n",
      "dtypes: object(2)\n",
      "memory usage: 828.9+ KB\n"
     ]
    }
   ],
   "source": [
    "df.info()"
   ]
  },
  {
   "cell_type": "markdown",
   "id": "3416e0ce-0ac5-4c27-b047-47ba96089e45",
   "metadata": {},
   "source": [
    "# Length of the Dataset"
   ]
  },
  {
   "cell_type": "code",
   "execution_count": 6,
   "id": "c00b53be-5dca-4afb-bd5d-95ad5f70632d",
   "metadata": {},
   "outputs": [
    {
     "data": {
      "text/plain": [
       "53043"
      ]
     },
     "execution_count": 6,
     "metadata": {},
     "output_type": "execute_result"
    }
   ],
   "source": [
    "len(df)"
   ]
  },
  {
   "cell_type": "markdown",
   "id": "6549424c-0a71-440a-864a-3af5acfe7430",
   "metadata": {},
   "source": [
    "# size and shape of the dataset"
   ]
  },
  {
   "cell_type": "code",
   "execution_count": 7,
   "id": "91ca9ef7-308c-442d-9b1c-27e8da6a13a0",
   "metadata": {},
   "outputs": [
    {
     "name": "stdout",
     "output_type": "stream",
     "text": [
      "Number of rows: 53043\n",
      "Number of columns: 2\n"
     ]
    }
   ],
   "source": [
    "print(\"Number of rows:\", df.shape[0])\n",
    "print(\"Number of columns:\", df.shape[1])"
   ]
  },
  {
   "cell_type": "markdown",
   "id": "48c2d799-bb1a-470c-a378-8cf88c3b8a80",
   "metadata": {},
   "source": [
    "# Description of the dataset"
   ]
  },
  {
   "cell_type": "code",
   "execution_count": 8,
   "id": "aee9c1ce-2b67-45c9-b1aa-5effcbfd7f33",
   "metadata": {},
   "outputs": [
    {
     "data": {
      "text/html": [
       "<div>\n",
       "<style scoped>\n",
       "    .dataframe tbody tr th:only-of-type {\n",
       "        vertical-align: middle;\n",
       "    }\n",
       "\n",
       "    .dataframe tbody tr th {\n",
       "        vertical-align: top;\n",
       "    }\n",
       "\n",
       "    .dataframe thead th {\n",
       "        text-align: right;\n",
       "    }\n",
       "</style>\n",
       "<table border=\"1\" class=\"dataframe\">\n",
       "  <thead>\n",
       "    <tr style=\"text-align: right;\">\n",
       "      <th></th>\n",
       "      <th>statement</th>\n",
       "      <th>status</th>\n",
       "    </tr>\n",
       "  </thead>\n",
       "  <tbody>\n",
       "    <tr>\n",
       "      <th>count</th>\n",
       "      <td>52681</td>\n",
       "      <td>53043</td>\n",
       "    </tr>\n",
       "    <tr>\n",
       "      <th>unique</th>\n",
       "      <td>51073</td>\n",
       "      <td>7</td>\n",
       "    </tr>\n",
       "    <tr>\n",
       "      <th>top</th>\n",
       "      <td>what do you mean?</td>\n",
       "      <td>Normal</td>\n",
       "    </tr>\n",
       "    <tr>\n",
       "      <th>freq</th>\n",
       "      <td>22</td>\n",
       "      <td>16351</td>\n",
       "    </tr>\n",
       "  </tbody>\n",
       "</table>\n",
       "</div>"
      ],
      "text/plain": [
       "                statement  status\n",
       "count               52681   53043\n",
       "unique              51073       7\n",
       "top     what do you mean?  Normal\n",
       "freq                   22   16351"
      ]
     },
     "execution_count": 8,
     "metadata": {},
     "output_type": "execute_result"
    }
   ],
   "source": [
    "df.describe()"
   ]
  },
  {
   "cell_type": "markdown",
   "id": "55c7054a-0582-48fa-a5d1-cae541426074",
   "metadata": {},
   "source": [
    "# checking for missing values in the dataframe."
   ]
  },
  {
   "cell_type": "code",
   "execution_count": 9,
   "id": "3dbf99c7-1c23-4ee8-be09-9f0f16380b7a",
   "metadata": {},
   "outputs": [
    {
     "name": "stdout",
     "output_type": "stream",
     "text": [
      "statement    362\n",
      "status         0\n",
      "dtype: int64\n"
     ]
    }
   ],
   "source": [
    "print(df.isnull().sum())"
   ]
  },
  {
   "cell_type": "raw",
   "id": "059af349-e34f-4136-9e6f-c71c59137eac",
   "metadata": {},
   "source": [
    "This DataFrame have two columns: statement and status.\n",
    "\n",
    "statement column has 362 missing values (NaN).\n",
    "status column has no missing values (all values are present)."
   ]
  },
  {
   "cell_type": "markdown",
   "id": "8db8d155-64a9-4c42-88fa-a6f68a7276cd",
   "metadata": {},
   "source": [
    "# Dropping these missing values:"
   ]
  },
  {
   "cell_type": "code",
   "execution_count": 10,
   "id": "40f7d6a1-852c-4848-97ba-16f51f5bf8ff",
   "metadata": {},
   "outputs": [
    {
     "name": "stdout",
     "output_type": "stream",
     "text": [
      "statement    0\n",
      "status       0\n",
      "dtype: int64\n"
     ]
    }
   ],
   "source": [
    "df = df.dropna()\n",
    "print(df.isnull().sum())"
   ]
  },
  {
   "cell_type": "markdown",
   "id": "da90bdc3-ffae-490b-b3b1-b7a4b4d95daa",
   "metadata": {},
   "source": [
    "# Exploratory Data Analysis:"
   ]
  },
  {
   "cell_type": "raw",
   "id": "82f8684d-65f4-4b43-9046-71c13d6a6852",
   "metadata": {},
   "source": [
    "Basic statistics of the dataset"
   ]
  },
  {
   "cell_type": "code",
   "execution_count": 11,
   "id": "9834b608-0057-4b77-8b26-8a2141c94cf2",
   "metadata": {},
   "outputs": [
    {
     "name": "stdout",
     "output_type": "stream",
     "text": [
      "count    52681.000000\n",
      "mean       578.713863\n",
      "std        846.269078\n",
      "min          2.000000\n",
      "25%         80.000000\n",
      "50%        317.000000\n",
      "75%        752.000000\n",
      "max      32759.000000\n",
      "Name: statement_length, dtype: float64\n"
     ]
    }
   ],
   "source": [
    "# Calculate the length of each statement\n",
    "df['statement_length'] = df['statement'].apply(len)\n",
    "\n",
    "# Display basic statistics of statement lengths\n",
    "print(df['statement_length'].describe())"
   ]
  },
  {
   "cell_type": "markdown",
   "id": "ff23d014-23a4-4930-b9a5-a3c0483c0582",
   "metadata": {},
   "source": [
    "# checking the number of nunique values in the dataset"
   ]
  },
  {
   "cell_type": "code",
   "execution_count": 12,
   "id": "2c7e3168-eaa0-455b-a96d-8d3f3728baba",
   "metadata": {},
   "outputs": [
    {
     "data": {
      "text/plain": [
       "7"
      ]
     },
     "execution_count": 12,
     "metadata": {},
     "output_type": "execute_result"
    }
   ],
   "source": [
    "df['status'].nunique()"
   ]
  },
  {
   "cell_type": "markdown",
   "id": "9874d5b7-2c48-439a-bdcc-0981453a469a",
   "metadata": {},
   "source": [
    "# checking the unique values in the dataset."
   ]
  },
  {
   "cell_type": "code",
   "execution_count": 13,
   "id": "3f1828ba-7f5b-4d6a-824d-126969a91fa3",
   "metadata": {},
   "outputs": [
    {
     "data": {
      "text/plain": [
       "array(['Anxiety', 'Normal', 'Depression', 'Suicidal', 'Stress', 'Bipolar',\n",
       "       'Personality disorder'], dtype=object)"
      ]
     },
     "execution_count": 13,
     "metadata": {},
     "output_type": "execute_result"
    }
   ],
   "source": [
    "df['status'].unique()"
   ]
  },
  {
   "cell_type": "markdown",
   "id": "1330a847-70df-4084-86e7-1ee78925c2a8",
   "metadata": {},
   "source": [
    "# number of characters and words per statement:"
   ]
  },
  {
   "cell_type": "code",
   "execution_count": 14,
   "id": "a4c0b9bf-8544-4539-925f-3999a696eaaf",
   "metadata": {},
   "outputs": [
    {
     "name": "stdout",
     "output_type": "stream",
     "text": [
      "maximum number of characters per statment: 32759\n",
      "maximum number of words per statment: 6300\n"
     ]
    }
   ],
   "source": [
    "# characters length\n",
    "df['statment_length']=df['statement'].apply(lambda x:len(x))\n",
    "# words length\n",
    "df['num_of_words']=df['statement'].apply(lambda x:len(x.split()))\n",
    "print(\"maximum number of characters per statment:\", df['statment_length'].max())\n",
    "print(\"maximum number of words per statment:\", df['num_of_words'].max())\n"
   ]
  },
  {
   "cell_type": "markdown",
   "id": "5b0e5c30-da4a-4610-8a2e-dbd147964e12",
   "metadata": {},
   "source": [
    "# distribution of the 'status' column with their value counts"
   ]
  },
  {
   "cell_type": "code",
   "execution_count": 15,
   "id": "ed8e41fe-23f7-4fa0-a0fa-eeb6d2d29a7b",
   "metadata": {},
   "outputs": [
    {
     "name": "stdout",
     "output_type": "stream",
     "text": [
      "status\n",
      "Normal                  16343\n",
      "Depression              15404\n",
      "Suicidal                10652\n",
      "Anxiety                  3841\n",
      "Bipolar                  2777\n",
      "Stress                   2587\n",
      "Personality disorder     1077\n",
      "Name: count, dtype: int64\n"
     ]
    }
   ],
   "source": [
    "# Check the distribution of the 'status' column with their value counts\n",
    "sentiment_distribution = df['status'].value_counts()\n",
    "\n",
    "# Display the distribution\n",
    "print(sentiment_distribution)"
   ]
  },
  {
   "cell_type": "raw",
   "id": "44745f6a-a496-48ea-8409-e1f431238242",
   "metadata": {},
   "source": [
    "As we can see that the dataset is not balanced because:\n",
    "The class \"Normal\" has 16,343 instances, while the class \"Personality disorder\" has only 1,077 instances.\n",
    "The other classes fall somewhere in between, with \"Depression\" having 15,404 instances and \"Anxiety\" having 3,841 instances."
   ]
  },
  {
   "cell_type": "code",
   "execution_count": 16,
   "id": "ea1f3bf4-edb4-420c-b76b-43376445323e",
   "metadata": {},
   "outputs": [
    {
     "data": {
      "text/plain": [
       "<Axes: title={'center': 'Distribution of Sentiments'}, xlabel='status'>"
      ]
     },
     "execution_count": 16,
     "metadata": {},
     "output_type": "execute_result"
    },
    {
     "data": {
      "image/png": "[encoded data removed]",
      "text/plain": [
       "<Figure size 640x480 with 1 Axes>"
      ]
     },
     "metadata": {},
     "output_type": "display_data"
    }
   ],
   "source": [
    "# plotting graph for visualizations\n",
    "sentiment_distribution.plot(kind='bar', title='Distribution of Sentiments')"
   ]
  },
  {
   "cell_type": "markdown",
   "id": "386d9807-2cb1-41f2-97d2-fc71e3a38026",
   "metadata": {},
   "source": [
    "# Correlation between statment length and number of words"
   ]
  },
  {
   "cell_type": "code",
   "execution_count": 17,
   "id": "e288884e-1c5d-42f4-a69b-01ab06da27a5",
   "metadata": {},
   "outputs": [
    {
     "data": {
      "text/plain": [
       "<Axes: >"
      ]
     },
     "execution_count": 17,
     "metadata": {},
     "output_type": "execute_result"
    },
    {
     "data": {
      "image/png": "[encoded data removed]",
      "text/plain": [
       "<Figure size 640x480 with 2 Axes>"
      ]
     },
     "metadata": {},
     "output_type": "display_data"
    }
   ],
   "source": [
    "import seaborn as sns\n",
    "corr=df[['statment_length','num_of_words']].corr()\n",
    "sns.heatmap(corr,annot=True,fmt='.2f')"
   ]
  },
  {
   "cell_type": "markdown",
   "id": "75db2f4e-4ebe-4ce2-975e-7e25af1abbe5",
   "metadata": {},
   "source": [
    "# Data Preprocessing:"
   ]
  },
  {
   "cell_type": "raw",
   "id": "4eb992a3-cf59-4af1-9849-8f0358b546e2",
   "metadata": {},
   "source": [
    "# check for repetive words,stopwords and punctuation and convert words to lower\n",
    "Convert text to lowercase\n",
    "Remove punctuation\n",
    "Remove stopwords\n",
    "Remove repetitive words"
   ]
  },
  {
   "cell_type": "code",
   "execution_count": 18,
   "id": "1b3a3f4b-e1f2-4584-887b-f2abb1d6581a",
   "metadata": {},
   "outputs": [
    {
     "name": "stderr",
     "output_type": "stream",
     "text": [
      "[nltk_data] Downloading package stopwords to\n",
      "[nltk_data]     C:\\Users\\masih\\AppData\\Roaming\\nltk_data...\n",
      "[nltk_data]   Package stopwords is already up-to-date!\n",
      "[nltk_data] Downloading package punkt to\n",
      "[nltk_data]     C:\\Users\\masih\\AppData\\Roaming\\nltk_data...\n",
      "[nltk_data]   Package punkt is already up-to-date!\n"
     ]
    }
   ],
   "source": [
    "import pandas as pd\n",
    "import string\n",
    "from nltk.corpus import stopwords\n",
    "from nltk.tokenize import word_tokenize\n",
    "from nltk import download\n",
    "\n",
    "# Download necessary NLTK resources\n",
    "download('stopwords')\n",
    "download('punkt')\n",
    "\n",
    "# Define stopwords\n",
    "stop_words = set(stopwords.words('english'))\n",
    "\n",
    "# Preprocessing function\n",
    "def preprocess_text(text):\n",
    "    # Convert text to lowercase\n",
    "    text = text.lower()\n",
    "    \n",
    "    # Remove punctuation\n",
    "    text = text.translate(str.maketrans('', '', string.punctuation))\n",
    "    \n",
    "    # Tokenize the text\n",
    "    tokens = word_tokenize(text)\n",
    "    \n",
    "    # Remove stopwords\n",
    "    tokens = [word for word in tokens if word not in stop_words]\n",
    "    \n",
    "    # Remove repetitive words (keep only unique words)\n",
    "    tokens = list(set(tokens))\n",
    "    \n",
    "    # Reconstruct the text from tokens\n",
    "    cleaned_text = ' '.join(tokens)\n",
    "    \n",
    "    return cleaned_text\n",
    "\n",
    "\n",
    "\n"
   ]
  },
  {
   "cell_type": "code",
   "execution_count": 19,
   "id": "e3688ee1-4cde-4de4-bbc5-12b6d68239fd",
   "metadata": {},
   "outputs": [
    {
     "name": "stdout",
     "output_type": "stream",
     "text": [
      "                                       cleaned_statement   status\n",
      "0                                                oh gosh  Anxiety\n",
      "1      restless heart tune mind confused trouble slee...  Anxiety\n",
      "2      doubt dear stay forward restless back place wrong  Anxiety\n",
      "3      ive still focus else something im worried shifted  Anxiety\n",
      "4                             mean restless boy im month  Anxiety\n",
      "...                                                  ...      ...\n",
      "53038  ended alone eventually normal feel vitamin lik...  Anxiety\n",
      "53039  try suffered deserve gt least mistake belong c...  Anxiety\n",
      "53040       way nights help better sleep meds cant didnt  Anxiety\n",
      "53041  speaking week ceo forget certain much kicks su...  Anxiety\n",
      "53042  bad honestly door pulling opening problem way ...  Anxiety\n",
      "\n",
      "[52681 rows x 2 columns]\n"
     ]
    }
   ],
   "source": [
    "# Apply preprocessing to the 'statement' column\n",
    "df['cleaned_statement'] = df['statement'].apply(preprocess_text)\n",
    "\n",
    "# Display the DataFrame with cleaned text\n",
    "print(df[['cleaned_statement', 'status']])"
   ]
  },
  {
   "cell_type": "markdown",
   "id": "2876700d-2a70-4a84-9dce-7035ef6a318b",
   "metadata": {},
   "source": [
    "# Balancing the Dataset"
   ]
  },
  {
   "cell_type": "code",
   "execution_count": 20,
   "id": "b508815d-4883-4b1b-a02d-f3438318a9d7",
   "metadata": {},
   "outputs": [
    {
     "name": "stdout",
     "output_type": "stream",
     "text": [
      "Original dataset shape: Counter({'Normal': 16343, 'Depression': 15404, 'Suicidal': 10652, 'Anxiety': 3841, 'Bipolar': 2777, 'Stress': 2587, 'Personality disorder': 1077})\n",
      "Resampled dataset shape: Counter({'Anxiety': 16343, 'Normal': 16343, 'Depression': 16343, 'Suicidal': 16343, 'Stress': 16343, 'Bipolar': 16343, 'Personality disorder': 16343})\n"
     ]
    }
   ],
   "source": [
    "from imblearn.over_sampling import SMOTE\n",
    "from collections import Counter\n",
    "from sklearn.feature_extraction.text import TfidfVectorizer\n",
    "from sklearn.model_selection import train_test_split\n",
    "\n",
    "# Separate the features and the target variable\n",
    "X = df['cleaned_statement']  # Use preprocessed text data\n",
    "y = df['status']  # Use the original status labels (categorical)\n",
    "\n",
    "# Convert text data to TF-IDF features\n",
    "vectorizer = TfidfVectorizer()\n",
    "X_tfidf = vectorizer.fit_transform(X)\n",
    "\n",
    "# Apply SMOTE to balance the dataset\n",
    "smote = SMOTE(sampling_strategy='auto', random_state=42)\n",
    "X_resampled, y_resampled = smote.fit_resample(X_tfidf, y)\n",
    "\n",
    "# Check the new class distribution\n",
    "print('Original dataset shape:', Counter(y))\n",
    "print('Resampled dataset shape:', Counter(y_resampled))\n",
    "\n",
    "\n"
   ]
  },
  {
   "cell_type": "markdown",
   "id": "be84601d-4cea-4305-a206-fa8647ca2f2a",
   "metadata": {},
   "source": [
    "# Training and Testing Split:"
   ]
  },
  {
   "cell_type": "code",
   "execution_count": 21,
   "id": "0143aa86-daea-44e4-90eb-06c82a1a2de5",
   "metadata": {},
   "outputs": [
    {
     "name": "stdout",
     "output_type": "stream",
     "text": [
      "X_train shape: (91520, 78550)\n",
      "X_test shape: (22881, 78550)\n",
      "y_train shape: (91520,)\n",
      "y_test shape: (22881,)\n"
     ]
    }
   ],
   "source": [
    "# Split the resampled data into train and test sets\n",
    "X_train, X_test, y_train, y_test = train_test_split(X_resampled, y_resampled, test_size=0.2, random_state=42)\n",
    "\n",
    "# Display the shapes of the train and test sets\n",
    "print(f'X_train shape: {X_train.shape}')\n",
    "print(f'X_test shape: {X_test.shape}')\n",
    "print(f'y_train shape: {y_train.shape}')\n",
    "print(f'y_test shape: {y_test.shape}')"
   ]
  },
  {
   "cell_type": "markdown",
   "id": "ae6e5c1e-7500-468c-94d7-73cd25eb11de",
   "metadata": {},
   "source": [
    "# Traditional Machine Learning Models"
   ]
  },
  {
   "cell_type": "markdown",
   "id": "92063579-9d83-466f-92c2-17900fac67ee",
   "metadata": {},
   "source": [
    "# Naive Bayes:"
   ]
  },
  {
   "cell_type": "code",
   "execution_count": 22,
   "id": "31eb3385-9e44-4b81-aaca-a7984e9ab49f",
   "metadata": {},
   "outputs": [
    {
     "name": "stdout",
     "output_type": "stream",
     "text": [
      "                      precision    recall  f1-score   support\n",
      "\n",
      "             Anxiety       0.85      0.88      0.86      3375\n",
      "             Bipolar       0.78      0.96      0.86      3214\n",
      "          Depression       0.60      0.60      0.60      3274\n",
      "              Normal       0.96      0.42      0.58      3325\n",
      "Personality disorder       0.73      0.99      0.84      3241\n",
      "              Stress       0.80      0.84      0.82      3209\n",
      "            Suicidal       0.73      0.65      0.69      3243\n",
      "\n",
      "            accuracy                           0.76     22881\n",
      "           macro avg       0.78      0.76      0.75     22881\n",
      "        weighted avg       0.78      0.76      0.75     22881\n",
      "\n",
      "ROC-AUC: 0.97\n"
     ]
    }
   ],
   "source": [
    "from sklearn.naive_bayes import MultinomialNB\n",
    "from sklearn.metrics import classification_report, roc_auc_score\n",
    "from sklearn.model_selection import train_test_split\n",
    "from sklearn.preprocessing import label_binarize\n",
    "\n",
    "# Assuming X_resampled and y_resampled are already defined# Split the resampled data into train and test sets\n",
    "X_train, X_test, y_train, y_test = train_test_split(X_resampled, y_resampled, test_size=0.2, random_state=42)\n",
    "\n",
    "# Initialize the Naive Bayes classifier\n",
    "nb_clf = MultinomialNB()\n",
    "\n",
    "# Train the classifier\n",
    "nb_clf.fit(X_train, y_train)\n",
    "\n",
    "# Make predictions on the test set\n",
    "y_pred = nb_clf.predict(X_test)\n",
    "y_prob = nb_clf.predict_proba(X_test)\n",
    "\n",
    "# Print the classification report for each classprint(\"Classification Report:\")\n",
    "print(classification_report(y_test, y_pred))\n",
    "\n",
    "# Binarize the output labels for ROC-AUC calculation (for multi-class problems)\n",
    "y_test_bin = label_binarize(y_test, classes=nb_clf.classes_)\n",
    "\n",
    "# Calculate the ROC-AUC score\n",
    "roc_auc = roc_auc_score(y_test_bin, y_prob, multi_class='ovr')\n",
    "\n",
    "print(f\"ROC-AUC: {roc_auc:.2f}\")\n"
   ]
  },
  {
   "cell_type": "markdown",
   "id": "804592be-c8fb-4b4f-ad56-133e819aa3a7",
   "metadata": {},
   "source": [
    "# Hyperparameter tuning:"
   ]
  },
  {
   "cell_type": "code",
   "execution_count": 23,
   "id": "bbdc9d14-baee-44d3-8dbd-ec5612ec5dc1",
   "metadata": {},
   "outputs": [
    {
     "name": "stdout",
     "output_type": "stream",
     "text": [
      "Best Parameters: {'alpha': 0.1, 'fit_prior': False}\n",
      "Classification Report:\n",
      "                      precision    recall  f1-score   support\n",
      "\n",
      "             Anxiety       0.87      0.93      0.90      3375\n",
      "             Bipolar       0.87      0.97      0.92      3214\n",
      "          Depression       0.69      0.59      0.63      3274\n",
      "              Normal       0.93      0.62      0.75      3325\n",
      "Personality disorder       0.86      0.99      0.92      3241\n",
      "              Stress       0.86      0.93      0.89      3209\n",
      "            Suicidal       0.71      0.78      0.75      3243\n",
      "\n",
      "            accuracy                           0.83     22881\n",
      "           macro avg       0.83      0.83      0.82     22881\n",
      "        weighted avg       0.83      0.83      0.82     22881\n",
      "\n",
      "ROC-AUC: 0.98\n"
     ]
    }
   ],
   "source": [
    "from sklearn.naive_bayes import MultinomialNB\n",
    "from sklearn.metrics import classification_report, roc_auc_score\n",
    "from sklearn.model_selection import train_test_split, GridSearchCV\n",
    "from sklearn.preprocessing import label_binarize\n",
    "\n",
    "def tune_naive_bayes(X_resampled, y_resampled, param_grid, test_size=0.2, random_state=42, cv=5):\n",
    "    \"\"\"\n",
    "    Function to perform hyperparameter tuning on a Multinomial Naive Bayes model.\n",
    "\n",
    "    Parameters:\n",
    "    - X_resampled: Feature matrix (sparse matrix or dense array).\n",
    "    - y_resampled: Target vector.\n",
    "    - param_grid: Dictionary of hyperparameters to tune.\n",
    "    - test_size: Proportion of the dataset to include in the test split.\n",
    "    - random_state: Controls the shuffling applied to the data before applying the split.\n",
    "    - cv: Number of cross-validation folds.\n",
    "\n",
    "    Returns:\n",
    "    - best_params: Best hyperparameters found.\n",
    "    - metrics: Dictionary containing evaluation metrics (classification report and ROC-AUC).\n",
    "    \"\"\"# Split the data into training and testing sets\n",
    "    X_train, X_test, y_train, y_test = train_test_split(X_resampled, y_resampled, test_size=test_size, random_state=random_state)\n",
    "\n",
    "    # Initialize the Naive Bayes classifier\n",
    "    nb_clf = MultinomialNB()\n",
    "\n",
    "    # Create the GridSearchCV object\n",
    "    grid_search = GridSearchCV(nb_clf, param_grid, scoring='accuracy', cv=cv, n_jobs=-1)\n",
    "\n",
    "    # Fit the GridSearchCV object to the training data\n",
    "    grid_search.fit(X_train, y_train)\n",
    "\n",
    "    # Get the best estimator and its parameters\n",
    "    best_nb_clf = grid_search.best_estimator_\n",
    "    best_params = grid_search.best_params_\n",
    "\n",
    "    # Train the best estimator on the entire training set\n",
    "    best_nb_clf.fit(X_train, y_train)\n",
    "\n",
    "    # Make predictions on the test set\n",
    "    y_pred = best_nb_clf.predict(X_test)\n",
    "    y_prob = best_nb_clf.predict_proba(X_test)\n",
    "\n",
    "    # Print the classification report\n",
    "    classification_rep = classification_report(y_test, y_pred)\n",
    "\n",
    "    # Binarize the output labels for ROC-AUC calculation (for multi-class problems)\n",
    "    y_test_bin = label_binarize(y_test, classes=best_nb_clf.classes_)\n",
    "\n",
    "    # Calculate the ROC-AUC score\n",
    "    roc_auc = roc_auc_score(y_test_bin, y_prob, multi_class='ovr')\n",
    "\n",
    "    # Compile metrics\n",
    "    metrics = {\n",
    "        'classification_report': classification_rep,\n",
    "        'ROC-AUC': roc_auc\n",
    "    }\n",
    "\n",
    "    return best_params, metrics\n",
    "\n",
    "# Example usage:\n",
    "param_grid = {'alpha': [0.1, 0.5, 1.0, 2.0, 5.0], 'fit_prior': [True, False]}\n",
    "best_params, metrics = tune_naive_bayes(X_resampled, y_resampled, param_grid)\n",
    "\n",
    "print(\"Best Parameters:\", best_params)\n",
    "print(\"Classification Report:\")\n",
    "print(metrics['classification_report'])\n",
    "print(f\"ROC-AUC: {metrics['ROC-AUC']:.2f}\")\n"
   ]
  },
  {
   "cell_type": "code",
   "execution_count": 24,
   "id": "17e81261-01a0-423a-91a3-f45a70bbc83b",
   "metadata": {},
   "outputs": [
    {
     "name": "stdout",
     "output_type": "stream",
     "text": [
      "Best Parameters: {'alpha': 0.1, 'fit_prior': True}\n",
      "Classification Report:\n",
      "                      precision    recall  f1-score   support\n",
      "\n",
      "             Anxiety       0.88      0.92      0.90      3375\n",
      "             Bipolar       0.87      0.97      0.92      3214\n",
      "          Depression       0.69      0.58      0.63      3274\n",
      "              Normal       0.93      0.62      0.75      3325\n",
      "Personality disorder       0.86      0.99      0.92      3241\n",
      "              Stress       0.85      0.93      0.89      3209\n",
      "            Suicidal       0.71      0.78      0.75      3243\n",
      "\n",
      "            accuracy                           0.83     22881\n",
      "           macro avg       0.83      0.83      0.82     22881\n",
      "        weighted avg       0.83      0.83      0.82     22881\n",
      "\n",
      "ROC-AUC: 0.98\n"
     ]
    }
   ],
   "source": [
    "# Example usage:\n",
    "param_grid = {'alpha': [0.1, 0.5, 1.0, 2.0, 5.0], 'fit_prior': [True]}\n",
    "best_params, metrics = tune_naive_bayes(X_resampled, y_resampled, param_grid)\n",
    "\n",
    "print(\"Best Parameters:\", best_params)\n",
    "print(\"Classification Report:\")\n",
    "print(metrics['classification_report'])\n",
    "print(f\"ROC-AUC: {metrics['ROC-AUC']:.2f}\")"
   ]
  },
  {
   "cell_type": "code",
   "execution_count": 25,
   "id": "e82c3dbd-b0ee-475a-8be4-bea6724f9823",
   "metadata": {},
   "outputs": [
    {
     "name": "stdout",
     "output_type": "stream",
     "text": [
      "Best Parameters: {'alpha': 0.01, 'fit_prior': False}\n",
      "Classification Report:\n",
      "                      precision    recall  f1-score   support\n",
      "\n",
      "             Anxiety       0.89      0.94      0.91      3375\n",
      "             Bipolar       0.88      0.98      0.93      3214\n",
      "          Depression       0.71      0.60      0.65      3274\n",
      "              Normal       0.94      0.64      0.76      3325\n",
      "Personality disorder       0.89      0.99      0.94      3241\n",
      "              Stress       0.88      0.94      0.91      3209\n",
      "            Suicidal       0.71      0.80      0.75      3243\n",
      "\n",
      "            accuracy                           0.84     22881\n",
      "           macro avg       0.84      0.84      0.84     22881\n",
      "        weighted avg       0.84      0.84      0.84     22881\n",
      "\n",
      "ROC-AUC: 0.98\n"
     ]
    }
   ],
   "source": [
    "# Example usage:\n",
    "param_grid = {'alpha': [0.01, 0.1, 0.5, 1.0, 5.0, 10.0], 'fit_prior': [True, False]}\n",
    "best_params, metrics = tune_naive_bayes(X_resampled, y_resampled, param_grid)\n",
    "\n",
    "print(\"Best Parameters:\", best_params)\n",
    "print(\"Classification Report:\")\n",
    "print(metrics['classification_report'])\n",
    "print(f\"ROC-AUC: {metrics['ROC-AUC']:.2f}\")"
   ]
  },
  {
   "cell_type": "code",
   "execution_count": 26,
   "id": "92ab194a-e43e-4f41-b5df-4d899f436c32",
   "metadata": {},
   "outputs": [
    {
     "name": "stdout",
     "output_type": "stream",
     "text": [
      "Best Parameters: {'alpha': 0.01, 'fit_prior': True}\n",
      "Classification Report:\n",
      "                      precision    recall  f1-score   support\n",
      "\n",
      "             Anxiety       0.89      0.94      0.92      3375\n",
      "             Bipolar       0.88      0.98      0.93      3214\n",
      "          Depression       0.71      0.60      0.65      3274\n",
      "              Normal       0.94      0.64      0.76      3325\n",
      "Personality disorder       0.89      0.99      0.94      3241\n",
      "              Stress       0.88      0.94      0.91      3209\n",
      "            Suicidal       0.71      0.80      0.75      3243\n",
      "\n",
      "            accuracy                           0.84     22881\n",
      "           macro avg       0.84      0.84      0.84     22881\n",
      "        weighted avg       0.84      0.84      0.84     22881\n",
      "\n",
      "ROC-AUC: 0.98\n"
     ]
    }
   ],
   "source": [
    "# Example usage:\n",
    "param_grid = {'alpha': [0.01, 0.05, 0.1, 0.5, 1.0], 'fit_prior': [True]}\n",
    "best_params, metrics = tune_naive_bayes(X_resampled, y_resampled, param_grid)\n",
    "\n",
    "print(\"Best Parameters:\", best_params)\n",
    "print(\"Classification Report:\")\n",
    "print(metrics['classification_report'])\n",
    "print(f\"ROC-AUC: {metrics['ROC-AUC']:.2f}\")"
   ]
  },
  {
   "cell_type": "markdown",
   "id": "39a8fcd9-a11a-40c3-ae5e-afdd3e1fb769",
   "metadata": {},
   "source": [
    "# Logistic Regression:"
   ]
  },
  {
   "cell_type": "code",
   "execution_count": 27,
   "id": "df7c5aea-1de4-4316-b93c-ab573fc8a074",
   "metadata": {},
   "outputs": [
    {
     "name": "stdout",
     "output_type": "stream",
     "text": [
      "Classification Report:\n",
      "\n",
      "                      precision    recall  f1-score   support\n",
      "\n",
      "             Anxiety       0.95      0.95      0.95      3375\n",
      "             Bipolar       0.96      0.96      0.96      3214\n",
      "          Depression       0.75      0.65      0.69      3274\n",
      "              Normal       0.85      0.91      0.88      3325\n",
      "Personality disorder       0.97      0.99      0.98      3241\n",
      "              Stress       0.91      0.95      0.93      3209\n",
      "            Suicidal       0.74      0.74      0.74      3243\n",
      "\n",
      "            accuracy                           0.88     22881\n",
      "           macro avg       0.88      0.88      0.88     22881\n",
      "        weighted avg       0.88      0.88      0.88     22881\n",
      "\n",
      "ROC-AUC: 0.98\n"
     ]
    }
   ],
   "source": [
    "from sklearn.linear_model import LogisticRegression\n",
    "from sklearn.metrics import classification_report, roc_auc_score\n",
    "from sklearn.model_selection import train_test_split\n",
    "from sklearn.preprocessing import label_binarize\n",
    "\n",
    "# Initialize the Logistic Regression classifier\n",
    "logreg_clf = LogisticRegression(max_iter=500, random_state=42)\n",
    "\n",
    "# Train the classifier\n",
    "logreg_clf.fit(X_train, y_train)\n",
    "\n",
    "# Make predictions on the test set\n",
    "y_pred = logreg_clf.predict(X_test)\n",
    "y_prob = logreg_clf.predict_proba(X_test)\n",
    "\n",
    "# Print classification report for each label\n",
    "print(\"Classification Report:\\n\")\n",
    "print(classification_report(y_test, y_pred))\n",
    "\n",
    "# For ROC-AUC, binarize the output labels if it's a multi-class problem\n",
    "y_test_bin = label_binarize(y_test, classes=logreg_clf.classes_)\n",
    "roc_auc = roc_auc_score(y_test_bin, y_prob, multi_class='ovr')\n",
    "\n",
    "# Print the ROC-AUC score\n",
    "print(f\"ROC-AUC: {roc_auc:.2f}\")\n"
   ]
  },
  {
   "cell_type": "markdown",
   "id": "b376bb28-e91e-4437-9a41-d4f31e94e9ca",
   "metadata": {},
   "source": [
    "# Hyperparameter Tuning:"
   ]
  },
  {
   "cell_type": "code",
   "execution_count": 28,
   "id": "742bd604-b1ee-466b-ae28-235980e95554",
   "metadata": {},
   "outputs": [
    {
     "name": "stdout",
     "output_type": "stream",
     "text": [
      "Best Parameters: {'C': 1.0, 'max_iter': 100, 'penalty': 'l2', 'solver': 'liblinear'}\n",
      "Classification Report:\n",
      "\n",
      "                      precision    recall  f1-score   support\n",
      "\n",
      "             Anxiety       0.93      0.94      0.94      3375\n",
      "             Bipolar       0.96      0.96      0.96      3214\n",
      "          Depression       0.75      0.62      0.68      3274\n",
      "              Normal       0.84      0.92      0.87      3325\n",
      "Personality disorder       0.96      0.99      0.98      3241\n",
      "              Stress       0.90      0.93      0.92      3209\n",
      "            Suicidal       0.74      0.74      0.74      3243\n",
      "\n",
      "            accuracy                           0.87     22881\n",
      "           macro avg       0.87      0.87      0.87     22881\n",
      "        weighted avg       0.87      0.87      0.87     22881\n",
      "\n",
      "ROC-AUC: 0.98\n"
     ]
    }
   ],
   "source": [
    "from sklearn.linear_model import LogisticRegression\n",
    "from sklearn.metrics import classification_report, roc_auc_score\n",
    "from sklearn.model_selection import train_test_split, GridSearchCV\n",
    "from sklearn.preprocessing import label_binarize\n",
    "\n",
    "# Function to train and evaluate the Logistic Regression model\n",
    "def train_and_evaluate(X_resampled, y_resampled, param_grid=None):\n",
    "    # Split the resampled data into train and test sets\n",
    "    X_train, X_test, y_train, y_test = train_test_split(X_resampled, y_resampled, test_size=0.2, random_state=42)\n",
    "    \n",
    "    # Initialize the Logistic Regression classifier\n",
    "    logreg_clf = LogisticRegression(random_state=42)\n",
    "    \n",
    "    # If param_grid is provided, use GridSearchCV for hyperparameter tuning\n",
    "    if param_grid:\n",
    "        grid_search = GridSearchCV(logreg_clf, param_grid, scoring='accuracy', cv=3, n_jobs=-1)  \n",
    "        grid_search.fit(X_train, y_train)\n",
    "        logreg_clf = grid_search.best_estimator_\n",
    "        print(\"Best Parameters:\", grid_search.best_params_)\n",
    "    else:\n",
    "        # Train the classifier without hyperparameter tuning\n",
    "        logreg_clf.fit(X_train, y_train)\n",
    "    \n",
    "    # Make predictions on the test set\n",
    "    y_pred = logreg_clf.predict(X_test)\n",
    "    y_prob = logreg_clf.predict_proba(X_test)\n",
    "    \n",
    "    # Print classification report for each label\n",
    "    print(\"Classification Report:\\n\")\n",
    "    print(classification_report(y_test, y_pred))\n",
    "    \n",
    "    # For ROC-AUC, binarize the output labels if it's a multi-class problem\n",
    "    y_test_bin = label_binarize(y_test, classes=logreg_clf.classes_)\n",
    "    roc_auc = roc_auc_score(y_test_bin, y_prob, multi_class='ovr')\n",
    "    \n",
    "    # Print the ROC-AUC score\n",
    "    print(f\"ROC-AUC: {roc_auc:.2f}\")\n",
    "\n",
    "# Define the simplified parameter grid for hyperparameter tuning\n",
    "param_grid = {\n",
    "    'C': [0.1, 1.0],\n",
    "    'solver': ['liblinear'],  # Use a single solver to speed up the process\n",
    "    'penalty': ['l2'],\n",
    "    'max_iter': [100]  # Fixed max_iter to avoid long runs\n",
    "}\n",
    "\n",
    "# Call the function with the simplified parameter grid for hyperparameter tuning\n",
    "train_and_evaluate(X_resampled, y_resampled, param_grid=param_grid)\n"
   ]
  },
  {
   "cell_type": "code",
   "execution_count": 29,
   "id": "caa14cc6-3024-40c7-84fb-8759818f7fcf",
   "metadata": {},
   "outputs": [
    {
     "name": "stdout",
     "output_type": "stream",
     "text": [
      "Best Parameters: {'C': 5.0, 'max_iter': 150, 'penalty': 'l2', 'solver': 'liblinear'}\n",
      "Classification Report:\n",
      "\n",
      "                      precision    recall  f1-score   support\n",
      "\n",
      "             Anxiety       0.96      0.98      0.97      3375\n",
      "             Bipolar       0.97      0.98      0.98      3214\n",
      "          Depression       0.77      0.65      0.71      3274\n",
      "              Normal       0.89      0.92      0.90      3325\n",
      "Personality disorder       0.98      1.00      0.99      3241\n",
      "              Stress       0.93      0.98      0.95      3209\n",
      "            Suicidal       0.75      0.76      0.75      3243\n",
      "\n",
      "            accuracy                           0.89     22881\n",
      "           macro avg       0.89      0.89      0.89     22881\n",
      "        weighted avg       0.89      0.89      0.89     22881\n",
      "\n",
      "ROC-AUC: 0.98\n"
     ]
    }
   ],
   "source": [
    "# Define the simplified parameter grid for hyperparameter tuning\n",
    "param_grid = {\n",
    "    'C': [0.5, 1.0, 5.0],\n",
    "    'solver': ['liblinear'],  # Use a single solver to speed up the process\n",
    "    'penalty': ['l2'],\n",
    "    'max_iter': [150]  # Fixed max_iter to avoid long runs\n",
    "}\n",
    "\n",
    "# Call the function with the simplified parameter grid for hyperparameter tuning\n",
    "train_and_evaluate(X_resampled, y_resampled, param_grid=param_grid)"
   ]
  },
  {
   "cell_type": "code",
   "execution_count": 30,
   "id": "9fd8b69b-d07a-47ae-b3f9-1493b5bf47c8",
   "metadata": {},
   "outputs": [
    {
     "name": "stdout",
     "output_type": "stream",
     "text": [
      "Best Parameters: {'C': 10.0, 'max_iter': 100, 'penalty': 'l2', 'solver': 'liblinear'}\n",
      "Classification Report:\n",
      "\n",
      "                      precision    recall  f1-score   support\n",
      "\n",
      "             Anxiety       0.96      0.98      0.97      3375\n",
      "             Bipolar       0.97      0.99      0.98      3214\n",
      "          Depression       0.78      0.67      0.72      3274\n",
      "              Normal       0.90      0.91      0.90      3325\n",
      "Personality disorder       0.98      1.00      0.99      3241\n",
      "              Stress       0.94      0.99      0.96      3209\n",
      "            Suicidal       0.75      0.77      0.76      3243\n",
      "\n",
      "            accuracy                           0.90     22881\n",
      "           macro avg       0.90      0.90      0.90     22881\n",
      "        weighted avg       0.90      0.90      0.90     22881\n",
      "\n",
      "ROC-AUC: 0.98\n"
     ]
    }
   ],
   "source": [
    "# Define the simplified parameter grid for hyperparameter tuning\n",
    "param_grid = {\n",
    "    'C': [1.0, 10.0],\n",
    "    'solver': ['liblinear'],  # Use a single solver to speed up the process\n",
    "    'penalty': ['l2'],\n",
    "    'max_iter': [100, 200]  # Fixed max_iter to avoid long runs\n",
    "}\n",
    "\n",
    "# Call the function with the simplified parameter grid for hyperparameter tuning\n",
    "train_and_evaluate(X_resampled, y_resampled, param_grid=param_grid)"
   ]
  },
  {
   "cell_type": "code",
   "execution_count": 31,
   "id": "e70fb7d0-ae7f-4027-894e-213dc7b146d2",
   "metadata": {},
   "outputs": [
    {
     "name": "stdout",
     "output_type": "stream",
     "text": [
      "Best Parameters: {'C': 10.0, 'max_iter': 500, 'penalty': 'l2', 'solver': 'liblinear'}\n",
      "Classification Report:\n",
      "\n",
      "                      precision    recall  f1-score   support\n",
      "\n",
      "             Anxiety       0.96      0.98      0.97      3375\n",
      "             Bipolar       0.97      0.99      0.98      3214\n",
      "          Depression       0.78      0.67      0.72      3274\n",
      "              Normal       0.90      0.91      0.90      3325\n",
      "Personality disorder       0.98      1.00      0.99      3241\n",
      "              Stress       0.94      0.99      0.96      3209\n",
      "            Suicidal       0.75      0.77      0.76      3243\n",
      "\n",
      "            accuracy                           0.90     22881\n",
      "           macro avg       0.90      0.90      0.90     22881\n",
      "        weighted avg       0.90      0.90      0.90     22881\n",
      "\n",
      "ROC-AUC: 0.98\n"
     ]
    }
   ],
   "source": [
    "# Define the simplified parameter grid for hyperparameter tuning\n",
    "param_grid = {\n",
    "    'C': [1.0, 10.0],\n",
    "    'solver': ['liblinear'],  # Use a single solver to speed up the process\n",
    "    'penalty': ['l2'],\n",
    "    'max_iter': [500]  # Fixed max_iter to avoid long runs\n",
    "}\n",
    "\n",
    "# Call the function with the simplified parameter grid for hyperparameter tuning\n",
    "train_and_evaluate(X_resampled, y_resampled, param_grid=param_grid)"
   ]
  },
  {
   "cell_type": "markdown",
   "id": "f11dbde4-fee7-497a-9892-6704e2d09a99",
   "metadata": {},
   "source": [
    "# Traditional Deep Learning Models"
   ]
  },
  {
   "cell_type": "markdown",
   "id": "b72c364e-98fc-4fae-ad1f-683ce5412612",
   "metadata": {},
   "source": [
    "# LSTM"
   ]
  },
  {
   "cell_type": "code",
   "execution_count": 34,
   "id": "26c01dc6-4f65-4ae1-86ef-32c23f6f531b",
   "metadata": {},
   "outputs": [
    {
     "name": "stdout",
     "output_type": "stream",
     "text": [
      "Original dataset shape: Counter({'Normal': 16343, 'Depression': 15404, 'Suicidal': 10652, 'Anxiety': 3841, 'Bipolar': 2777, 'Stress': 2587, 'Personality disorder': 1077})\n",
      "Resampled dataset shape: {0: 16343, 1: 16343, 2: 16343, 3: 16343, 4: 16343, 5: 16343, 6: 16343}\n"
     ]
    }
   ],
   "source": [
    "from tensorflow.keras.models import Sequential\n",
    "from tensorflow.keras.layers import Embedding, LSTM, Dense\n",
    "from tensorflow.keras.preprocessing.text import Tokenizer\n",
    "from tensorflow.keras.preprocessing.sequence import pad_sequences\n",
    "from sklearn.model_selection import train_test_split\n",
    "from imblearn.over_sampling import SMOTE\n",
    "from collections import Counter\n",
    "from sklearn.metrics import classification_report, roc_auc_score\n",
    "import pandas as pd\n",
    "import numpy as np\n",
    "\n",
    "# Assuming df['cleaned_statement'] and df['status'] are already defined and preprocessed\n",
    "X = df['cleaned_statement']  # Use preprocessed text data\n",
    "y = df['status']  # Use the original status labels (categorical)\n",
    "\n",
    "# Tokenize the text data\n",
    "vocab_size = 2000  # Reduce vocabulary size\n",
    "tokenizer = Tokenizer(num_words=vocab_size)\n",
    "tokenizer.fit_on_texts(X)\n",
    "X_seq = tokenizer.texts_to_sequences(X)\n",
    "\n",
    "# Pad sequences to ensure uniform input size\n",
    "max_len = 100  # Set a fixed sequence length\n",
    "X_pad = pad_sequences(X_seq, maxlen=max_len)\n",
    "\n",
    "# Convert labels to numeric (one-hot encode)\n",
    "y_numeric = pd.get_dummies(y).values\n",
    "\n",
    "# Apply SMOTE to balance the dataset\n",
    "smote = SMOTE(sampling_strategy='auto', random_state=42)\n",
    "X_resampled, y_resampled = smote.fit_resample(X_pad, y_numeric)\n",
    "\n",
    "# Check the new class distribution, sorted by label\n",
    "resampled_counter = Counter(y_resampled.argmax(axis=1))\n",
    "sorted_resampled_counter = dict(sorted(resampled_counter.items()))\n",
    "\n",
    "print('Original dataset shape:', Counter(y))\n",
    "print('Resampled dataset shape:', sorted_resampled_counter)\n",
    "\n"
   ]
  },
  {
   "cell_type": "code",
   "execution_count": 35,
   "id": "54a9d08e-5b77-41b6-a313-3b666b9f0ebe",
   "metadata": {},
   "outputs": [
    {
     "name": "stdout",
     "output_type": "stream",
     "text": [
      "Epoch 1/5\n",
      "1430/1430 - 131s - 91ms/step - accuracy: 0.4451 - loss: 1.3555 - val_accuracy: 0.5050 - val_loss: 1.2120\n",
      "Epoch 2/5\n",
      "1430/1430 - 118s - 83ms/step - accuracy: 0.5303 - loss: 1.1515 - val_accuracy: 0.5240 - val_loss: 1.1578\n",
      "Epoch 3/5\n",
      "1430/1430 - 119s - 83ms/step - accuracy: 0.5565 - loss: 1.0868 - val_accuracy: 0.5356 - val_loss: 1.1414\n",
      "Epoch 4/5\n",
      "1430/1430 - 119s - 83ms/step - accuracy: 0.5755 - loss: 1.0456 - val_accuracy: 0.5345 - val_loss: 1.1377\n",
      "Epoch 5/5\n",
      "1430/1430 - 151s - 106ms/step - accuracy: 0.5903 - loss: 1.0089 - val_accuracy: 0.5437 - val_loss: 1.1248\n",
      "Test Accuracy: 0.54\n",
      "\u001b[1m716/716\u001b[0m \u001b[32m━━━━━━━━━━━━━━━━━━━━\u001b[0m\u001b[37m\u001b[0m \u001b[1m19s\u001b[0m 26ms/step\n",
      "\n",
      "Classification Report:\n",
      "              precision    recall  f1-score   support\n",
      "\n",
      "           0       0.56      0.33      0.41      3375\n",
      "           1       0.40      0.37      0.39      3214\n",
      "           2       0.71      0.67      0.69      3274\n",
      "           3       0.83      0.92      0.88      3325\n",
      "           4       0.38      0.48      0.42      3241\n",
      "           5       0.40      0.56      0.47      3209\n",
      "           6       0.61      0.47      0.53      3243\n",
      "\n",
      "    accuracy                           0.54     22881\n",
      "   macro avg       0.56      0.54      0.54     22881\n",
      "weighted avg       0.56      0.54      0.54     22881\n",
      "\n",
      "ROC-AUC: 0.87\n"
     ]
    }
   ],
   "source": [
    "# Split the resampled data into train and test sets\n",
    "X_train, X_test, y_train, y_test = train_test_split(X_resampled, y_resampled, test_size=0.2, random_state=42)\n",
    "\n",
    "# Build the simplified LSTM model\n",
    "model = Sequential()\n",
    "model.add(Embedding(input_dim=vocab_size, output_dim=64))  # Embedding layer\n",
    "model.add(LSTM(64, return_sequences=False))  # LSTM layer\n",
    "model.add(Dense(32, activation='relu'))\n",
    "model.add(Dense(y_train.shape[1], activation='softmax'))\n",
    "\n",
    "# Compile the model\n",
    "model.compile(loss='categorical_crossentropy', optimizer='adam', metrics=['accuracy'])\n",
    "\n",
    "# Train the model\n",
    "model.fit(X_train, y_train, epochs=5, batch_size=64, validation_data=(X_test, y_test), verbose=2)\n",
    "\n",
    "# Evaluate the model on the test data\n",
    "loss, accuracy = model.evaluate(X_test, y_test, verbose=0)\n",
    "print(f'Test Accuracy: {accuracy:.2f}')\n",
    "\n",
    "# Predict probabilities\n",
    "y_pred_prob = model.predict(X_test)\n",
    "\n",
    "# Convert predicted probabilities to class labels\n",
    "y_pred = np.argmax(y_pred_prob, axis=1)\n",
    "y_test_class = np.argmax(y_test, axis=1)\n",
    "\n",
    "# Classification report\n",
    "print(\"\\nClassification Report:\")\n",
    "print(classification_report(y_test_class, y_pred))\n",
    "\n",
    "# Calculate ROC-AUC score\n",
    "roc_auc = roc_auc_score(y_test, y_pred_prob, multi_class='ovr')\n",
    "print(f'ROC-AUC: {roc_auc:.2f}')\n"
   ]
  },
  {
   "cell_type": "markdown",
   "id": "8ea08b81-7dfb-4b84-a3da-687137e0a853",
   "metadata": {},
   "source": [
    "# Hyperparameter Tuning:"
   ]
  },
  {
   "cell_type": "code",
   "execution_count": 32,
   "id": "8b843501-c643-4e4a-b21b-ac44ed13e5b7",
   "metadata": {},
   "outputs": [
    {
     "name": "stdout",
     "output_type": "stream",
     "text": [
      "Original dataset shape: Counter({'Normal': 16343, 'Depression': 15404, 'Suicidal': 10652, 'Anxiety': 3841, 'Bipolar': 2777, 'Stress': 2587, 'Personality disorder': 1077})\n",
      "Resampled dataset shape: {0: 16343, 1: 16343, 2: 16343, 3: 16343, 4: 16343, 5: 16343, 6: 16343}\n",
      "Epoch 1/5\n",
      "1430/1430 - 131s - 92ms/step - accuracy: 0.4444 - loss: 1.3592 - val_accuracy: 0.4950 - val_loss: 1.2380\n",
      "Epoch 2/5\n",
      "1430/1430 - 144s - 101ms/step - accuracy: 0.5309 - loss: 1.1539 - val_accuracy: 0.5276 - val_loss: 1.1482\n",
      "Epoch 3/5\n",
      "1430/1430 - 145s - 101ms/step - accuracy: 0.5537 - loss: 1.0933 - val_accuracy: 0.5344 - val_loss: 1.1266\n",
      "Epoch 4/5\n",
      "1430/1430 - 134s - 94ms/step - accuracy: 0.5694 - loss: 1.0562 - val_accuracy: 0.5393 - val_loss: 1.1270\n",
      "Epoch 5/5\n",
      "1430/1430 - 127s - 89ms/step - accuracy: 0.5826 - loss: 1.0227 - val_accuracy: 0.5408 - val_loss: 1.1217\n",
      "Test Accuracy: 0.54\n",
      "\u001b[1m716/716\u001b[0m \u001b[32m━━━━━━━━━━━━━━━━━━━━\u001b[0m\u001b[37m\u001b[0m \u001b[1m21s\u001b[0m 28ms/step\n",
      "\n",
      "Classification Report:\n",
      "              precision    recall  f1-score   support\n",
      "\n",
      "           0       0.54      0.32      0.40      3375\n",
      "           1       0.55      0.24      0.34      3214\n",
      "           2       0.69      0.68      0.69      3274\n",
      "           3       0.85      0.90      0.88      3325\n",
      "           4       0.34      0.57      0.43      3241\n",
      "           5       0.40      0.62      0.48      3209\n",
      "           6       0.61      0.46      0.52      3243\n",
      "\n",
      "    accuracy                           0.54     22881\n",
      "   macro avg       0.57      0.54      0.53     22881\n",
      "weighted avg       0.57      0.54      0.53     22881\n",
      "\n",
      "ROC-AUC: 0.87\n"
     ]
    }
   ],
   "source": [
    "\"\"\"\n",
    "from tensorflow.keras.models import Sequential\n",
    "from tensorflow.keras.layers import Embedding, LSTM, Dense\n",
    "from tensorflow.keras.preprocessing.text import Tokenizer\n",
    "from tensorflow.keras.preprocessing.sequence import pad_sequences\n",
    "from sklearn.model_selection import train_test_split\n",
    "from imblearn.over_sampling import SMOTE\n",
    "from collections import Counter\n",
    "from sklearn.metrics import classification_report, roc_auc_score\n",
    "import pandas as pd\n",
    "import numpy as np\n",
    "\n",
    "# Assuming df['cleaned_statement'] and df['status'] are already defined and preprocessed\n",
    "X = df['cleaned_statement']  # Use preprocessed text data\n",
    "y = df['status']  # Use the original status labels (categorical)\n",
    "\n",
    "def preprocess_data(vocab_size=2000, max_len=100):\n",
    "    # Tokenize the text data\n",
    "    tokenizer = Tokenizer(num_words=vocab_size)\n",
    "    tokenizer.fit_on_texts(X)\n",
    "    X_seq = tokenizer.texts_to_sequences(X)\n",
    "\n",
    "    # Pad sequences to ensure uniform input size\n",
    "    X_pad = pad_sequences(X_seq, maxlen=max_len)\n",
    "\n",
    "    # Convert labels to numeric (one-hot encode)\n",
    "    y_numeric = pd.get_dummies(y).values\n",
    "\n",
    "    return X_pad, y_numeric, tokenizer\n",
    "\n",
    "def oversample_data(X_pad, y_numeric, random_state=42):\n",
    "    # Apply SMOTE to balance the dataset\n",
    "    smote = SMOTE(sampling_strategy='auto', random_state=random_state)\n",
    "    X_resampled, y_resampled = smote.fit_resample(X_pad, y_numeric)\n",
    "\n",
    "    # Check the new class distribution, sorted by label\n",
    "    resampled_counter = Counter(y_resampled.argmax(axis=1))\n",
    "    sorted_resampled_counter = dict(sorted(resampled_counter.items()))\n",
    "\n",
    "    print('Original dataset shape:', Counter(y))\n",
    "    print('Resampled dataset shape:', sorted_resampled_counter)\n",
    "\n",
    "    return X_resampled, y_resampled\n",
    "\n",
    "def build_model(vocab_size, output_dim=64, lstm_units=64, dense_units=32):\n",
    "    # Build the simplified LSTM model\n",
    "    model = Sequential()\n",
    "    model.add(Embedding(input_dim=vocab_size, output_dim=output_dim))  # Embedding layer\n",
    "    model.add(LSTM(lstm_units, return_sequences=False))  # LSTM layer\n",
    "    model.add(Dense(dense_units, activation='relu'))\n",
    "    model.add(Dense(y_train.shape[1], activation='softmax'))\n",
    "\n",
    "    # Compile the model\n",
    "    model.compile(loss='categorical_crossentropy', optimizer='adam', metrics=['accuracy'])\n",
    "\n",
    "    return model\n",
    "\n",
    "def train_model(model, X_train, y_train, X_test, y_test, epochs=5, batch_size=64, verbose=2):\n",
    "    # Train the model\n",
    "    model.fit(X_train, y_train, epochs=epochs, batch_size=batch_size, validation_data=(X_test, y_test), verbose=verbose)\n",
    "\n",
    "    return model\n",
    "\n",
    "def evaluate_model(model, X_test, y_test):\n",
    "    # Evaluate the model on the test data\n",
    "    loss, accuracy = model.evaluate(X_test, y_test, verbose=0)\n",
    "    print(f'Test Accuracy: {accuracy:.2f}')\n",
    "\n",
    "    # Predict probabilities\n",
    "    y_pred_prob = model.predict(X_test)\n",
    "\n",
    "    # Convert predicted probabilities to class labels\n",
    "    y_pred = np.argmax(y_pred_prob, axis=1)\n",
    "    y_test_class = np.argmax(y_test, axis=1)\n",
    "\n",
    "    # Classification report\n",
    "    print(\"\\nClassification Report:\")\n",
    "    print(classification_report(y_test_class, y_pred))\n",
    "\n",
    "    # Calculate ROC-AUC score\n",
    "    roc_auc = roc_auc_score(y_test, y_pred_prob, multi_class='ovr')\n",
    "    print(f'ROC-AUC: {roc_auc:.2f}')\n",
    "\n",
    "# Preprocess data\n",
    "X_pad, y_numeric, tokenizer = preprocess_data(vocab_size=2000, max_len=100)\n",
    "\n",
    "# Oversample data\n",
    "X_resampled, y_resampled = oversample_data(X_pad, y_numeric, random_state=42)\n",
    "\n",
    "# Split the resampled data into train and test sets\n",
    "X_train, X_test, y_train, y_test = train_test_split(X_resampled, y_resampled, test_size=0.2, random_state=42)\n",
    "\n",
    "# Build the model\n",
    "model = build_model(vocab_size=2000, output_dim=64, lstm_units=64, dense_units=32)\n",
    "\n",
    "# Train the model\n",
    "model = train_model(model, X_train, y_train, X_test, y_test, epochs=5, batch_size=64, verbose=2)\n",
    "\n",
    "# Evaluate the model\n",
    "evaluate_model(model, X_test, y_test)"
   ]
  },
  {
   "cell_type": "code",
   "execution_count": 33,
   "id": "ec923f38-2f7c-4086-a133-de6fb69814a5",
   "metadata": {},
   "outputs": [
    {
     "name": "stdout",
     "output_type": "stream",
     "text": [
      "Epoch 1/5\n",
      "1430/1430 - 129s - 90ms/step - accuracy: 0.4310 - loss: 1.3831 - val_accuracy: 0.4967 - val_loss: 1.2293\n",
      "Epoch 2/5\n",
      "1430/1430 - 126s - 88ms/step - accuracy: 0.5192 - loss: 1.1828 - val_accuracy: 0.5298 - val_loss: 1.1488\n",
      "Epoch 3/5\n",
      "1430/1430 - 143s - 100ms/step - accuracy: 0.5473 - loss: 1.1127 - val_accuracy: 0.5344 - val_loss: 1.1298\n",
      "Epoch 4/5\n",
      "1430/1430 - 130s - 91ms/step - accuracy: 0.5625 - loss: 1.0754 - val_accuracy: 0.5420 - val_loss: 1.1188\n",
      "Epoch 5/5\n",
      "1430/1430 - 126s - 88ms/step - accuracy: 0.5727 - loss: 1.0488 - val_accuracy: 0.5439 - val_loss: 1.1194\n",
      "Test Accuracy: 0.54\n",
      "\u001b[1m716/716\u001b[0m \u001b[32m━━━━━━━━━━━━━━━━━━━━\u001b[0m\u001b[37m\u001b[0m \u001b[1m21s\u001b[0m 29ms/step\n",
      "\n",
      "Classification Report:\n",
      "              precision    recall  f1-score   support\n",
      "\n",
      "           0       0.59      0.31      0.41      3375\n",
      "           1       0.44      0.35      0.39      3214\n",
      "           2       0.68      0.69      0.69      3274\n",
      "           3       0.85      0.91      0.88      3325\n",
      "           4       0.35      0.52      0.42      3241\n",
      "           5       0.40      0.58      0.47      3209\n",
      "           6       0.63      0.44      0.52      3243\n",
      "\n",
      "    accuracy                           0.54     22881\n",
      "   macro avg       0.57      0.54      0.54     22881\n",
      "weighted avg       0.57      0.54      0.54     22881\n",
      "\n",
      "ROC-AUC: 0.87\n"
     ]
    }
   ],
   "source": [
    "\"\"\"\n",
    "from tensorflow.keras.models import Sequential\n",
    "from tensorflow.keras.layers import Embedding, LSTM, Dense, Dropout\n",
    "from tensorflow.keras.preprocessing.text import Tokenizer\n",
    "from tensorflow.keras.preprocessing.sequence import pad_sequences\n",
    "from sklearn.model_selection import train_test_split\n",
    "from imblearn.over_sampling import SMOTE\n",
    "from collections import Counter\n",
    "from sklearn.metrics import classification_report, roc_auc_score\n",
    "import pandas as pd\n",
    "import numpy as np\n",
    "\n",
    "def preprocess_data(df, vocab_size=2000, max_len=100):\n",
    "    \"\"\"\n",
    "    Tokenizes and pads the text data, applies SMOTE, and splits the data into training and test sets.\n",
    "    \n",
    "    Args:\n",
    "    - df: DataFrame containing 'cleaned_statement' and 'status'.\n",
    "    - vocab_size: Number of words to keep in the tokenizer.\n",
    "    - max_len: Maximum length of sequences for padding.\n",
    "    \n",
    "    Returns:\n",
    "    - X_train, X_test, y_train, y_test: Split and resampled data.\n",
    "    \"\"\"\n",
    "    X = df['cleaned_statement']\n",
    "    y = df['status']\n",
    "    \n",
    "    # Tokenize the text data\n",
    "    tokenizer = Tokenizer(num_words=vocab_size)\n",
    "    tokenizer.fit_on_texts(X)\n",
    "    X_seq = tokenizer.texts_to_sequences(X)\n",
    "    \n",
    "    # Pad sequences to ensure uniform input size\n",
    "    X_pad = pad_sequences(X_seq, maxlen=max_len)\n",
    "    \n",
    "    # Convert labels to numeric (one-hot encode)\n",
    "    y_numeric = pd.get_dummies(y).values\n",
    "    \n",
    "    # Apply SMOTE to balance the dataset\n",
    "    smote = SMOTE(sampling_strategy='auto', random_state=42)\n",
    "    X_resampled, y_resampled = smote.fit_resample(X_pad, y_numeric)\n",
    "    \n",
    "    # Split the resampled data into train and test sets\n",
    "    X_train, X_test, y_train, y_test = train_test_split(X_resampled, y_resampled, test_size=0.2, random_state=42)\n",
    "    \n",
    "    return X_train, X_test, y_train, y_test, tokenizer\n",
    "\n",
    "def build_and_train_lstm(X_train, y_train, X_test, y_test, vocab_size=2000, embedding_dim=64, lstm_units=64, dropout_rate=0.2, epochs=5, batch_size=64):\n",
    "    \"\"\"\n",
    "    Builds, compiles, and trains an LSTM model with specified hyperparameters.\n",
    "    \n",
    "    Args:\n",
    "    - X_train, y_train: Training data.\n",
    "    - X_test, y_test: Test data.\n",
    "    - vocab_size: Size of the vocabulary.\n",
    "    - embedding_dim: Dimension of the embedding layer.\n",
    "    - lstm_units: Number of units in the LSTM layer.\n",
    "    - dropout_rate: Dropout rate.\n",
    "    - epochs: Number of training epochs.\n",
    "    - batch_size: Batch size for training.\n",
    "    \n",
    "    Returns:\n",
    "    - model: Trained Keras model.\n",
    "    \"\"\"\n",
    "    # Build the LSTM model\n",
    "    model = Sequential()\n",
    "    model.add(Embedding(input_dim=vocab_size, output_dim=embedding_dim))\n",
    "    model.add(LSTM(lstm_units, return_sequences=False))\n",
    "    model.add(Dropout(dropout_rate))\n",
    "    model.add(Dense(32, activation='relu'))\n",
    "    model.add(Dense(y_train.shape[1], activation='softmax'))\n",
    "    \n",
    "    # Compile the model\n",
    "    model.compile(loss='categorical_crossentropy', optimizer='adam', metrics=['accuracy'])\n",
    "    \n",
    "    # Train the model\n",
    "    model.fit(X_train, y_train, epochs=epochs, batch_size=batch_size, validation_data=(X_test, y_test), verbose=2)\n",
    "    \n",
    "    return model\n",
    "\n",
    "def evaluate_model(model, X_test, y_test):\n",
    "    \"\"\"\n",
    "    Evaluates the model and prints performance metrics.\n",
    "    \n",
    "    Args:\n",
    "    - model: Trained Keras model.\n",
    "    - X_test, y_test: Test data.\n",
    "    \n",
    "    Returns:\n",
    "    - None\n",
    "    \"\"\"\n",
    "    # Evaluate the model\n",
    "    loss, accuracy = model.evaluate(X_test, y_test, verbose=0)\n",
    "    print(f'Test Accuracy: {accuracy:.2f}')\n",
    "    \n",
    "    # Predict probabilities\n",
    "    y_pred_prob = model.predict(X_test)\n",
    "    \n",
    "    # Convert predicted probabilities to class labels\n",
    "    y_pred = np.argmax(y_pred_prob, axis=1)\n",
    "    y_test_class = np.argmax(y_test, axis=1)\n",
    "    \n",
    "    # Classification report\n",
    "    print(\"\\nClassification Report:\")\n",
    "    print(classification_report(y_test_class, y_pred))\n",
    "    \n",
    "    # Calculate ROC-AUC score\n",
    "    roc_auc = roc_auc_score(y_test, y_pred_prob, multi_class='ovr')\n",
    "    print(f'ROC-AUC: {roc_auc:.2f}')\n",
    "\n",
    "# Main execution\n",
    "if __name__ == \"__main__\":\n",
    "    # Load and preprocess data\n",
    "    #df = pd.read_csv('Combined Data.csv/Combined Data.csv')\n",
    "    #df = df.drop(columns=['Unnamed: 0'])\n",
    "    #df = df.dropna()\n",
    "    \n",
    "    # Hyperparameters\n",
    "    vocab_size = 2000\n",
    "    max_len = 100\n",
    "    embedding_dim = 64\n",
    "    lstm_units = 64\n",
    "    dropout_rate = 0.2\n",
    "    epochs = 5\n",
    "    batch_size = 64\n",
    "    \n",
    "    # Preprocess data\n",
    "    X_train, X_test, y_train, y_test, tokenizer = preprocess_data(df, vocab_size, max_len)\n",
    "    \n",
    "    # Build and train the model\n",
    "    model = build_and_train_lstm(X_train, y_train, X_test, y_test, vocab_size, embedding_dim, lstm_units, dropout_rate, epochs, batch_size)\n",
    "    \n",
    "    # Evaluate the model\n",
    "    evaluate_model(model, X_test, y_test)\n"
   ]
  },
  {
   "cell_type": "code",
   "execution_count": 34,
   "id": "a07cf75a-0932-453e-967e-895d2a671dab",
   "metadata": {},
   "outputs": [
    {
     "name": "stdout",
     "output_type": "stream",
     "text": [
      "Epoch 1/5\n",
      "1430/1430 - 133s - 93ms/step - accuracy: 0.4338 - loss: 1.3815 - val_accuracy: 0.4966 - val_loss: 1.2280\n",
      "Epoch 2/5\n",
      "1430/1430 - 131s - 92ms/step - accuracy: 0.5198 - loss: 1.1847 - val_accuracy: 0.5207 - val_loss: 1.1674\n",
      "Epoch 3/5\n",
      "1430/1430 - 138s - 96ms/step - accuracy: 0.5467 - loss: 1.1184 - val_accuracy: 0.5289 - val_loss: 1.1501\n",
      "Epoch 4/5\n",
      "1430/1430 - 146s - 102ms/step - accuracy: 0.5629 - loss: 1.0798 - val_accuracy: 0.5374 - val_loss: 1.1215\n",
      "Epoch 5/5\n",
      "1430/1430 - 145s - 101ms/step - accuracy: 0.5721 - loss: 1.0501 - val_accuracy: 0.5417 - val_loss: 1.1221\n",
      "Test Accuracy: 0.54\n",
      "\u001b[1m716/716\u001b[0m \u001b[32m━━━━━━━━━━━━━━━━━━━━\u001b[0m\u001b[37m\u001b[0m \u001b[1m21s\u001b[0m 28ms/step\n",
      "\n",
      "Classification Report:\n",
      "              precision    recall  f1-score   support\n",
      "\n",
      "           0       0.60      0.31      0.41      3375\n",
      "           1       0.43      0.37      0.40      3214\n",
      "           2       0.72      0.66      0.69      3274\n",
      "           3       0.84      0.91      0.88      3325\n",
      "           4       0.36      0.45      0.40      3241\n",
      "           5       0.38      0.63      0.48      3209\n",
      "           6       0.62      0.46      0.53      3243\n",
      "\n",
      "    accuracy                           0.54     22881\n",
      "   macro avg       0.56      0.54      0.54     22881\n",
      "weighted avg       0.57      0.54      0.54     22881\n",
      "\n",
      "ROC-AUC: 0.87\n"
     ]
    }
   ],
   "source": [
    "from tensorflow.keras.models import Sequential\n",
    "from tensorflow.keras.layers import Embedding, LSTM, Dense, Dropout\n",
    "from tensorflow.keras.preprocessing.text import Tokenizer\n",
    "from tensorflow.keras.preprocessing.sequence import pad_sequences\n",
    "from sklearn.model_selection import train_test_split\n",
    "from imblearn.over_sampling import SMOTE\n",
    "from collections import Counter\n",
    "from sklearn.metrics import classification_report, roc_auc_score\n",
    "import pandas as pd\n",
    "import numpy as np\n",
    "\n",
    "def preprocess_data(df, vocab_size, max_len):\n",
    "    \"\"\"\n",
    "    Tokenizes and pads the text data, applies SMOTE, and splits the data into training and test sets.\n",
    "    \n",
    "    Args:\n",
    "    - df: DataFrame containing 'cleaned_statement' and 'status'.\n",
    "    - vocab_size: Number of words to keep in the tokenizer.\n",
    "    - max_len: Maximum length of sequences for padding.\n",
    "    \n",
    "    Returns:\n",
    "    - X_train, X_test, y_train, y_test: Split and resampled data.\n",
    "    \"\"\"\n",
    "    X = df['cleaned_statement']\n",
    "    y = df['status']\n",
    "    \n",
    "    # Tokenize the text data\n",
    "    tokenizer = Tokenizer(num_words=vocab_size)\n",
    "    tokenizer.fit_on_texts(X)\n",
    "    X_seq = tokenizer.texts_to_sequences(X)\n",
    "    \n",
    "    # Pad sequences to ensure uniform input size\n",
    "    X_pad = pad_sequences(X_seq, maxlen=max_len)\n",
    "    \n",
    "    # Convert labels to numeric (one-hot encode)\n",
    "    y_numeric = pd.get_dummies(y).values\n",
    "    \n",
    "    # Apply SMOTE to balance the dataset\n",
    "    smote = SMOTE(sampling_strategy='auto', random_state=42)\n",
    "    X_resampled, y_resampled = smote.fit_resample(X_pad, y_numeric)\n",
    "    \n",
    "    # Split the resampled data into train and test sets\n",
    "    X_train, X_test, y_train, y_test = train_test_split(X_resampled, y_resampled, test_size=0.2, random_state=42)\n",
    "    \n",
    "    return X_train, X_test, y_train, y_test, tokenizer\n",
    "\n",
    "def build_and_train_lstm(X_train, y_train, X_test, y_test, vocab_size, embedding_dim, lstm_units, dropout_rate, epochs, batch_size):\n",
    "    \"\"\"\n",
    "    Builds, compiles, and trains an LSTM model with specified hyperparameters.\n",
    "    \n",
    "    Args:\n",
    "    - X_train, y_train: Training data.\n",
    "    - X_test, y_test: Test data.\n",
    "    - vocab_size: Size of the vocabulary.\n",
    "    - embedding_dim: Dimension of the embedding layer.\n",
    "    - lstm_units: Number of units in the LSTM layer.\n",
    "    - dropout_rate: Dropout rate.\n",
    "    - epochs: Number of training epochs.\n",
    "    - batch_size: Batch size for training.\n",
    "    \n",
    "    Returns:\n",
    "    - model: Trained Keras model.\n",
    "    \"\"\"\n",
    "    # Build the LSTM model\n",
    "    model = Sequential()\n",
    "    model.add(Embedding(input_dim=vocab_size, output_dim=embedding_dim))\n",
    "    model.add(LSTM(lstm_units, return_sequences=False))\n",
    "    model.add(Dropout(dropout_rate))\n",
    "    model.add(Dense(32, activation='relu'))\n",
    "    model.add(Dense(y_train.shape[1], activation='softmax'))\n",
    "    \n",
    "    # Compile the model\n",
    "    model.compile(loss='categorical_crossentropy', optimizer='adam', metrics=['accuracy'])\n",
    "    \n",
    "    # Train the model\n",
    "    model.fit(X_train, y_train, epochs=epochs, batch_size=batch_size, validation_data=(X_test, y_test), verbose=2)\n",
    "    \n",
    "    return model\n",
    "\n",
    "def evaluate_model(model, X_test, y_test):\n",
    "    \"\"\"\n",
    "    Evaluates the model and prints performance metrics.\n",
    "    \n",
    "    Args:\n",
    "    - model: Trained Keras model.\n",
    "    - X_test, y_test: Test data.\n",
    "    \n",
    "    Returns:\n",
    "    - None\n",
    "    \"\"\"\n",
    "    # Evaluate the model\n",
    "    loss, accuracy = model.evaluate(X_test, y_test, verbose=0)\n",
    "    print(f'Test Accuracy: {accuracy:.2f}')\n",
    "    \n",
    "    # Predict probabilities\n",
    "    y_pred_prob = model.predict(X_test)\n",
    "    \n",
    "    # Convert predicted probabilities to class labels\n",
    "    y_pred = np.argmax(y_pred_prob, axis=1)\n",
    "    y_test_class = np.argmax(y_test, axis=1)\n",
    "    \n",
    "    # Classification report\n",
    "    print(\"\\nClassification Report:\")\n",
    "    print(classification_report(y_test_class, y_pred))\n",
    "    \n",
    "    # Calculate ROC-AUC score\n",
    "    roc_auc = roc_auc_score(y_test, y_pred_prob, multi_class='ovr')\n",
    "    print(f'ROC-AUC: {roc_auc:.2f}')\n",
    "\n",
    "# Main execution\n",
    "if __name__ == \"__main__\":\n",
    "    # Load and preprocess data\n",
    "    #df = pd.read_csv('Combined Data.csv/Combined Data.csv')\n",
    "    #df = df.drop(columns=['Unnamed: 0'])\n",
    "    #df = df.dropna()\n",
    "    \n",
    "    # Hyperparameters\n",
    "    vocab_size = 2000\n",
    "    max_len = 150\n",
    "    embedding_dim = 64\n",
    "    lstm_units = 64\n",
    "    dropout_rate = 0.2\n",
    "    epochs = 5\n",
    "    batch_size = 64\n",
    "    \n",
    "    # Preprocess data\n",
    "    X_train, X_test, y_train, y_test, tokenizer = preprocess_data(df, vocab_size, max_len)\n",
    "    \n",
    "    # Build and train the model\n",
    "    model = build_and_train_lstm(X_train, y_train, X_test, y_test, vocab_size, embedding_dim, lstm_units, dropout_rate, epochs, batch_size)\n",
    "    \n",
    "    # Evaluate the model\n",
    "    evaluate_model(model, X_test, y_test)\n"
   ]
  },
  {
   "cell_type": "code",
   "execution_count": 37,
   "id": "2a024d63-50e2-4eba-93d4-d3f5f2d11d43",
   "metadata": {},
   "outputs": [
    {
     "name": "stdout",
     "output_type": "stream",
     "text": [
      "Epoch 1/5\n",
      "1430/1430 - 196s - 137ms/step - accuracy: 0.4351 - loss: 1.3775 - val_accuracy: 0.4921 - val_loss: 1.2313\n",
      "Epoch 2/5\n",
      "1430/1430 - 199s - 139ms/step - accuracy: 0.5214 - loss: 1.1756 - val_accuracy: 0.5305 - val_loss: 1.1494\n",
      "Epoch 3/5\n",
      "1430/1430 - 211s - 147ms/step - accuracy: 0.5484 - loss: 1.1140 - val_accuracy: 0.5333 - val_loss: 1.1303\n",
      "Epoch 4/5\n",
      "1430/1430 - 194s - 136ms/step - accuracy: 0.5619 - loss: 1.0753 - val_accuracy: 0.5390 - val_loss: 1.1270\n",
      "Epoch 5/5\n",
      "1430/1430 - 199s - 139ms/step - accuracy: 0.5715 - loss: 1.0490 - val_accuracy: 0.5452 - val_loss: 1.1220\n",
      "Test Accuracy: 0.55\n",
      "\u001b[1m716/716\u001b[0m \u001b[32m━━━━━━━━━━━━━━━━━━━━\u001b[0m\u001b[37m\u001b[0m \u001b[1m27s\u001b[0m 38ms/step\n",
      "\n",
      "Classification Report:\n",
      "              precision    recall  f1-score   support\n",
      "\n",
      "           0       0.63      0.31      0.41      3375\n",
      "           1       0.43      0.37      0.40      3214\n",
      "           2       0.69      0.71      0.70      3274\n",
      "           3       0.86      0.89      0.88      3325\n",
      "           4       0.36      0.50      0.42      3241\n",
      "           5       0.40      0.61      0.49      3209\n",
      "           6       0.60      0.42      0.50      3243\n",
      "\n",
      "    accuracy                           0.55     22881\n",
      "   macro avg       0.57      0.54      0.54     22881\n",
      "weighted avg       0.57      0.55      0.54     22881\n",
      "\n",
      "ROC-AUC: 0.87\n"
     ]
    }
   ],
   "source": [
    "\"\"\"\n",
    "# Main execution\n",
    "if __name__ == \"__main__\":\n",
    "    # Load and preprocess data\n",
    "    #df = pd.read_csv('Combined Data.csv/Combined Data.csv')\n",
    "    #df = df.drop(columns=['Unnamed: 0'])\n",
    "    #df = df.dropna()\n",
    "    \n",
    "    # Hyperparameters\n",
    "    vocab_size = 2000\n",
    "    max_len = 150\n",
    "    embedding_dim = 64\n",
    "    lstm_units = 64\n",
    "    dropout_rate = 0.2\n",
    "    epochs = 5\n",
    "    batch_size = 64\n",
    "    \n",
    "    # Preprocess data\n",
    "    X_train, X_test, y_train, y_test, tokenizer = preprocess_data(df, vocab_size, max_len)\n",
    "    \n",
    "    # Build and train the model\n",
    "    model = build_and_train_lstm(X_train, y_train, X_test, y_test, vocab_size, embedding_dim, lstm_units, dropout_rate, epochs, batch_size)\n",
    "    \n",
    "    # Evaluate the model\n",
    "    evaluate_model(model, X_test, y_test)"
   ]
  },
  {
   "cell_type": "code",
   "execution_count": 39,
   "id": "1161134a-eec5-4899-9d62-68333d1043a8",
   "metadata": {},
   "outputs": [
    {
     "name": "stdout",
     "output_type": "stream",
     "text": [
      "Epoch 1/5\n",
      "2860/2860 - 748s - 261ms/step - accuracy: 0.4543 - loss: 1.3359 - val_accuracy: 0.5090 - val_loss: 1.1909\n",
      "Epoch 2/5\n",
      "2860/2860 - 1002s - 350ms/step - accuracy: 0.5296 - loss: 1.1520 - val_accuracy: 0.5357 - val_loss: 1.1249\n",
      "Epoch 3/5\n",
      "2860/2860 - 738s - 258ms/step - accuracy: 0.5546 - loss: 1.0867 - val_accuracy: 0.5409 - val_loss: 1.1020\n",
      "Epoch 4/5\n",
      "2860/2860 - 736s - 257ms/step - accuracy: 0.5712 - loss: 1.0431 - val_accuracy: 0.5438 - val_loss: 1.1064\n",
      "Epoch 5/5\n",
      "2860/2860 - 737s - 258ms/step - accuracy: 0.5885 - loss: 1.0057 - val_accuracy: 0.5484 - val_loss: 1.0913\n",
      "Test Accuracy: 0.55\n",
      "\u001b[1m716/716\u001b[0m \u001b[32m━━━━━━━━━━━━━━━━━━━━\u001b[0m\u001b[37m\u001b[0m \u001b[1m69s\u001b[0m 95ms/step\n",
      "\n",
      "Classification Report:\n",
      "              precision    recall  f1-score   support\n",
      "\n",
      "           0       0.51      0.38      0.43      3375\n",
      "           1       0.42      0.38      0.40      3214\n",
      "           2       0.74      0.65      0.69      3274\n",
      "           3       0.84      0.92      0.88      3325\n",
      "           4       0.38      0.47      0.42      3241\n",
      "           5       0.42      0.55      0.48      3209\n",
      "           6       0.59      0.49      0.53      3243\n",
      "\n",
      "    accuracy                           0.55     22881\n",
      "   macro avg       0.56      0.55      0.55     22881\n",
      "weighted avg       0.56      0.55      0.55     22881\n",
      "\n",
      "ROC-AUC: 0.88\n"
     ]
    }
   ],
   "source": [
    "# Main execution\n",
    "if __name__ == \"__main__\":\n",
    "    # Load and preprocess data\n",
    "    #df = pd.read_csv('Combined Data.csv/Combined Data.csv')\n",
    "    #df = df.drop(columns=['Unnamed: 0'])\n",
    "    #df = df.dropna()\n",
    "    \n",
    "    # Hyperparameters\n",
    "    vocab_size = 2000\n",
    "    max_len = 300\n",
    "    embedding_dim = 128\n",
    "    lstm_units = 128\n",
    "    dropout_rate = 0.3\n",
    "    epochs = 5\n",
    "    batch_size = 32\n",
    "    \n",
    "    # Preprocess data\n",
    "    X_train, X_test, y_train, y_test, tokenizer = preprocess_data(df, vocab_size, max_len)\n",
    "    \n",
    "    # Build and train the model\n",
    "    model = build_and_train_lstm(X_train, y_train, X_test, y_test, vocab_size, embedding_dim, lstm_units, dropout_rate, epochs, batch_size)\n",
    "    \n",
    "    # Evaluate the model\n",
    "    evaluate_model(model, X_test, y_test)"
   ]
  },
  {
   "cell_type": "code",
   "execution_count": null,
   "id": "47ff85fa-fe5b-4fcf-88b8-2effb8ff4386",
   "metadata": {},
   "outputs": [
    {
     "name": "stdout",
     "output_type": "stream",
     "text": [
      "Epoch 1/10\n"
     ]
    }
   ],
   "source": [
    "if __name__ == \"__main__\":\n",
    "    \n",
    "    vocab_size = 5000\n",
    "    max_len = 400\n",
    "    embedding_dim = 200\n",
    "    lstm_units = 256\n",
    "    dropout_rate = 0.2\n",
    "    epochs = 10\n",
    "    batch_size = 64# Preprocess data\n",
    "    X_train, X_test, y_train, y_test, tokenizer = preprocess_data(df, vocab_size, max_len)\n",
    "    \n",
    "    # Build and train the model\n",
    "    model = build_and_train_lstm(X_train, y_train, X_test, y_test, vocab_size, embedding_dim, lstm_units, dropout_rate, epochs, batch_size)\n",
    "    \n",
    "    # Evaluate the model\n",
    "    evaluate_model(model, X_test, y_test)\n"
   ]
  },
  {
   "cell_type": "markdown",
   "id": "0f18ff71-9f81-4c4b-84df-257c1487ed9b",
   "metadata": {},
   "source": [
    "# CNN"
   ]
  },
  {
   "cell_type": "code",
   "execution_count": 36,
   "id": "aa19a208-04f4-4278-b242-a4761c8b7c2b",
   "metadata": {},
   "outputs": [
    {
     "name": "stdout",
     "output_type": "stream",
     "text": [
      "Original dataset shape: Counter({'Normal': 16343, 'Depression': 15404, 'Suicidal': 10652, 'Anxiety': 3841, 'Bipolar': 2777, 'Stress': 2587, 'Personality disorder': 1077})\n",
      "Resampled dataset shape: {0: 16343, 1: 16343, 2: 16343, 3: 16343, 4: 16343, 5: 16343, 6: 16343}\n"
     ]
    }
   ],
   "source": [
    "from tensorflow.keras.models import Sequential\n",
    "from tensorflow.keras.layers import Embedding, Conv1D, MaxPooling1D, Flatten, Dense, Dropout\n",
    "from tensorflow.keras.preprocessing.text import Tokenizer\n",
    "from tensorflow.keras.preprocessing.sequence import pad_sequences\n",
    "from sklearn.model_selection import train_test_split\n",
    "from imblearn.over_sampling import SMOTE\n",
    "from collections import Counter\n",
    "from sklearn.metrics import classification_report, roc_auc_score\n",
    "import pandas as pd\n",
    "import numpy as np\n",
    "\n",
    "# Assuming df['cleaned_statement'] and df['status'] are already defined and preprocessed\n",
    "X = df['cleaned_statement']  # Use preprocessed text data\n",
    "y = df['status']  # Use the original status labels (categorical)\n",
    "\n",
    "# Tokenize the text data\n",
    "vocab_size = 2000  # Reduce vocabulary size\n",
    "tokenizer = Tokenizer(num_words=vocab_size)\n",
    "tokenizer.fit_on_texts(X)\n",
    "X_seq = tokenizer.texts_to_sequences(X)\n",
    "\n",
    "# Pad sequences to ensure uniform input size\n",
    "max_len = 100  # Set a fixed sequence length\n",
    "X_pad = pad_sequences(X_seq, maxlen=max_len)\n",
    "\n",
    "# Convert labels to numeric (one-hot encode)\n",
    "y_numeric = pd.get_dummies(y).values\n",
    "\n",
    "# Apply SMOTE to balance the dataset\n",
    "smote = SMOTE(sampling_strategy='auto', random_state=42)\n",
    "X_resampled, y_resampled = smote.fit_resample(X_pad, y_numeric)\n",
    "\n",
    "# Check the new class distribution, sorted by label\n",
    "resampled_counter = Counter(y_resampled.argmax(axis=1))\n",
    "sorted_resampled_counter = dict(sorted(resampled_counter.items()))\n",
    "\n",
    "print('Original dataset shape:', Counter(y))\n",
    "print('Resampled dataset shape:', sorted_resampled_counter)\n",
    "\n"
   ]
  },
  {
   "cell_type": "code",
   "execution_count": 38,
   "id": "cc755813-f812-4056-9a61-203e1c0994a8",
   "metadata": {},
   "outputs": [
    {
     "name": "stdout",
     "output_type": "stream",
     "text": [
      "Epoch 1/5\n",
      "1430/1430 - 56s - 39ms/step - accuracy: 0.4287 - loss: 1.4037 - val_accuracy: 0.5001 - val_loss: 1.2314\n",
      "Epoch 2/5\n",
      "1430/1430 - 81s - 57ms/step - accuracy: 0.5255 - loss: 1.1843 - val_accuracy: 0.5309 - val_loss: 1.1626\n",
      "Epoch 3/5\n",
      "1430/1430 - 80s - 56ms/step - accuracy: 0.5602 - loss: 1.1041 - val_accuracy: 0.5388 - val_loss: 1.1392\n",
      "Epoch 4/5\n",
      "1430/1430 - 85s - 59ms/step - accuracy: 0.5854 - loss: 1.0484 - val_accuracy: 0.5420 - val_loss: 1.1349\n",
      "Epoch 5/5\n",
      "1430/1430 - 54s - 38ms/step - accuracy: 0.6048 - loss: 1.0016 - val_accuracy: 0.5413 - val_loss: 1.1450\n",
      "Test Accuracy: 0.54\n",
      "\u001b[1m716/716\u001b[0m \u001b[32m━━━━━━━━━━━━━━━━━━━━\u001b[0m\u001b[37m\u001b[0m \u001b[1m12s\u001b[0m 16ms/step\n",
      "\n",
      "Classification Report:\n",
      "              precision    recall  f1-score   support\n",
      "\n",
      "           0       0.45      0.40      0.42      3375\n",
      "           1       0.39      0.45      0.42      3214\n",
      "           2       0.70      0.64      0.67      3274\n",
      "           3       0.87      0.88      0.87      3325\n",
      "           4       0.43      0.41      0.42      3241\n",
      "           5       0.42      0.53      0.47      3209\n",
      "           6       0.58      0.47      0.52      3243\n",
      "\n",
      "    accuracy                           0.54     22881\n",
      "   macro avg       0.55      0.54      0.54     22881\n",
      "weighted avg       0.55      0.54      0.54     22881\n",
      "\n",
      "ROC-AUC: 0.87\n"
     ]
    }
   ],
   "source": [
    "# Split the resampled data into train and test sets\n",
    "X_train, X_test, y_train, y_test = train_test_split(X_resampled, y_resampled, test_size=0.2, random_state=42)\n",
    "\n",
    "# Build the CNN model\n",
    "model = Sequential()\n",
    "model.add(Embedding(input_dim=vocab_size, output_dim=64))  # Embedding layer without input_length\n",
    "model.add(Conv1D(filters=128, kernel_size=5, activation='relu'))  # Convolutional layer\n",
    "model.add(MaxPooling1D(pool_size=2))  # Max pooling layer\n",
    "model.add(Dropout(0.5))  # Dropout layer\n",
    "model.add(Flatten())  # Flatten the output\n",
    "model.add(Dense(32, activation='relu'))  # Fully connected layer\n",
    "model.add(Dense(y_train.shape[1], activation='softmax'))  # Output layer\n",
    "\n",
    "# Compile the model\n",
    "model.compile(loss='categorical_crossentropy', optimizer='adam', metrics=['accuracy'])\n",
    "\n",
    "# Train the model\n",
    "model.fit(X_train, y_train, epochs=5, batch_size=64, validation_data=(X_test, y_test), verbose=2)\n",
    "\n",
    "# Evaluate the model on the test data\n",
    "loss, accuracy = model.evaluate(X_test, y_test, verbose=0)\n",
    "print(f'Test Accuracy: {accuracy:.2f}')\n",
    "\n",
    "# Predict probabilities\n",
    "y_pred_prob = model.predict(X_test)\n",
    "\n",
    "# Convert predicted probabilities to class labels\n",
    "y_pred = np.argmax(y_pred_prob, axis=1)\n",
    "y_test_class = np.argmax(y_test, axis=1)\n",
    "\n",
    "# Classification report\n",
    "print(\"\\nClassification Report:\")\n",
    "print(classification_report(y_test_class, y_pred))\n",
    "\n",
    "# Calculate ROC-AUC score\n",
    "roc_auc = roc_auc_score(y_test, y_pred_prob, multi_class='ovr')\n",
    "print(f'ROC-AUC: {roc_auc:.2f}')"
   ]
  },
  {
   "cell_type": "markdown",
   "id": "01c5d2e0-0f6f-4f81-a1f3-6bb0224794d3",
   "metadata": {},
   "source": [
    "# Hyperparameter Tuning:"
   ]
  },
  {
   "cell_type": "code",
   "execution_count": null,
   "id": "8bacc14c-ec8c-48aa-a008-7421c2e9eae4",
   "metadata": {},
   "outputs": [],
   "source": [
    "from tensorflow.keras.models import Sequential\n",
    "from tensorflow.keras.layers import Embedding, Conv1D, MaxPooling1D, Flatten, Dense, Dropout\n",
    "from sklearn.metrics import classification_report, roc_auc_score\n",
    "from sklearn.base import BaseEstimator, ClassifierMixin\n",
    "import numpy as np\n",
    "from imblearn.over_sampling import SMOTE\n",
    "from sklearn.model_selection import train_test_split\n",
    "from sklearn.model_selection import GridSearchCV\n",
    "\n",
    "class KerasClassifierCustom(BaseEstimator, ClassifierMixin):\n",
    "    def __init__(self, vocab_size, embedding_dim, conv_filters, kernel_size, pool_size, dropout_rate, dense_units, num_classes, epochs=5, batch_size=64, verbose=2):\n",
    "        self.vocab_size = vocab_size\n",
    "        self.embedding_dim = embedding_dim\n",
    "        self.conv_filters = conv_filters\n",
    "        self.kernel_size = kernel_size\n",
    "        self.pool_size = pool_size\n",
    "        self.dropout_rate = dropout_rate\n",
    "        self.dense_units = dense_units\n",
    "        self.num_classes = num_classes\n",
    "        self.epochs = epochs\n",
    "        self.batch_size = batch_size\n",
    "        self.verbose = verbose\n",
    "\n",
    "    def build_model(self):\n",
    "        model = Sequential()\n",
    "        model.add(Embedding(input_dim=self.vocab_size, output_dim=self.embedding_dim, input_length=max_len))\n",
    "        model.add(Conv1D(filters=self.conv_filters, kernel_size=self.kernel_size, activation='relu'))\n",
    "        model.add(MaxPooling1D(pool_size=self.pool_size))\n",
    "        model.add(Dropout(self.dropout_rate))\n",
    "        model.add(Flatten())\n",
    "        model.add(Dense(self.dense_units, activation='relu'))\n",
    "        model.add(Dense(self.num_classes, activation='softmax'))\n",
    "\n",
    "        model.compile(loss='categorical_crossentropy', optimizer='adam', metrics=['accuracy'])\n",
    "        return model\n",
    "\n",
    "    def fit(self, X, y):\n",
    "        self.model = self.build_model()\n",
    "        self.model.fit(X, y, epochs=self.epochs, batch_size=self.batch_size, verbose=self.verbose)\n",
    "        return self\n",
    "\n",
    "    def predict(self, X):\n",
    "        return np.argmax(self.model.predict(X), axis=1)\n",
    "\n",
    "    def score(self, X, y):\n",
    "        return self.model.evaluate(X, y, verbose=0)[1]\n",
    "\n",
    "param_grid = {\n",
    "    'vocab_size': [1000, 2000],\n",
    "    'embedding_dim': [50, 64],\n",
    "    'conv_filters': [64, 128],\n",
    "    'kernel_size': [3, 5],\n",
    "    'pool_size': [2, 3],\n",
    "    'dropout_rate': [0.3, 0.5],\n",
    "    'dense_units': [16, 32]\n",
    "}\n",
    "\n",
    "smote = SMOTE(sampling_strategy='auto', random_state=42)\n",
    "X_resampled, y_resampled = smote.fit_resample(X_pad, y_numeric)\n",
    "\n",
    "X_train, X_test, y_train, y_test = train_test_split(X_resampled, y_resampled, test_size=0.2, random_state=42)\n",
    "\n",
    "model = KerasClassifierCustom(\n",
    "    vocab_size=2000,\n",
    "    embedding_dim=64,\n",
    "    conv_filters=128,\n",
    "    kernel_size=5,\n",
    "    pool_size=2,\n",
    "    dropout_rate=0.5,\n",
    "    dense_units=32,\n",
    "    num_classes=y_train.shape[1]\n",
    ")\n",
    "\n",
    "grid = GridSearchCV(estimator=model, param_grid=param_grid, n_jobs=-1, cv=3, scoring='accuracy')\n",
    "grid_result = grid.fit(X_train, y_train)\n",
    "\n",
    "print(\"Best Parameters:\", grid_result.best_params_)\n",
    "print(\"Best Score:\", grid_result.best_score_)\n",
    "\n",
    "best_model = grid_result.best_estimator_\n",
    "loss, accuracy = best_model.model.evaluate(X_test, y_test, verbose=0)\n",
    "print(f'Test Accuracy: {accuracy:.2f}')\n",
    "\n",
    "y_pred_prob = best_model.model.predict(X_test)\n",
    "y_pred = np.argmax(y_pred_prob, axis=1)\n",
    "y_test_class = np.argmax(y_test, axis=1)\n",
    "\n",
    "print(\"\\nClassification Report:\")\n",
    "print(classification_report(y_test_class, y_pred))\n",
    "\n",
    "roc_auc = roc_auc_score(y_test, y_pred_prob, multi_class='ovr')\n",
    "print(f'ROC-AUC: {roc_auc:.2f}')\n"
   ]
  },
  {
   "cell_type": "markdown",
   "id": "fa8e5fa6-9f15-4296-add3-a067e659c550",
   "metadata": {},
   "source": [
    "# checking GPU:"
   ]
  },
  {
   "cell_type": "code",
   "execution_count": 32,
   "id": "64b78fae-f01f-492b-b0db-6048b3df8a0d",
   "metadata": {},
   "outputs": [
    {
     "name": "stdout",
     "output_type": "stream",
     "text": [
      "Num GPUs Available:  0\n"
     ]
    }
   ],
   "source": [
    "import tensorflow as tf\n",
    "print(\"Num GPUs Available: \", len(tf.config.list_physical_devices('GPU')))\n"
   ]
  },
  {
   "cell_type": "code",
   "execution_count": 33,
   "id": "50d1721b-bb6f-4af5-99ea-91187291270e",
   "metadata": {},
   "outputs": [
    {
     "name": "stdout",
     "output_type": "stream",
     "text": [
      "2.17.0\n"
     ]
    }
   ],
   "source": [
    "print(tf.__version__)\n"
   ]
  },
  {
   "cell_type": "code",
   "execution_count": 34,
   "id": "4b7cd5dc-7f80-4ef8-a2ec-2c273bae5f0c",
   "metadata": {},
   "outputs": [
    {
     "name": "stdout",
     "output_type": "stream",
     "text": [
      "3.11.9\n"
     ]
    }
   ],
   "source": [
    "from platform import python_version\n",
    "print(python_version())\n"
   ]
  },
  {
   "cell_type": "code",
   "execution_count": null,
   "id": "2249802e-9b2d-4577-a141-e19a93044e97",
   "metadata": {},
   "outputs": [],
   "source": []
  }
 ],
 "metadata": {
  "kernelspec": {
   "display_name": "Python 3 (ipykernel)",
   "language": "python",
   "name": "python3"
  },
  "language_info": {
   "codemirror_mode": {
    "name": "ipython",
    "version": 3
   },
   "file_extension": ".py",
   "mimetype": "text/x-python",
   "name": "python",
   "nbconvert_exporter": "python",
   "pygments_lexer": "ipython3",
   "version": "3.10.14"
  }
 },
 "nbformat": 4,
 "nbformat_minor": 5
}
